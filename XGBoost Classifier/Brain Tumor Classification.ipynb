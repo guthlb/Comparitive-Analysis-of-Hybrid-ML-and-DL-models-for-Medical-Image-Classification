{
 "cells": [
  {
   "cell_type": "code",
   "execution_count": 1,
   "metadata": {
    "execution": {
     "iopub.execute_input": "2025-06-06T06:13:42.464281Z",
     "iopub.status.busy": "2025-06-06T06:13:42.464036Z",
     "iopub.status.idle": "2025-06-06T06:13:48.223070Z",
     "shell.execute_reply": "2025-06-06T06:13:48.222260Z",
     "shell.execute_reply.started": "2025-06-06T06:13:42.464262Z"
    },
    "id": "XfKfArX0YAxR",
    "trusted": true
   },
   "outputs": [],
   "source": [
    "import os\n",
    "import numpy as np\n",
    "import pandas as pd\n",
    "from PIL import Image\n",
    "import cv2\n",
    "from sklearn.model_selection import train_test_split\n",
    "from sklearn.preprocessing import LabelEncoder\n",
    "from sklearn.metrics import accuracy_score, classification_report, confusion_matrix\n",
    "import xgboost as xgb\n",
    "from xgboost import XGBClassifier\n",
    "import matplotlib.pyplot as plt\n",
    "import seaborn as sns\n"
   ]
  },
  {
   "cell_type": "code",
   "execution_count": null,
   "metadata": {
    "colab": {
     "base_uri": "https://localhost:8080/"
    },
    "execution": {
     "iopub.execute_input": "2025-06-06T06:13:48.224190Z",
     "iopub.status.busy": "2025-06-06T06:13:48.223834Z",
     "iopub.status.idle": "2025-06-06T06:13:48.422138Z",
     "shell.execute_reply": "2025-06-06T06:13:48.421350Z",
     "shell.execute_reply.started": "2025-06-06T06:13:48.224166Z"
    },
    "id": "rNCvK5A4akfn",
    "outputId": "def7345d-b8b7-439f-c06a-6a67ff346b50",
    "trusted": true
   },
   "outputs": [
    {
     "name": "stdout",
     "output_type": "stream",
     "text": [
      "Total images: 3264\n",
      "Total training images: 1304\n",
      "Total validation images: 162\n",
      "Total testing images: 1798\n"
     ]
    }
   ],
   "source": [
    "import os\n",
    "import random\n",
    "\n",
    "# Use the correct base directory and class names\n",
    "base_dir = '/kaggle/input/brain-tumor-classification-mri'\n",
    "classes = ['glioma_tumor', 'meningioma_tumor', 'pituitary_tumor', 'no_tumor']\n",
    "\n",
    "# Collect all image paths for each class from Training and Testing folders\n",
    "class_images = {cls: [] for cls in classes}\n",
    "\n",
    "for cls in classes:\n",
    "    train_dir = os.path.join(base_dir, 'Training', cls)\n",
    "    test_dir = os.path.join(base_dir, 'Testing', cls)\n",
    "    if os.path.exists(train_dir):\n",
    "        class_images[cls].extend([os.path.join(train_dir, f) for f in os.listdir(train_dir) if f.lower().endswith(('.png', '.jpg', '.jpeg'))])\n",
    "    if os.path.exists(test_dir):\n",
    "        class_images[cls].extend([os.path.join(test_dir, f) for f in os.listdir(test_dir) if f.lower().endswith(('.png', '.jpg', '.jpeg'))])\n",
    "\n",
    "# Use dedicated random generator for reproducibility\n",
    "rng = random.Random(10)\n",
    "\n",
    "# Split 40% train, 5% val, 55% test for each class\n",
    "train_split = {cls: [] for cls in classes}\n",
    "val_split = {cls: [] for cls in classes}\n",
    "test_split = {cls: [] for cls in classes}\n",
    "\n",
    "for cls in classes:\n",
    "    imgs = class_images[cls]\n",
    "    rng.shuffle(imgs)\n",
    "    total = len(imgs)\n",
    "    train_size = int(0.4 * total)  # Changed from 0.6 to 0.4\n",
    "    val_size = int(0.05 * total)\n",
    "    test_size = total - train_size - val_size\n",
    "    train_split[cls] = imgs[:train_size]\n",
    "    val_split[cls] = imgs[train_size:train_size+val_size]\n",
    "    test_split[cls] = imgs[train_size+val_size:]\n",
    "\n",
    "# Flatten into lists\n",
    "all_train = []\n",
    "all_val = []\n",
    "all_test = []\n",
    "for cls in classes:\n",
    "    all_train.extend(train_split[cls])\n",
    "    all_val.extend(val_split[cls])\n",
    "    all_test.extend(test_split[cls])\n",
    "\n",
    "# Shuffle the final lists with the same RNG for reproducibility\n",
    "rng.shuffle(all_train)\n",
    "rng.shuffle(all_val)\n",
    "rng.shuffle(all_test)\n",
    "\n",
    "# Print statistics\n",
    "print(\"Total images:\", len(all_train) + len(all_val) + len(all_test))\n",
    "print(\"Total training images:\", len(all_train))\n",
    "print(\"Total validation images:\", len(all_val))\n",
    "print(\"Total testing images:\", len(all_test))"
   ]
  },
  {
   "cell_type": "code",
   "execution_count": 3,
   "metadata": {
    "execution": {
     "iopub.execute_input": "2025-06-06T06:13:48.424140Z",
     "iopub.status.busy": "2025-06-06T06:13:48.423918Z",
     "iopub.status.idle": "2025-06-06T06:13:48.430248Z",
     "shell.execute_reply": "2025-06-06T06:13:48.429334Z",
     "shell.execute_reply.started": "2025-06-06T06:13:48.424121Z"
    },
    "id": "AsXVcuMPhVWi",
    "trusted": true
   },
   "outputs": [],
   "source": [
    "def load_and_preprocess_images(image_paths, target_size=(150, 150)):\n",
    "    \"\"\"\n",
    "    Load and preprocess images following melanoma study approach\n",
    "    \"\"\"\n",
    "    images = []\n",
    "    labels = []\n",
    "\n",
    "    print(f\"Loading {len(image_paths)} images...\")\n",
    "\n",
    "    for img_path in image_paths:\n",
    "        try:\n",
    "            # Extract label from path\n",
    "            label = img_path.split('/')[-2]  # Get folder name as label\n",
    "\n",
    "            # Load and resize image\n",
    "            img = cv2.imread(img_path)\n",
    "            img = cv2.resize(img, target_size)\n",
    "            img = cv2.cvtColor(img, cv2.COLOR_BGR2RGB)\n",
    "\n",
    "            images.append(img)\n",
    "            labels.append(label)\n",
    "\n",
    "        except Exception as e:\n",
    "            print(f\"Error loading {img_path}: {e}\")\n",
    "\n",
    "    return np.array(images), np.array(labels)"
   ]
  },
  {
   "cell_type": "code",
   "execution_count": 4,
   "metadata": {
    "execution": {
     "iopub.execute_input": "2025-06-06T06:13:48.431454Z",
     "iopub.status.busy": "2025-06-06T06:13:48.431113Z",
     "iopub.status.idle": "2025-06-06T06:13:48.450283Z",
     "shell.execute_reply": "2025-06-06T06:13:48.449598Z",
     "shell.execute_reply.started": "2025-06-06T06:13:48.431430Z"
    },
    "id": "QW_pi4vHhZOc",
    "trusted": true
   },
   "outputs": [],
   "source": [
    "def preprocess_for_xgboost(images):\n",
    "    \"\"\"\n",
    "    Preprocess images for XGBoost: Reshaping, Flattening, Casting, Normalization\n",
    "    \"\"\"\n",
    "    # Flatten images: 150x150x3 = 67,500 features\n",
    "    n_samples = images.shape[0]\n",
    "    height, width, channels = images.shape[1], images.shape[2], images.shape[3]\n",
    "\n",
    "    # Flatten and normalize\n",
    "    X_flattened = images.reshape(n_samples, height * width * channels)\n",
    "    X_normalized = X_flattened.astype('float32') / 255.0\n",
    "\n",
    "    print(f\"Preprocessed data shape: {X_normalized.shape}\")\n",
    "    print(f\"Features: {X_normalized.shape[1]} (pixel-RGB values)\")\n",
    "\n",
    "    return X_normalized"
   ]
  },
  {
   "cell_type": "code",
   "execution_count": 5,
   "metadata": {
    "colab": {
     "base_uri": "https://localhost:8080/"
    },
    "execution": {
     "iopub.execute_input": "2025-06-06T06:13:48.451549Z",
     "iopub.status.busy": "2025-06-06T06:13:48.451057Z",
     "iopub.status.idle": "2025-06-06T06:14:33.739617Z",
     "shell.execute_reply": "2025-06-06T06:14:33.738986Z",
     "shell.execute_reply.started": "2025-06-06T06:13:48.451526Z"
    },
    "id": "TyICZnt3hclX",
    "outputId": "e394b2e6-6c40-4b6f-d57c-03777139a45d",
    "trusted": true
   },
   "outputs": [
    {
     "name": "stdout",
     "output_type": "stream",
     "text": [
      "Loading 1304 images...\n",
      "Preprocessed data shape: (1304, 67500)\n",
      "Features: 67500 (pixel-RGB values)\n",
      "Loading 162 images...\n",
      "Preprocessed data shape: (162, 67500)\n",
      "Features: 67500 (pixel-RGB values)\n",
      "Loading 1798 images...\n",
      "Preprocessed data shape: (1798, 67500)\n",
      "Features: 67500 (pixel-RGB values)\n"
     ]
    }
   ],
   "source": [
    "# Step 1: Load and preprocess training data\n",
    "X_train_images, y_train_labels = load_and_preprocess_images(all_train)\n",
    "X_train = preprocess_for_xgboost(X_train_images)\n",
    "\n",
    "# Step 2: Load and preprocess validation data\n",
    "X_val_images, y_val_labels = load_and_preprocess_images(all_val)\n",
    "X_val = preprocess_for_xgboost(X_val_images)\n",
    "\n",
    "# Step 3: Load and preprocess test data\n",
    "X_test_images, y_test_labels = load_and_preprocess_images(all_test)\n",
    "X_test = preprocess_for_xgboost(X_test_images)"
   ]
  },
  {
   "cell_type": "code",
   "execution_count": 6,
   "metadata": {
    "colab": {
     "base_uri": "https://localhost:8080/"
    },
    "execution": {
     "iopub.execute_input": "2025-06-06T06:14:33.740517Z",
     "iopub.status.busy": "2025-06-06T06:14:33.740273Z",
     "iopub.status.idle": "2025-06-06T06:14:33.746573Z",
     "shell.execute_reply": "2025-06-06T06:14:33.745915Z",
     "shell.execute_reply.started": "2025-06-06T06:14:33.740496Z"
    },
    "id": "yaoNav1YhgvX",
    "outputId": "836c2c2e-7821-4eed-adb5-391d66837f2a",
    "trusted": true
   },
   "outputs": [
    {
     "name": "stdout",
     "output_type": "stream",
     "text": [
      "\n",
      "Class mapping: {'glioma_tumor': 0, 'meningioma_tumor': 1, 'no_tumor': 2, 'pituitary_tumor': 3}\n"
     ]
    }
   ],
   "source": [
    "# Step 4: Encode labels\n",
    "label_encoder = LabelEncoder()\n",
    "y_train = label_encoder.fit_transform(y_train_labels)\n",
    "y_val = label_encoder.transform(y_val_labels)\n",
    "y_test = label_encoder.transform(y_test_labels)\n",
    "\n",
    "print(f\"\\nClass mapping: {dict(zip(label_encoder.classes_, range(len(label_encoder.classes_))))}\")"
   ]
  },
  {
   "cell_type": "code",
   "execution_count": 7,
   "metadata": {
    "execution": {
     "iopub.execute_input": "2025-06-06T06:14:33.747587Z",
     "iopub.status.busy": "2025-06-06T06:14:33.747341Z",
     "iopub.status.idle": "2025-06-06T06:14:33.768239Z",
     "shell.execute_reply": "2025-06-06T06:14:33.767716Z",
     "shell.execute_reply.started": "2025-06-06T06:14:33.747572Z"
    },
    "id": "VOyO4LwDhnTE",
    "trusted": true
   },
   "outputs": [],
   "source": [
    "# Step 5: XGBoost Model Configuration\n",
    "\n",
    "xgb_params = {\n",
    "    'objective': 'multi:softprob',  # Multi-class classification\n",
    "    'num_class': len(label_encoder.classes_),\n",
    "    'max_depth': 6,\n",
    "    'learning_rate': 0.1,\n",
    "    'n_estimators': 200,\n",
    "    'subsample': 0.8,\n",
    "    'colsample_bytree': 0.8,\n",
    "    'random_state': 42,\n",
    "    'eval_metric': 'mlogloss',\n",
    "    'verbosity': 1,\n",
    "    'early_stopping_rounds': 20\n",
    "}"
   ]
  },
  {
   "cell_type": "code",
   "execution_count": 8,
   "metadata": {
    "execution": {
     "iopub.execute_input": "2025-06-06T06:14:33.769278Z",
     "iopub.status.busy": "2025-06-06T06:14:33.769032Z",
     "iopub.status.idle": "2025-06-06T06:33:22.377096Z",
     "shell.execute_reply": "2025-06-06T06:33:22.376358Z",
     "shell.execute_reply.started": "2025-06-06T06:14:33.769254Z"
    },
    "id": "4jL7Xy0_hvc4",
    "trusted": true
   },
   "outputs": [
    {
     "name": "stdout",
     "output_type": "stream",
     "text": [
      "[0]\tvalidation_0-mlogloss:1.27795\n",
      "[1]\tvalidation_0-mlogloss:1.19410\n",
      "[2]\tvalidation_0-mlogloss:1.11789\n",
      "[3]\tvalidation_0-mlogloss:1.05776\n",
      "[4]\tvalidation_0-mlogloss:1.00044\n",
      "[5]\tvalidation_0-mlogloss:0.94865\n",
      "[6]\tvalidation_0-mlogloss:0.90411\n",
      "[7]\tvalidation_0-mlogloss:0.86084\n",
      "[8]\tvalidation_0-mlogloss:0.83032\n",
      "[9]\tvalidation_0-mlogloss:0.79477\n",
      "[10]\tvalidation_0-mlogloss:0.76370\n",
      "[11]\tvalidation_0-mlogloss:0.73821\n",
      "[12]\tvalidation_0-mlogloss:0.71175\n",
      "[13]\tvalidation_0-mlogloss:0.68720\n",
      "[14]\tvalidation_0-mlogloss:0.66166\n",
      "[15]\tvalidation_0-mlogloss:0.64039\n",
      "[16]\tvalidation_0-mlogloss:0.62749\n",
      "[17]\tvalidation_0-mlogloss:0.60971\n",
      "[18]\tvalidation_0-mlogloss:0.59002\n",
      "[19]\tvalidation_0-mlogloss:0.57846\n",
      "[20]\tvalidation_0-mlogloss:0.56636\n",
      "[21]\tvalidation_0-mlogloss:0.55235\n",
      "[22]\tvalidation_0-mlogloss:0.53960\n",
      "[23]\tvalidation_0-mlogloss:0.53191\n",
      "[24]\tvalidation_0-mlogloss:0.52249\n",
      "[25]\tvalidation_0-mlogloss:0.51569\n",
      "[26]\tvalidation_0-mlogloss:0.50949\n",
      "[27]\tvalidation_0-mlogloss:0.50070\n",
      "[28]\tvalidation_0-mlogloss:0.49370\n",
      "[29]\tvalidation_0-mlogloss:0.48668\n",
      "[30]\tvalidation_0-mlogloss:0.48010\n",
      "[31]\tvalidation_0-mlogloss:0.47296\n",
      "[32]\tvalidation_0-mlogloss:0.46974\n",
      "[33]\tvalidation_0-mlogloss:0.46451\n",
      "[34]\tvalidation_0-mlogloss:0.45794\n",
      "[35]\tvalidation_0-mlogloss:0.45512\n",
      "[36]\tvalidation_0-mlogloss:0.45146\n",
      "[37]\tvalidation_0-mlogloss:0.44819\n",
      "[38]\tvalidation_0-mlogloss:0.44517\n",
      "[39]\tvalidation_0-mlogloss:0.44034\n",
      "[40]\tvalidation_0-mlogloss:0.43803\n",
      "[41]\tvalidation_0-mlogloss:0.43449\n",
      "[42]\tvalidation_0-mlogloss:0.43241\n",
      "[43]\tvalidation_0-mlogloss:0.42902\n",
      "[44]\tvalidation_0-mlogloss:0.42793\n",
      "[45]\tvalidation_0-mlogloss:0.42650\n",
      "[46]\tvalidation_0-mlogloss:0.42335\n",
      "[47]\tvalidation_0-mlogloss:0.42110\n",
      "[48]\tvalidation_0-mlogloss:0.41978\n",
      "[49]\tvalidation_0-mlogloss:0.41889\n",
      "[50]\tvalidation_0-mlogloss:0.41566\n",
      "[51]\tvalidation_0-mlogloss:0.41498\n",
      "[52]\tvalidation_0-mlogloss:0.41213\n",
      "[53]\tvalidation_0-mlogloss:0.41189\n",
      "[54]\tvalidation_0-mlogloss:0.40872\n",
      "[55]\tvalidation_0-mlogloss:0.40815\n",
      "[56]\tvalidation_0-mlogloss:0.40854\n",
      "[57]\tvalidation_0-mlogloss:0.40627\n",
      "[58]\tvalidation_0-mlogloss:0.40466\n",
      "[59]\tvalidation_0-mlogloss:0.40371\n",
      "[60]\tvalidation_0-mlogloss:0.40312\n",
      "[61]\tvalidation_0-mlogloss:0.40203\n",
      "[62]\tvalidation_0-mlogloss:0.40112\n",
      "[63]\tvalidation_0-mlogloss:0.40016\n",
      "[64]\tvalidation_0-mlogloss:0.39967\n",
      "[65]\tvalidation_0-mlogloss:0.39805\n",
      "[66]\tvalidation_0-mlogloss:0.39559\n",
      "[67]\tvalidation_0-mlogloss:0.39456\n",
      "[68]\tvalidation_0-mlogloss:0.39266\n",
      "[69]\tvalidation_0-mlogloss:0.39318\n",
      "[70]\tvalidation_0-mlogloss:0.39309\n",
      "[71]\tvalidation_0-mlogloss:0.39094\n",
      "[72]\tvalidation_0-mlogloss:0.39028\n",
      "[73]\tvalidation_0-mlogloss:0.39031\n",
      "[74]\tvalidation_0-mlogloss:0.39044\n",
      "[75]\tvalidation_0-mlogloss:0.38983\n",
      "[76]\tvalidation_0-mlogloss:0.38912\n",
      "[77]\tvalidation_0-mlogloss:0.38785\n",
      "[78]\tvalidation_0-mlogloss:0.38558\n",
      "[79]\tvalidation_0-mlogloss:0.38426\n",
      "[80]\tvalidation_0-mlogloss:0.38476\n",
      "[81]\tvalidation_0-mlogloss:0.38559\n",
      "[82]\tvalidation_0-mlogloss:0.38511\n",
      "[83]\tvalidation_0-mlogloss:0.38534\n",
      "[84]\tvalidation_0-mlogloss:0.38512\n",
      "[85]\tvalidation_0-mlogloss:0.38455\n",
      "[86]\tvalidation_0-mlogloss:0.38524\n",
      "[87]\tvalidation_0-mlogloss:0.38588\n",
      "[88]\tvalidation_0-mlogloss:0.38510\n",
      "[89]\tvalidation_0-mlogloss:0.38461\n",
      "[90]\tvalidation_0-mlogloss:0.38404\n",
      "[91]\tvalidation_0-mlogloss:0.38368\n",
      "[92]\tvalidation_0-mlogloss:0.38485\n",
      "[93]\tvalidation_0-mlogloss:0.38522\n",
      "[94]\tvalidation_0-mlogloss:0.38471\n",
      "[95]\tvalidation_0-mlogloss:0.38478\n",
      "[96]\tvalidation_0-mlogloss:0.38385\n",
      "[97]\tvalidation_0-mlogloss:0.38456\n",
      "[98]\tvalidation_0-mlogloss:0.38523\n",
      "[99]\tvalidation_0-mlogloss:0.38483\n",
      "[100]\tvalidation_0-mlogloss:0.38515\n",
      "[101]\tvalidation_0-mlogloss:0.38432\n",
      "[102]\tvalidation_0-mlogloss:0.38372\n",
      "[103]\tvalidation_0-mlogloss:0.38355\n",
      "[104]\tvalidation_0-mlogloss:0.38311\n",
      "[105]\tvalidation_0-mlogloss:0.38360\n",
      "[106]\tvalidation_0-mlogloss:0.38343\n",
      "[107]\tvalidation_0-mlogloss:0.38284\n",
      "[108]\tvalidation_0-mlogloss:0.38334\n",
      "[109]\tvalidation_0-mlogloss:0.38308\n",
      "[110]\tvalidation_0-mlogloss:0.38396\n",
      "[111]\tvalidation_0-mlogloss:0.38261\n",
      "[112]\tvalidation_0-mlogloss:0.38304\n",
      "[113]\tvalidation_0-mlogloss:0.38310\n",
      "[114]\tvalidation_0-mlogloss:0.38246\n",
      "[115]\tvalidation_0-mlogloss:0.38315\n",
      "[116]\tvalidation_0-mlogloss:0.38354\n",
      "[117]\tvalidation_0-mlogloss:0.38346\n",
      "[118]\tvalidation_0-mlogloss:0.38329\n",
      "[119]\tvalidation_0-mlogloss:0.38355\n",
      "[120]\tvalidation_0-mlogloss:0.38416\n",
      "[121]\tvalidation_0-mlogloss:0.38375\n",
      "[122]\tvalidation_0-mlogloss:0.38216\n",
      "[123]\tvalidation_0-mlogloss:0.38134\n",
      "[124]\tvalidation_0-mlogloss:0.38224\n",
      "[125]\tvalidation_0-mlogloss:0.38280\n",
      "[126]\tvalidation_0-mlogloss:0.38171\n",
      "[127]\tvalidation_0-mlogloss:0.38055\n",
      "[128]\tvalidation_0-mlogloss:0.38123\n",
      "[129]\tvalidation_0-mlogloss:0.38089\n",
      "[130]\tvalidation_0-mlogloss:0.38043\n",
      "[131]\tvalidation_0-mlogloss:0.38077\n",
      "[132]\tvalidation_0-mlogloss:0.38001\n",
      "[133]\tvalidation_0-mlogloss:0.37997\n",
      "[134]\tvalidation_0-mlogloss:0.37983\n",
      "[135]\tvalidation_0-mlogloss:0.38027\n",
      "[136]\tvalidation_0-mlogloss:0.38062\n",
      "[137]\tvalidation_0-mlogloss:0.37993\n",
      "[138]\tvalidation_0-mlogloss:0.38109\n",
      "[139]\tvalidation_0-mlogloss:0.38170\n",
      "[140]\tvalidation_0-mlogloss:0.38113\n",
      "[141]\tvalidation_0-mlogloss:0.38207\n",
      "[142]\tvalidation_0-mlogloss:0.38303\n",
      "[143]\tvalidation_0-mlogloss:0.38373\n",
      "[144]\tvalidation_0-mlogloss:0.38313\n",
      "[145]\tvalidation_0-mlogloss:0.38316\n",
      "[146]\tvalidation_0-mlogloss:0.38257\n",
      "[147]\tvalidation_0-mlogloss:0.38198\n",
      "[148]\tvalidation_0-mlogloss:0.38236\n",
      "[149]\tvalidation_0-mlogloss:0.38327\n",
      "[150]\tvalidation_0-mlogloss:0.38287\n",
      "[151]\tvalidation_0-mlogloss:0.38351\n",
      "[152]\tvalidation_0-mlogloss:0.38433\n",
      "[153]\tvalidation_0-mlogloss:0.38369\n",
      "[154]\tvalidation_0-mlogloss:0.38311\n"
     ]
    },
    {
     "data": {
      "text/html": [
       "<style>#sk-container-id-1 {color: black;background-color: white;}#sk-container-id-1 pre{padding: 0;}#sk-container-id-1 div.sk-toggleable {background-color: white;}#sk-container-id-1 label.sk-toggleable__label {cursor: pointer;display: block;width: 100%;margin-bottom: 0;padding: 0.3em;box-sizing: border-box;text-align: center;}#sk-container-id-1 label.sk-toggleable__label-arrow:before {content: \"▸\";float: left;margin-right: 0.25em;color: #696969;}#sk-container-id-1 label.sk-toggleable__label-arrow:hover:before {color: black;}#sk-container-id-1 div.sk-estimator:hover label.sk-toggleable__label-arrow:before {color: black;}#sk-container-id-1 div.sk-toggleable__content {max-height: 0;max-width: 0;overflow: hidden;text-align: left;background-color: #f0f8ff;}#sk-container-id-1 div.sk-toggleable__content pre {margin: 0.2em;color: black;border-radius: 0.25em;background-color: #f0f8ff;}#sk-container-id-1 input.sk-toggleable__control:checked~div.sk-toggleable__content {max-height: 200px;max-width: 100%;overflow: auto;}#sk-container-id-1 input.sk-toggleable__control:checked~label.sk-toggleable__label-arrow:before {content: \"▾\";}#sk-container-id-1 div.sk-estimator input.sk-toggleable__control:checked~label.sk-toggleable__label {background-color: #d4ebff;}#sk-container-id-1 div.sk-label input.sk-toggleable__control:checked~label.sk-toggleable__label {background-color: #d4ebff;}#sk-container-id-1 input.sk-hidden--visually {border: 0;clip: rect(1px 1px 1px 1px);clip: rect(1px, 1px, 1px, 1px);height: 1px;margin: -1px;overflow: hidden;padding: 0;position: absolute;width: 1px;}#sk-container-id-1 div.sk-estimator {font-family: monospace;background-color: #f0f8ff;border: 1px dotted black;border-radius: 0.25em;box-sizing: border-box;margin-bottom: 0.5em;}#sk-container-id-1 div.sk-estimator:hover {background-color: #d4ebff;}#sk-container-id-1 div.sk-parallel-item::after {content: \"\";width: 100%;border-bottom: 1px solid gray;flex-grow: 1;}#sk-container-id-1 div.sk-label:hover label.sk-toggleable__label {background-color: #d4ebff;}#sk-container-id-1 div.sk-serial::before {content: \"\";position: absolute;border-left: 1px solid gray;box-sizing: border-box;top: 0;bottom: 0;left: 50%;z-index: 0;}#sk-container-id-1 div.sk-serial {display: flex;flex-direction: column;align-items: center;background-color: white;padding-right: 0.2em;padding-left: 0.2em;position: relative;}#sk-container-id-1 div.sk-item {position: relative;z-index: 1;}#sk-container-id-1 div.sk-parallel {display: flex;align-items: stretch;justify-content: center;background-color: white;position: relative;}#sk-container-id-1 div.sk-item::before, #sk-container-id-1 div.sk-parallel-item::before {content: \"\";position: absolute;border-left: 1px solid gray;box-sizing: border-box;top: 0;bottom: 0;left: 50%;z-index: -1;}#sk-container-id-1 div.sk-parallel-item {display: flex;flex-direction: column;z-index: 1;position: relative;background-color: white;}#sk-container-id-1 div.sk-parallel-item:first-child::after {align-self: flex-end;width: 50%;}#sk-container-id-1 div.sk-parallel-item:last-child::after {align-self: flex-start;width: 50%;}#sk-container-id-1 div.sk-parallel-item:only-child::after {width: 0;}#sk-container-id-1 div.sk-dashed-wrapped {border: 1px dashed gray;margin: 0 0.4em 0.5em 0.4em;box-sizing: border-box;padding-bottom: 0.4em;background-color: white;}#sk-container-id-1 div.sk-label label {font-family: monospace;font-weight: bold;display: inline-block;line-height: 1.2em;}#sk-container-id-1 div.sk-label-container {text-align: center;}#sk-container-id-1 div.sk-container {/* jupyter's `normalize.less` sets `[hidden] { display: none; }` but bootstrap.min.css set `[hidden] { display: none !important; }` so we also need the `!important` here to be able to override the default hidden behavior on the sphinx rendered scikit-learn.org. See: https://github.com/scikit-learn/scikit-learn/issues/21755 */display: inline-block !important;position: relative;}#sk-container-id-1 div.sk-text-repr-fallback {display: none;}</style><div id=\"sk-container-id-1\" class=\"sk-top-container\"><div class=\"sk-text-repr-fallback\"><pre>XGBClassifier(base_score=None, booster=None, callbacks=None,\n",
       "              colsample_bylevel=None, colsample_bynode=None,\n",
       "              colsample_bytree=0.8, device=None, early_stopping_rounds=20,\n",
       "              enable_categorical=False, eval_metric=&#x27;mlogloss&#x27;,\n",
       "              feature_types=None, gamma=None, grow_policy=None,\n",
       "              importance_type=None, interaction_constraints=None,\n",
       "              learning_rate=0.1, max_bin=None, max_cat_threshold=None,\n",
       "              max_cat_to_onehot=None, max_delta_step=None, max_depth=6,\n",
       "              max_leaves=None, min_child_weight=None, missing=nan,\n",
       "              monotone_constraints=None, multi_strategy=None, n_estimators=200,\n",
       "              n_jobs=None, num_class=4, num_parallel_tree=None, ...)</pre><b>In a Jupyter environment, please rerun this cell to show the HTML representation or trust the notebook. <br />On GitHub, the HTML representation is unable to render, please try loading this page with nbviewer.org.</b></div><div class=\"sk-container\" hidden><div class=\"sk-item\"><div class=\"sk-estimator sk-toggleable\"><input class=\"sk-toggleable__control sk-hidden--visually\" id=\"sk-estimator-id-1\" type=\"checkbox\" checked><label for=\"sk-estimator-id-1\" class=\"sk-toggleable__label sk-toggleable__label-arrow\">XGBClassifier</label><div class=\"sk-toggleable__content\"><pre>XGBClassifier(base_score=None, booster=None, callbacks=None,\n",
       "              colsample_bylevel=None, colsample_bynode=None,\n",
       "              colsample_bytree=0.8, device=None, early_stopping_rounds=20,\n",
       "              enable_categorical=False, eval_metric=&#x27;mlogloss&#x27;,\n",
       "              feature_types=None, gamma=None, grow_policy=None,\n",
       "              importance_type=None, interaction_constraints=None,\n",
       "              learning_rate=0.1, max_bin=None, max_cat_threshold=None,\n",
       "              max_cat_to_onehot=None, max_delta_step=None, max_depth=6,\n",
       "              max_leaves=None, min_child_weight=None, missing=nan,\n",
       "              monotone_constraints=None, multi_strategy=None, n_estimators=200,\n",
       "              n_jobs=None, num_class=4, num_parallel_tree=None, ...)</pre></div></div></div></div></div>"
      ],
      "text/plain": [
       "XGBClassifier(base_score=None, booster=None, callbacks=None,\n",
       "              colsample_bylevel=None, colsample_bynode=None,\n",
       "              colsample_bytree=0.8, device=None, early_stopping_rounds=20,\n",
       "              enable_categorical=False, eval_metric='mlogloss',\n",
       "              feature_types=None, gamma=None, grow_policy=None,\n",
       "              importance_type=None, interaction_constraints=None,\n",
       "              learning_rate=0.1, max_bin=None, max_cat_threshold=None,\n",
       "              max_cat_to_onehot=None, max_delta_step=None, max_depth=6,\n",
       "              max_leaves=None, min_child_weight=None, missing=nan,\n",
       "              monotone_constraints=None, multi_strategy=None, n_estimators=200,\n",
       "              n_jobs=None, num_class=4, num_parallel_tree=None, ...)"
      ]
     },
     "execution_count": 8,
     "metadata": {},
     "output_type": "execute_result"
    }
   ],
   "source": [
    "# Initialize XGBoost classifier\n",
    "xgb_model = XGBClassifier(**xgb_params)\n",
    "\n",
    "# Train the model\n",
    "xgb_model.fit(\n",
    "    X_train, y_train,\n",
    "    eval_set=[(X_val, y_val)],\n",
    "    verbose=True\n",
    ")"
   ]
  },
  {
   "cell_type": "code",
   "execution_count": 9,
   "metadata": {
    "execution": {
     "iopub.execute_input": "2025-06-06T06:33:22.379403Z",
     "iopub.status.busy": "2025-06-06T06:33:22.379165Z",
     "iopub.status.idle": "2025-06-06T06:33:23.043795Z",
     "shell.execute_reply": "2025-06-06T06:33:23.043109Z",
     "shell.execute_reply.started": "2025-06-06T06:33:22.379387Z"
    },
    "id": "_pmpsDr4iJW3",
    "trusted": true
   },
   "outputs": [],
   "source": [
    "# Step 6: Make Predictions\n",
    "y_pred_train = xgb_model.predict(X_train)\n",
    "y_pred_val = xgb_model.predict(X_val)\n",
    "y_pred_test = xgb_model.predict(X_test)"
   ]
  },
  {
   "cell_type": "code",
   "execution_count": 10,
   "metadata": {
    "execution": {
     "iopub.execute_input": "2025-06-06T06:33:23.044876Z",
     "iopub.status.busy": "2025-06-06T06:33:23.044664Z",
     "iopub.status.idle": "2025-06-06T06:33:23.057505Z",
     "shell.execute_reply": "2025-06-06T06:33:23.056366Z",
     "shell.execute_reply.started": "2025-06-06T06:33:23.044861Z"
    },
    "id": "c86fr715iNgL",
    "trusted": true
   },
   "outputs": [
    {
     "name": "stdout",
     "output_type": "stream",
     "text": [
      "\n",
      "XGBOOST RESULTS\n",
      "Training Accuracy: 1.0000 (100.00%)\n",
      "Validation Accuracy: 0.8457 (84.57%)\n",
      "Test Accuracy: 0.8398 (83.98%)\n"
     ]
    }
   ],
   "source": [
    "# Step 7: Calculate Performance Metrics\n",
    "train_accuracy = accuracy_score(y_train, y_pred_train)\n",
    "val_accuracy = accuracy_score(y_val, y_pred_val)\n",
    "test_accuracy = accuracy_score(y_test, y_pred_test)\n",
    "\n",
    "print(f\"\\nXGBOOST RESULTS\")\n",
    "print(f\"Training Accuracy: {train_accuracy:.4f} ({train_accuracy:.2%})\")\n",
    "print(f\"Validation Accuracy: {val_accuracy:.4f} ({val_accuracy:.2%})\")\n",
    "print(f\"Test Accuracy: {test_accuracy:.4f} ({test_accuracy:.2%})\")\n"
   ]
  },
  {
   "cell_type": "code",
   "execution_count": 11,
   "metadata": {
    "execution": {
     "iopub.execute_input": "2025-06-06T06:33:23.059110Z",
     "iopub.status.busy": "2025-06-06T06:33:23.058870Z",
     "iopub.status.idle": "2025-06-06T06:33:23.607896Z",
     "shell.execute_reply": "2025-06-06T06:33:23.607121Z",
     "shell.execute_reply.started": "2025-06-06T06:33:23.059091Z"
    },
    "id": "s7l314AYiQM8",
    "trusted": true
   },
   "outputs": [
    {
     "name": "stdout",
     "output_type": "stream",
     "text": [
      "\n",
      "CLASSIFICATION REPORT \n",
      "                  precision    recall  f1-score   support\n",
      "\n",
      "    glioma_tumor       0.88      0.80      0.84       510\n",
      "meningioma_tumor       0.80      0.79      0.79       517\n",
      "        no_tumor       0.77      0.82      0.80       275\n",
      " pituitary_tumor       0.88      0.95      0.91       496\n",
      "\n",
      "        accuracy                           0.84      1798\n",
      "       macro avg       0.83      0.84      0.83      1798\n",
      "    weighted avg       0.84      0.84      0.84      1798\n",
      "\n"
     ]
    },
    {
     "data": {
      "image/png": "[encoded data removed]",
      "text/plain": [
       "<Figure size 800x600 with 2 Axes>"
      ]
     },
     "metadata": {},
     "output_type": "display_data"
    }
   ],
   "source": [
    "# Step 8: Detailed Classification Report\n",
    "print(f\"\\nCLASSIFICATION REPORT \")\n",
    "print(classification_report(y_test, y_pred_test,\n",
    "                          target_names=label_encoder.classes_))\n",
    "\n",
    "# Step 9: Confusion Matrix\n",
    "cm = confusion_matrix(y_test, y_pred_test)\n",
    "plt.figure(figsize=(8, 6))\n",
    "sns.heatmap(cm, annot=True, fmt='d', cmap='Blues',\n",
    "            xticklabels=label_encoder.classes_,\n",
    "            yticklabels=label_encoder.classes_)\n",
    "plt.title('XGBoost Brain Tumor Classification - Confusion Matrix')\n",
    "plt.ylabel('True Label')\n",
    "plt.xlabel('Predicted Label')\n",
    "plt.show()"
   ]
  },
  {
   "cell_type": "code",
   "execution_count": 12,
   "metadata": {
    "execution": {
     "iopub.execute_input": "2025-06-06T06:33:23.609174Z",
     "iopub.status.busy": "2025-06-06T06:33:23.608741Z",
     "iopub.status.idle": "2025-06-06T06:33:23.876010Z",
     "shell.execute_reply": "2025-06-06T06:33:23.875255Z",
     "shell.execute_reply.started": "2025-06-06T06:33:23.609153Z"
    },
    "id": "9t4ZTKrtg-tG",
    "trusted": true
   },
   "outputs": [
    {
     "data": {
      "image/png": "[encoded data removed]",
      "text/plain": [
       "<Figure size 1000x800 with 1 Axes>"
      ]
     },
     "metadata": {},
     "output_type": "display_data"
    },
    {
     "name": "stdout",
     "output_type": "stream",
     "text": [
      "\n",
      "FINAL RESULTS\n",
      "XGBoost Test Accuracy: 83.98%\n",
      "Model trained on 1304 images\n",
      "Validated on 162 images\n",
      "Tested on 1798 images\n"
     ]
    }
   ],
   "source": [
    "# Step 10: Feature Importance (Top 20)\n",
    "plt.figure(figsize=(10, 8))\n",
    "feature_importance = xgb_model.feature_importances_\n",
    "top_features = np.argsort(feature_importance)[-20:]\n",
    "\n",
    "plt.barh(range(len(top_features)), feature_importance[top_features])\n",
    "plt.title('Top 20 Feature Importances (Pixel Positions)')\n",
    "plt.xlabel('Importance Score')\n",
    "plt.ylabel('Feature Index (Pixel Position)')\n",
    "plt.show()\n",
    "\n",
    "print(f\"\\nFINAL RESULTS\")\n",
    "print(f\"XGBoost Test Accuracy: {test_accuracy:.2%}\")\n",
    "print(f\"Model trained on {len(all_train)} images\")\n",
    "print(f\"Validated on {len(all_val)} images\")\n",
    "print(f\"Tested on {len(all_test)} images\")\n"
   ]
  }
 ],
 "metadata": {
  "colab": {
   "provenance": []
  },
  "kaggle": {
   "accelerator": "nvidiaTeslaT4",
   "dataSources": [
    {
     "datasetId": 672377,
     "sourceId": 1183165,
     "sourceType": "datasetVersion"
    }
   ],
   "dockerImageVersionId": 31041,
   "isGpuEnabled": true,
   "isInternetEnabled": true,
   "language": "python",
   "sourceType": "notebook"
  },
  "kernelspec": {
   "display_name": "Python 3",
   "language": "python",
   "name": "python3"
  },
  "language_info": {
   "codemirror_mode": {
    "name": "ipython",
    "version": 3
   },
   "file_extension": ".py",
   "mimetype": "text/x-python",
   "name": "python",
   "nbconvert_exporter": "python",
   "pygments_lexer": "ipython3",
   "version": "3.11.11"
  }
 },
 "nbformat": 4,
 "nbformat_minor": 4
}
