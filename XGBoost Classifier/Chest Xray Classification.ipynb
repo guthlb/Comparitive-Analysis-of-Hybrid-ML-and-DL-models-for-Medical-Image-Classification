{
 "cells": [
  {
   "cell_type": "code",
   "execution_count": 14,
   "metadata": {
    "execution": {
     "iopub.execute_input": "2025-06-06T07:53:05.577599Z",
     "iopub.status.busy": "2025-06-06T07:53:05.577067Z",
     "iopub.status.idle": "2025-06-06T07:53:05.581867Z",
     "shell.execute_reply": "2025-06-06T07:53:05.581125Z",
     "shell.execute_reply.started": "2025-06-06T07:53:05.577576Z"
    },
    "id": "XfKfArX0YAxR",
    "trusted": true
   },
   "outputs": [],
   "source": [
    "import os\n",
    "import numpy as np\n",
    "import pandas as pd\n",
    "from PIL import Image\n",
    "import cv2\n",
    "from sklearn.model_selection import train_test_split\n",
    "from sklearn.preprocessing import LabelEncoder\n",
    "from sklearn.metrics import accuracy_score, classification_report, confusion_matrix\n",
    "import xgboost as xgb\n",
    "from xgboost import XGBClassifier\n",
    "import matplotlib.pyplot as plt\n"
   ]
  },
  {
   "cell_type": "code",
   "execution_count": null,
   "metadata": {
    "execution": {
     "iopub.execute_input": "2025-06-06T07:53:05.585509Z",
     "iopub.status.busy": "2025-06-06T07:53:05.585289Z",
     "iopub.status.idle": "2025-06-06T07:53:05.595069Z",
     "shell.execute_reply": "2025-06-06T07:53:05.594344Z",
     "shell.execute_reply.started": "2025-06-06T07:53:05.585494Z"
    },
    "trusted": true
   },
   "outputs": [],
   "source": [
    "import seaborn as sns"
   ]
  },
  {
   "cell_type": "code",
   "execution_count": null,
   "metadata": {
    "execution": {
     "iopub.execute_input": "2025-06-06T07:53:05.616316Z",
     "iopub.status.busy": "2025-06-06T07:53:05.615784Z",
     "iopub.status.idle": "2025-06-06T07:53:05.652302Z",
     "shell.execute_reply": "2025-06-06T07:53:05.651763Z",
     "shell.execute_reply.started": "2025-06-06T07:53:05.616298Z"
    },
    "trusted": true
   },
   "outputs": [
    {
     "name": "stdout",
     "output_type": "stream",
     "text": [
      "Total images: 5856\n",
      "Total training images: 3512\n",
      "Total validation images: 292\n",
      "Total testing images: 2052\n"
     ]
    }
   ],
   "source": [
    "import os\n",
    "import random\n",
    "\n",
    "# Correct base directory and class names for chest x-ray\n",
    "base_dir = '/kaggle/input/chest-xray-pneumonia/chest_xray'\n",
    "classes = ['PNEUMONIA', 'NORMAL']\n",
    "\n",
    "# Collect all image paths for each class from train, test, and val folders\n",
    "class_images = {cls: [] for cls in classes}\n",
    "\n",
    "for cls in classes:\n",
    "    # Paths for each split\n",
    "    train_dir = os.path.join(base_dir, 'train', cls)\n",
    "    test_dir = os.path.join(base_dir, 'test', cls)\n",
    "    val_dir = os.path.join(base_dir, 'val', cls)\n",
    "    \n",
    "    # Add images from each split if directory exists\n",
    "    if os.path.exists(train_dir):\n",
    "        class_images[cls].extend([os.path.join(train_dir, f) for f in os.listdir(train_dir) if f.lower().endswith(('.png', '.jpg', '.jpeg'))])\n",
    "    if os.path.exists(test_dir):\n",
    "        class_images[cls].extend([os.path.join(test_dir, f) for f in os.listdir(test_dir) if f.lower().endswith(('.png', '.jpg', '.jpeg'))])\n",
    "    if os.path.exists(val_dir):\n",
    "        class_images[cls].extend([os.path.join(val_dir, f) for f in os.listdir(val_dir) if f.lower().endswith(('.png', '.jpg', '.jpeg'))])\n",
    "\n",
    "# Use dedicated random generator for reproducibility\n",
    "rng = random.Random(10)\n",
    "\n",
    "# Split 60% train, 5% val, 35% test for each class\n",
    "train_split = {cls: [] for cls in classes}\n",
    "val_split = {cls: [] for cls in classes}\n",
    "test_split = {cls: [] for cls in classes}\n",
    "\n",
    "for cls in classes:\n",
    "    imgs = class_images[cls]\n",
    "    rng.shuffle(imgs)\n",
    "    total = len(imgs)\n",
    "    train_size = int(0.6 * total)  # Changed to 60% train\n",
    "    val_size = int(0.05 * total)   # 5% val remains\n",
    "    test_size = total - train_size - val_size  # 35% test\n",
    "    train_split[cls] = imgs[:train_size]\n",
    "    val_split[cls] = imgs[train_size:train_size+val_size]\n",
    "    test_split[cls] = imgs[train_size+val_size:]\n",
    "\n",
    "# Flatten into lists\n",
    "all_train = []\n",
    "all_val = []\n",
    "all_test = []\n",
    "for cls in classes:\n",
    "    all_train.extend(train_split[cls])\n",
    "    all_val.extend(val_split[cls])\n",
    "    all_test.extend(test_split[cls])\n",
    "\n",
    "# Shuffle the final lists with the same RNG for reproducibility\n",
    "rng.shuffle(all_train)\n",
    "rng.shuffle(all_val)\n",
    "rng.shuffle(all_test)\n",
    "\n",
    "# Print statistics\n",
    "print(\"Total images:\", len(all_train) + len(all_val) + len(all_test))\n",
    "print(\"Total training images:\", len(all_train))\n",
    "print(\"Total validation images:\", len(all_val))\n",
    "print(\"Total testing images:\", len(all_test))"
   ]
  },
  {
   "cell_type": "code",
   "execution_count": 17,
   "metadata": {
    "execution": {
     "iopub.execute_input": "2025-06-06T07:53:05.653504Z",
     "iopub.status.busy": "2025-06-06T07:53:05.653259Z",
     "iopub.status.idle": "2025-06-06T07:53:05.658251Z",
     "shell.execute_reply": "2025-06-06T07:53:05.657667Z",
     "shell.execute_reply.started": "2025-06-06T07:53:05.653488Z"
    },
    "id": "AsXVcuMPhVWi",
    "trusted": true
   },
   "outputs": [],
   "source": [
    "def load_and_preprocess_images(image_paths, target_size=(150, 150)):\n",
    "    \"\"\"\n",
    "    Load and preprocess images following melanoma study approach\n",
    "    \"\"\"\n",
    "    images = []\n",
    "    labels = []\n",
    "\n",
    "    print(f\"Loading {len(image_paths)} images...\")\n",
    "\n",
    "    for img_path in image_paths:\n",
    "        try:\n",
    "            # Extract label from path\n",
    "            label = img_path.split('/')[-2]  # Get folder name as label\n",
    "\n",
    "            # Load and resize image\n",
    "            img = cv2.imread(img_path)\n",
    "            img = cv2.resize(img, target_size)\n",
    "            img = cv2.cvtColor(img, cv2.COLOR_BGR2RGB)\n",
    "\n",
    "            images.append(img)\n",
    "            labels.append(label)\n",
    "\n",
    "        except Exception as e:\n",
    "            print(f\"Error loading {img_path}: {e}\")\n",
    "\n",
    "    return np.array(images), np.array(labels)"
   ]
  },
  {
   "cell_type": "code",
   "execution_count": 18,
   "metadata": {
    "execution": {
     "iopub.execute_input": "2025-06-06T07:53:05.659185Z",
     "iopub.status.busy": "2025-06-06T07:53:05.658911Z",
     "iopub.status.idle": "2025-06-06T07:53:05.672923Z",
     "shell.execute_reply": "2025-06-06T07:53:05.672062Z",
     "shell.execute_reply.started": "2025-06-06T07:53:05.659159Z"
    },
    "id": "QW_pi4vHhZOc",
    "trusted": true
   },
   "outputs": [],
   "source": [
    "def preprocess_for_xgboost(images):\n",
    "    \"\"\"\n",
    "    Preprocess images for XGBoost: Reshaping, Flattening, Casting, Normalization\n",
    "    \"\"\"\n",
    "    # Flatten images: 150x150x3 = 67,500 features\n",
    "    n_samples = images.shape[0]\n",
    "    height, width, channels = images.shape[1], images.shape[2], images.shape[3]\n",
    "\n",
    "    # Flatten and normalize\n",
    "    X_flattened = images.reshape(n_samples, height * width * channels)\n",
    "    X_normalized = X_flattened.astype('float32') / 255.0\n",
    "\n",
    "    print(f\"Preprocessed data shape: {X_normalized.shape}\")\n",
    "    print(f\"Features: {X_normalized.shape[1]} (pixel-RGB values)\")\n",
    "\n",
    "    return X_normalized"
   ]
  },
  {
   "cell_type": "code",
   "execution_count": 19,
   "metadata": {
    "colab": {
     "base_uri": "https://localhost:8080/"
    },
    "execution": {
     "iopub.execute_input": "2025-06-06T07:53:05.673936Z",
     "iopub.status.busy": "2025-06-06T07:53:05.673715Z",
     "iopub.status.idle": "2025-06-06T07:53:51.406073Z",
     "shell.execute_reply": "2025-06-06T07:53:51.405231Z",
     "shell.execute_reply.started": "2025-06-06T07:53:05.673911Z"
    },
    "id": "TyICZnt3hclX",
    "outputId": "e394b2e6-6c40-4b6f-d57c-03777139a45d",
    "trusted": true
   },
   "outputs": [
    {
     "name": "stdout",
     "output_type": "stream",
     "text": [
      "Loading 3512 images...\n",
      "Preprocessed data shape: (3512, 67500)\n",
      "Features: 67500 (pixel-RGB values)\n",
      "Loading 292 images...\n",
      "Preprocessed data shape: (292, 67500)\n",
      "Features: 67500 (pixel-RGB values)\n",
      "Loading 2052 images...\n",
      "Preprocessed data shape: (2052, 67500)\n",
      "Features: 67500 (pixel-RGB values)\n"
     ]
    }
   ],
   "source": [
    "# Step 1: Load and preprocess training data\n",
    "X_train_images, y_train_labels = load_and_preprocess_images(all_train)\n",
    "X_train = preprocess_for_xgboost(X_train_images)\n",
    "\n",
    "# Step 2: Load and preprocess validation data\n",
    "X_val_images, y_val_labels = load_and_preprocess_images(all_val)\n",
    "X_val = preprocess_for_xgboost(X_val_images)\n",
    "\n",
    "# Step 3: Load and preprocess test data\n",
    "X_test_images, y_test_labels = load_and_preprocess_images(all_test)\n",
    "X_test = preprocess_for_xgboost(X_test_images)"
   ]
  },
  {
   "cell_type": "code",
   "execution_count": 20,
   "metadata": {
    "colab": {
     "base_uri": "https://localhost:8080/"
    },
    "execution": {
     "iopub.execute_input": "2025-06-06T07:53:51.408110Z",
     "iopub.status.busy": "2025-06-06T07:53:51.407900Z",
     "iopub.status.idle": "2025-06-06T07:53:51.414242Z",
     "shell.execute_reply": "2025-06-06T07:53:51.413690Z",
     "shell.execute_reply.started": "2025-06-06T07:53:51.408092Z"
    },
    "id": "yaoNav1YhgvX",
    "outputId": "836c2c2e-7821-4eed-adb5-391d66837f2a",
    "trusted": true
   },
   "outputs": [
    {
     "name": "stdout",
     "output_type": "stream",
     "text": [
      "\n",
      "Class mapping: {'NORMAL': 0, 'PNEUMONIA': 1}\n"
     ]
    }
   ],
   "source": [
    "# Step 4: Encode labels\n",
    "label_encoder = LabelEncoder()\n",
    "y_train = label_encoder.fit_transform(y_train_labels)\n",
    "y_val = label_encoder.transform(y_val_labels)\n",
    "y_test = label_encoder.transform(y_test_labels)\n",
    "\n",
    "print(f\"\\nClass mapping: {dict(zip(label_encoder.classes_, range(len(label_encoder.classes_))))}\")"
   ]
  },
  {
   "cell_type": "code",
   "execution_count": 21,
   "metadata": {
    "execution": {
     "iopub.execute_input": "2025-06-06T07:53:51.415081Z",
     "iopub.status.busy": "2025-06-06T07:53:51.414893Z",
     "iopub.status.idle": "2025-06-06T08:05:19.996639Z",
     "shell.execute_reply": "2025-06-06T08:05:19.995950Z",
     "shell.execute_reply.started": "2025-06-06T07:53:51.415067Z"
    },
    "id": "VOyO4LwDhnTE",
    "trusted": true
   },
   "outputs": [
    {
     "name": "stderr",
     "output_type": "stream",
     "text": [
      "/usr/local/lib/python3.11/dist-packages/xgboost/sklearn.py:889: UserWarning: `early_stopping_rounds` in `fit` method is deprecated for better compatibility with scikit-learn, use `early_stopping_rounds` in constructor or`set_params` instead.\n",
      "  warnings.warn(\n"
     ]
    },
    {
     "name": "stdout",
     "output_type": "stream",
     "text": [
      "[0]\tvalidation_0-logloss:0.52560\n",
      "[1]\tvalidation_0-logloss:0.48190\n",
      "[2]\tvalidation_0-logloss:0.44647\n",
      "[3]\tvalidation_0-logloss:0.41430\n",
      "[4]\tvalidation_0-logloss:0.38749\n",
      "[5]\tvalidation_0-logloss:0.36280\n",
      "[6]\tvalidation_0-logloss:0.34133\n",
      "[7]\tvalidation_0-logloss:0.32236\n",
      "[8]\tvalidation_0-logloss:0.30652\n",
      "[9]\tvalidation_0-logloss:0.29227\n",
      "[10]\tvalidation_0-logloss:0.27684\n",
      "[11]\tvalidation_0-logloss:0.26216\n",
      "[12]\tvalidation_0-logloss:0.25086\n",
      "[13]\tvalidation_0-logloss:0.24220\n",
      "[14]\tvalidation_0-logloss:0.23109\n",
      "[15]\tvalidation_0-logloss:0.22300\n",
      "[16]\tvalidation_0-logloss:0.21479\n",
      "[17]\tvalidation_0-logloss:0.20691\n",
      "[18]\tvalidation_0-logloss:0.19952\n",
      "[19]\tvalidation_0-logloss:0.19441\n",
      "[20]\tvalidation_0-logloss:0.18972\n",
      "[21]\tvalidation_0-logloss:0.18399\n",
      "[22]\tvalidation_0-logloss:0.17938\n",
      "[23]\tvalidation_0-logloss:0.17427\n",
      "[24]\tvalidation_0-logloss:0.17008\n",
      "[25]\tvalidation_0-logloss:0.16741\n",
      "[26]\tvalidation_0-logloss:0.16506\n",
      "[27]\tvalidation_0-logloss:0.16089\n",
      "[28]\tvalidation_0-logloss:0.15796\n",
      "[29]\tvalidation_0-logloss:0.15428\n",
      "[30]\tvalidation_0-logloss:0.15113\n",
      "[31]\tvalidation_0-logloss:0.14859\n",
      "[32]\tvalidation_0-logloss:0.14778\n",
      "[33]\tvalidation_0-logloss:0.14521\n",
      "[34]\tvalidation_0-logloss:0.14385\n",
      "[35]\tvalidation_0-logloss:0.14193\n",
      "[36]\tvalidation_0-logloss:0.13955\n",
      "[37]\tvalidation_0-logloss:0.13733\n",
      "[38]\tvalidation_0-logloss:0.13602\n",
      "[39]\tvalidation_0-logloss:0.13517\n",
      "[40]\tvalidation_0-logloss:0.13308\n",
      "[41]\tvalidation_0-logloss:0.13245\n",
      "[42]\tvalidation_0-logloss:0.13148\n",
      "[43]\tvalidation_0-logloss:0.13068\n",
      "[44]\tvalidation_0-logloss:0.13007\n",
      "[45]\tvalidation_0-logloss:0.12942\n",
      "[46]\tvalidation_0-logloss:0.12941\n",
      "[47]\tvalidation_0-logloss:0.12906\n",
      "[48]\tvalidation_0-logloss:0.12783\n",
      "[49]\tvalidation_0-logloss:0.12640\n",
      "[50]\tvalidation_0-logloss:0.12611\n",
      "[51]\tvalidation_0-logloss:0.12541\n",
      "[52]\tvalidation_0-logloss:0.12404\n",
      "[53]\tvalidation_0-logloss:0.12322\n",
      "[54]\tvalidation_0-logloss:0.12246\n",
      "[55]\tvalidation_0-logloss:0.12135\n",
      "[56]\tvalidation_0-logloss:0.12096\n",
      "[57]\tvalidation_0-logloss:0.12064\n",
      "[58]\tvalidation_0-logloss:0.11953\n",
      "[59]\tvalidation_0-logloss:0.11885\n",
      "[60]\tvalidation_0-logloss:0.11865\n",
      "[61]\tvalidation_0-logloss:0.11801\n",
      "[62]\tvalidation_0-logloss:0.11787\n",
      "[63]\tvalidation_0-logloss:0.11770\n",
      "[64]\tvalidation_0-logloss:0.11692\n",
      "[65]\tvalidation_0-logloss:0.11544\n",
      "[66]\tvalidation_0-logloss:0.11557\n",
      "[67]\tvalidation_0-logloss:0.11500\n",
      "[68]\tvalidation_0-logloss:0.11446\n",
      "[69]\tvalidation_0-logloss:0.11519\n",
      "[70]\tvalidation_0-logloss:0.11464\n",
      "[71]\tvalidation_0-logloss:0.11382\n",
      "[72]\tvalidation_0-logloss:0.11330\n",
      "[73]\tvalidation_0-logloss:0.11253\n",
      "[74]\tvalidation_0-logloss:0.11229\n",
      "[75]\tvalidation_0-logloss:0.11099\n",
      "[76]\tvalidation_0-logloss:0.11079\n",
      "[77]\tvalidation_0-logloss:0.11069\n",
      "[78]\tvalidation_0-logloss:0.11010\n",
      "[79]\tvalidation_0-logloss:0.10953\n",
      "[80]\tvalidation_0-logloss:0.10923\n",
      "[81]\tvalidation_0-logloss:0.10874\n",
      "[82]\tvalidation_0-logloss:0.10810\n",
      "[83]\tvalidation_0-logloss:0.10814\n",
      "[84]\tvalidation_0-logloss:0.10831\n",
      "[85]\tvalidation_0-logloss:0.10847\n",
      "[86]\tvalidation_0-logloss:0.10896\n",
      "[87]\tvalidation_0-logloss:0.10916\n",
      "[88]\tvalidation_0-logloss:0.10977\n",
      "[89]\tvalidation_0-logloss:0.10899\n",
      "[90]\tvalidation_0-logloss:0.10918\n",
      "[91]\tvalidation_0-logloss:0.10885\n",
      "[92]\tvalidation_0-logloss:0.10831\n",
      "[93]\tvalidation_0-logloss:0.10831\n",
      "[94]\tvalidation_0-logloss:0.10759\n",
      "[95]\tvalidation_0-logloss:0.10765\n",
      "[96]\tvalidation_0-logloss:0.10816\n",
      "[97]\tvalidation_0-logloss:0.10858\n",
      "[98]\tvalidation_0-logloss:0.10895\n",
      "[99]\tvalidation_0-logloss:0.10851\n",
      "[100]\tvalidation_0-logloss:0.10849\n",
      "[101]\tvalidation_0-logloss:0.10757\n",
      "[102]\tvalidation_0-logloss:0.10698\n",
      "[103]\tvalidation_0-logloss:0.10681\n",
      "[104]\tvalidation_0-logloss:0.10624\n",
      "[105]\tvalidation_0-logloss:0.10616\n",
      "[106]\tvalidation_0-logloss:0.10595\n",
      "[107]\tvalidation_0-logloss:0.10519\n",
      "[108]\tvalidation_0-logloss:0.10494\n",
      "[109]\tvalidation_0-logloss:0.10500\n",
      "[110]\tvalidation_0-logloss:0.10448\n",
      "[111]\tvalidation_0-logloss:0.10401\n",
      "[112]\tvalidation_0-logloss:0.10373\n",
      "[113]\tvalidation_0-logloss:0.10396\n",
      "[114]\tvalidation_0-logloss:0.10406\n",
      "[115]\tvalidation_0-logloss:0.10392\n",
      "[116]\tvalidation_0-logloss:0.10375\n",
      "[117]\tvalidation_0-logloss:0.10346\n",
      "[118]\tvalidation_0-logloss:0.10265\n",
      "[119]\tvalidation_0-logloss:0.10287\n",
      "[120]\tvalidation_0-logloss:0.10258\n",
      "[121]\tvalidation_0-logloss:0.10297\n",
      "[122]\tvalidation_0-logloss:0.10238\n",
      "[123]\tvalidation_0-logloss:0.10223\n",
      "[124]\tvalidation_0-logloss:0.10175\n",
      "[125]\tvalidation_0-logloss:0.10109\n",
      "[126]\tvalidation_0-logloss:0.10057\n",
      "[127]\tvalidation_0-logloss:0.10063\n",
      "[128]\tvalidation_0-logloss:0.10029\n",
      "[129]\tvalidation_0-logloss:0.09969\n",
      "[130]\tvalidation_0-logloss:0.09931\n",
      "[131]\tvalidation_0-logloss:0.09896\n",
      "[132]\tvalidation_0-logloss:0.09846\n",
      "[133]\tvalidation_0-logloss:0.09800\n",
      "[134]\tvalidation_0-logloss:0.09809\n",
      "[135]\tvalidation_0-logloss:0.09809\n",
      "[136]\tvalidation_0-logloss:0.09829\n",
      "[137]\tvalidation_0-logloss:0.09785\n",
      "[138]\tvalidation_0-logloss:0.09812\n",
      "[139]\tvalidation_0-logloss:0.09813\n",
      "[140]\tvalidation_0-logloss:0.09776\n",
      "[141]\tvalidation_0-logloss:0.09834\n",
      "[142]\tvalidation_0-logloss:0.09832\n",
      "[143]\tvalidation_0-logloss:0.09811\n",
      "[144]\tvalidation_0-logloss:0.09857\n",
      "[145]\tvalidation_0-logloss:0.09831\n",
      "[146]\tvalidation_0-logloss:0.09821\n",
      "[147]\tvalidation_0-logloss:0.09835\n",
      "[148]\tvalidation_0-logloss:0.09801\n",
      "[149]\tvalidation_0-logloss:0.09767\n",
      "[150]\tvalidation_0-logloss:0.09724\n",
      "[151]\tvalidation_0-logloss:0.09716\n",
      "[152]\tvalidation_0-logloss:0.09744\n",
      "[153]\tvalidation_0-logloss:0.09711\n",
      "[154]\tvalidation_0-logloss:0.09777\n",
      "[155]\tvalidation_0-logloss:0.09758\n",
      "[156]\tvalidation_0-logloss:0.09750\n",
      "[157]\tvalidation_0-logloss:0.09757\n",
      "[158]\tvalidation_0-logloss:0.09746\n",
      "[159]\tvalidation_0-logloss:0.09723\n",
      "[160]\tvalidation_0-logloss:0.09704\n",
      "[161]\tvalidation_0-logloss:0.09707\n",
      "[162]\tvalidation_0-logloss:0.09706\n",
      "[163]\tvalidation_0-logloss:0.09681\n",
      "[164]\tvalidation_0-logloss:0.09676\n",
      "[165]\tvalidation_0-logloss:0.09676\n",
      "[166]\tvalidation_0-logloss:0.09672\n",
      "[167]\tvalidation_0-logloss:0.09655\n",
      "[168]\tvalidation_0-logloss:0.09659\n",
      "[169]\tvalidation_0-logloss:0.09636\n",
      "[170]\tvalidation_0-logloss:0.09649\n",
      "[171]\tvalidation_0-logloss:0.09656\n",
      "[172]\tvalidation_0-logloss:0.09645\n",
      "[173]\tvalidation_0-logloss:0.09645\n",
      "[174]\tvalidation_0-logloss:0.09637\n",
      "[175]\tvalidation_0-logloss:0.09638\n",
      "[176]\tvalidation_0-logloss:0.09645\n",
      "[177]\tvalidation_0-logloss:0.09667\n",
      "[178]\tvalidation_0-logloss:0.09631\n",
      "[179]\tvalidation_0-logloss:0.09656\n",
      "[180]\tvalidation_0-logloss:0.09672\n",
      "[181]\tvalidation_0-logloss:0.09690\n",
      "[182]\tvalidation_0-logloss:0.09715\n",
      "[183]\tvalidation_0-logloss:0.09698\n",
      "[184]\tvalidation_0-logloss:0.09684\n",
      "[185]\tvalidation_0-logloss:0.09687\n",
      "[186]\tvalidation_0-logloss:0.09700\n",
      "[187]\tvalidation_0-logloss:0.09726\n",
      "[188]\tvalidation_0-logloss:0.09751\n",
      "[189]\tvalidation_0-logloss:0.09759\n",
      "[190]\tvalidation_0-logloss:0.09748\n",
      "[191]\tvalidation_0-logloss:0.09788\n",
      "[192]\tvalidation_0-logloss:0.09783\n",
      "[193]\tvalidation_0-logloss:0.09769\n",
      "[194]\tvalidation_0-logloss:0.09787\n",
      "[195]\tvalidation_0-logloss:0.09804\n",
      "[196]\tvalidation_0-logloss:0.09801\n",
      "[197]\tvalidation_0-logloss:0.09792\n"
     ]
    },
    {
     "data": {
      "text/html": [
       "<style>#sk-container-id-2 {color: black;background-color: white;}#sk-container-id-2 pre{padding: 0;}#sk-container-id-2 div.sk-toggleable {background-color: white;}#sk-container-id-2 label.sk-toggleable__label {cursor: pointer;display: block;width: 100%;margin-bottom: 0;padding: 0.3em;box-sizing: border-box;text-align: center;}#sk-container-id-2 label.sk-toggleable__label-arrow:before {content: \"▸\";float: left;margin-right: 0.25em;color: #696969;}#sk-container-id-2 label.sk-toggleable__label-arrow:hover:before {color: black;}#sk-container-id-2 div.sk-estimator:hover label.sk-toggleable__label-arrow:before {color: black;}#sk-container-id-2 div.sk-toggleable__content {max-height: 0;max-width: 0;overflow: hidden;text-align: left;background-color: #f0f8ff;}#sk-container-id-2 div.sk-toggleable__content pre {margin: 0.2em;color: black;border-radius: 0.25em;background-color: #f0f8ff;}#sk-container-id-2 input.sk-toggleable__control:checked~div.sk-toggleable__content {max-height: 200px;max-width: 100%;overflow: auto;}#sk-container-id-2 input.sk-toggleable__control:checked~label.sk-toggleable__label-arrow:before {content: \"▾\";}#sk-container-id-2 div.sk-estimator input.sk-toggleable__control:checked~label.sk-toggleable__label {background-color: #d4ebff;}#sk-container-id-2 div.sk-label input.sk-toggleable__control:checked~label.sk-toggleable__label {background-color: #d4ebff;}#sk-container-id-2 input.sk-hidden--visually {border: 0;clip: rect(1px 1px 1px 1px);clip: rect(1px, 1px, 1px, 1px);height: 1px;margin: -1px;overflow: hidden;padding: 0;position: absolute;width: 1px;}#sk-container-id-2 div.sk-estimator {font-family: monospace;background-color: #f0f8ff;border: 1px dotted black;border-radius: 0.25em;box-sizing: border-box;margin-bottom: 0.5em;}#sk-container-id-2 div.sk-estimator:hover {background-color: #d4ebff;}#sk-container-id-2 div.sk-parallel-item::after {content: \"\";width: 100%;border-bottom: 1px solid gray;flex-grow: 1;}#sk-container-id-2 div.sk-label:hover label.sk-toggleable__label {background-color: #d4ebff;}#sk-container-id-2 div.sk-serial::before {content: \"\";position: absolute;border-left: 1px solid gray;box-sizing: border-box;top: 0;bottom: 0;left: 50%;z-index: 0;}#sk-container-id-2 div.sk-serial {display: flex;flex-direction: column;align-items: center;background-color: white;padding-right: 0.2em;padding-left: 0.2em;position: relative;}#sk-container-id-2 div.sk-item {position: relative;z-index: 1;}#sk-container-id-2 div.sk-parallel {display: flex;align-items: stretch;justify-content: center;background-color: white;position: relative;}#sk-container-id-2 div.sk-item::before, #sk-container-id-2 div.sk-parallel-item::before {content: \"\";position: absolute;border-left: 1px solid gray;box-sizing: border-box;top: 0;bottom: 0;left: 50%;z-index: -1;}#sk-container-id-2 div.sk-parallel-item {display: flex;flex-direction: column;z-index: 1;position: relative;background-color: white;}#sk-container-id-2 div.sk-parallel-item:first-child::after {align-self: flex-end;width: 50%;}#sk-container-id-2 div.sk-parallel-item:last-child::after {align-self: flex-start;width: 50%;}#sk-container-id-2 div.sk-parallel-item:only-child::after {width: 0;}#sk-container-id-2 div.sk-dashed-wrapped {border: 1px dashed gray;margin: 0 0.4em 0.5em 0.4em;box-sizing: border-box;padding-bottom: 0.4em;background-color: white;}#sk-container-id-2 div.sk-label label {font-family: monospace;font-weight: bold;display: inline-block;line-height: 1.2em;}#sk-container-id-2 div.sk-label-container {text-align: center;}#sk-container-id-2 div.sk-container {/* jupyter's `normalize.less` sets `[hidden] { display: none; }` but bootstrap.min.css set `[hidden] { display: none !important; }` so we also need the `!important` here to be able to override the default hidden behavior on the sphinx rendered scikit-learn.org. See: https://github.com/scikit-learn/scikit-learn/issues/21755 */display: inline-block !important;position: relative;}#sk-container-id-2 div.sk-text-repr-fallback {display: none;}</style><div id=\"sk-container-id-2\" class=\"sk-top-container\"><div class=\"sk-text-repr-fallback\"><pre>XGBClassifier(base_score=None, booster=None, callbacks=None,\n",
       "              colsample_bylevel=None, colsample_bynode=None,\n",
       "              colsample_bytree=0.8, device=None, early_stopping_rounds=None,\n",
       "              enable_categorical=False, eval_metric=&#x27;logloss&#x27;,\n",
       "              feature_types=None, gamma=None, grow_policy=None,\n",
       "              importance_type=None, interaction_constraints=None,\n",
       "              learning_rate=0.1, max_bin=None, max_cat_threshold=None,\n",
       "              max_cat_to_onehot=None, max_delta_step=None, max_depth=6,\n",
       "              max_leaves=None, min_child_weight=None, missing=nan,\n",
       "              monotone_constraints=None, multi_strategy=None, n_estimators=200,\n",
       "              n_jobs=None, num_parallel_tree=None, random_state=42, ...)</pre><b>In a Jupyter environment, please rerun this cell to show the HTML representation or trust the notebook. <br />On GitHub, the HTML representation is unable to render, please try loading this page with nbviewer.org.</b></div><div class=\"sk-container\" hidden><div class=\"sk-item\"><div class=\"sk-estimator sk-toggleable\"><input class=\"sk-toggleable__control sk-hidden--visually\" id=\"sk-estimator-id-2\" type=\"checkbox\" checked><label for=\"sk-estimator-id-2\" class=\"sk-toggleable__label sk-toggleable__label-arrow\">XGBClassifier</label><div class=\"sk-toggleable__content\"><pre>XGBClassifier(base_score=None, booster=None, callbacks=None,\n",
       "              colsample_bylevel=None, colsample_bynode=None,\n",
       "              colsample_bytree=0.8, device=None, early_stopping_rounds=None,\n",
       "              enable_categorical=False, eval_metric=&#x27;logloss&#x27;,\n",
       "              feature_types=None, gamma=None, grow_policy=None,\n",
       "              importance_type=None, interaction_constraints=None,\n",
       "              learning_rate=0.1, max_bin=None, max_cat_threshold=None,\n",
       "              max_cat_to_onehot=None, max_delta_step=None, max_depth=6,\n",
       "              max_leaves=None, min_child_weight=None, missing=nan,\n",
       "              monotone_constraints=None, multi_strategy=None, n_estimators=200,\n",
       "              n_jobs=None, num_parallel_tree=None, random_state=42, ...)</pre></div></div></div></div></div>"
      ],
      "text/plain": [
       "XGBClassifier(base_score=None, booster=None, callbacks=None,\n",
       "              colsample_bylevel=None, colsample_bynode=None,\n",
       "              colsample_bytree=0.8, device=None, early_stopping_rounds=None,\n",
       "              enable_categorical=False, eval_metric='logloss',\n",
       "              feature_types=None, gamma=None, grow_policy=None,\n",
       "              importance_type=None, interaction_constraints=None,\n",
       "              learning_rate=0.1, max_bin=None, max_cat_threshold=None,\n",
       "              max_cat_to_onehot=None, max_delta_step=None, max_depth=6,\n",
       "              max_leaves=None, min_child_weight=None, missing=nan,\n",
       "              monotone_constraints=None, multi_strategy=None, n_estimators=200,\n",
       "              n_jobs=None, num_parallel_tree=None, random_state=42, ...)"
      ]
     },
     "execution_count": 21,
     "metadata": {},
     "output_type": "execute_result"
    }
   ],
   "source": [
    "# Step 5: XGBoost Model Configuration\n",
    "\n",
    "xgb_params = {\n",
    "    'objective': 'binary:logistic',  # Changed to binary objective\n",
    "    'max_depth': 6,\n",
    "    'learning_rate': 0.1,\n",
    "    'n_estimators': 200,\n",
    "    'subsample': 0.8,\n",
    "    'colsample_bytree': 0.8,\n",
    "    'random_state': 42,\n",
    "    'eval_metric': 'logloss',        # Changed to binary log loss\n",
    "    'verbosity': 1\n",
    "}\n",
    "\n",
    "# Initialize classifier\n",
    "xgb_model = XGBClassifier(**xgb_params)\n",
    "\n",
    "# Train with early stopping\n",
    "xgb_model.fit(\n",
    "    X_train, y_train,\n",
    "    eval_set=[(X_val, y_val)],\n",
    "    early_stopping_rounds=20,  # Moved from params to fit()\n",
    "    verbose=True\n",
    ")\n"
   ]
  },
  {
   "cell_type": "code",
   "execution_count": null,
   "metadata": {
    "execution": {
     "iopub.execute_input": "2025-06-06T08:05:19.997714Z",
     "iopub.status.busy": "2025-06-06T08:05:19.997426Z",
     "iopub.status.idle": "2025-06-06T08:05:20.748955Z",
     "shell.execute_reply": "2025-06-06T08:05:20.748405Z",
     "shell.execute_reply.started": "2025-06-06T08:05:19.997692Z"
    },
    "id": "_pmpsDr4iJW3",
    "trusted": true
   },
   "outputs": [],
   "source": [
    "# Step 6: Make Predictions\n",
    "y_pred_train = xgb_model.predict(X_train)\n",
    "y_pred_val = xgb_model.predict(X_val)\n",
    "y_pred_test = xgb_model.predict(X_test)"
   ]
  },
  {
   "cell_type": "code",
   "execution_count": null,
   "metadata": {
    "execution": {
     "iopub.execute_input": "2025-06-06T08:05:20.749617Z",
     "iopub.status.busy": "2025-06-06T08:05:20.749424Z",
     "iopub.status.idle": "2025-06-06T08:05:20.757842Z",
     "shell.execute_reply": "2025-06-06T08:05:20.756274Z",
     "shell.execute_reply.started": "2025-06-06T08:05:20.749602Z"
    },
    "id": "c86fr715iNgL",
    "trusted": true
   },
   "outputs": [
    {
     "name": "stdout",
     "output_type": "stream",
     "text": [
      "\n",
      "XGBOOST RESULTS\n",
      "Training Accuracy: 1.0000 (100.00%)\n",
      "Validation Accuracy: 0.9692 (96.92%)\n",
      "Test Accuracy: 0.9488 (94.88%)\n"
     ]
    }
   ],
   "source": [
    "\n",
    "# Now calculate accuracy\n",
    "train_accuracy = accuracy_score(y_train, y_pred_train)\n",
    "val_accuracy = accuracy_score(y_val, y_pred_val)\n",
    "test_accuracy = accuracy_score(y_test, y_pred_test)\n",
    "\n",
    "print(f\"\\nXGBOOST RESULTS\")\n",
    "print(f\"Training Accuracy: {train_accuracy:.4f} ({train_accuracy:.2%})\")\n",
    "print(f\"Validation Accuracy: {val_accuracy:.4f} ({val_accuracy:.2%})\")\n",
    "print(f\"Test Accuracy: {test_accuracy:.4f} ({test_accuracy:.2%})\")"
   ]
  },
  {
   "cell_type": "code",
   "execution_count": 24,
   "metadata": {
    "execution": {
     "iopub.execute_input": "2025-06-06T08:05:20.759826Z",
     "iopub.status.busy": "2025-06-06T08:05:20.759484Z",
     "iopub.status.idle": "2025-06-06T08:05:20.930112Z",
     "shell.execute_reply": "2025-06-06T08:05:20.929522Z",
     "shell.execute_reply.started": "2025-06-06T08:05:20.759809Z"
    },
    "id": "s7l314AYiQM8",
    "trusted": true
   },
   "outputs": [
    {
     "name": "stdout",
     "output_type": "stream",
     "text": [
      "\n",
      "CLASSIFICATION REPORT \n",
      "              precision    recall  f1-score   support\n",
      "\n",
      "      NORMAL       0.92      0.89      0.90       555\n",
      "   PNEUMONIA       0.96      0.97      0.97      1497\n",
      "\n",
      "    accuracy                           0.95      2052\n",
      "   macro avg       0.94      0.93      0.93      2052\n",
      "weighted avg       0.95      0.95      0.95      2052\n",
      "\n"
     ]
    },
    {
     "data": {
      "image/png": "[encoded data removed]",
      "text/plain": [
       "<Figure size 800x600 with 2 Axes>"
      ]
     },
     "metadata": {},
     "output_type": "display_data"
    }
   ],
   "source": [
    "# Step 8: Detailed Classification Report\n",
    "print(f\"\\nCLASSIFICATION REPORT \")\n",
    "print(classification_report(y_test, y_pred_test,\n",
    "                          target_names=label_encoder.classes_))\n",
    "\n",
    "# Step 9: Confusion Matrix\n",
    "cm = confusion_matrix(y_test, y_pred_test)\n",
    "plt.figure(figsize=(8, 6))\n",
    "sns.heatmap(cm, annot=True, fmt='d', cmap='Blues',\n",
    "            xticklabels=label_encoder.classes_,\n",
    "            yticklabels=label_encoder.classes_)\n",
    "plt.title('XGBoost Brain Tumor Classification - Confusion Matrix')\n",
    "plt.ylabel('True Label')\n",
    "plt.xlabel('Predicted Label')\n",
    "plt.show()"
   ]
  },
  {
   "cell_type": "code",
   "execution_count": null,
   "metadata": {
    "execution": {
     "iopub.execute_input": "2025-06-06T08:05:20.930895Z",
     "iopub.status.busy": "2025-06-06T08:05:20.930717Z",
     "iopub.status.idle": "2025-06-06T08:05:21.176861Z",
     "shell.execute_reply": "2025-06-06T08:05:21.176261Z",
     "shell.execute_reply.started": "2025-06-06T08:05:20.930881Z"
    },
    "id": "9t4ZTKrtg-tG",
    "trusted": true
   },
   "outputs": [
    {
     "data": {
      "image/png": "[encoded data removed]",
      "text/plain": [
       "<Figure size 1000x800 with 1 Axes>"
      ]
     },
     "metadata": {},
     "output_type": "display_data"
    },
    {
     "name": "stdout",
     "output_type": "stream",
     "text": [
      "\n",
      "FINAL RESULTS\n",
      "XGBoost Test Accuracy: 94.88%\n",
      "Model trained on 3512 images\n",
      "Validated on 292 images\n",
      "Tested on 2052 images\n"
     ]
    }
   ],
   "source": [
    "# Step 10: Feature Importance (Top 20)\n",
    "plt.figure(figsize=(10, 8))\n",
    "feature_importance = xgb_model.feature_importances_\n",
    "top_features = np.argsort(feature_importance)[-20:]\n",
    "\n",
    "plt.barh(range(len(top_features)), feature_importance[top_features])\n",
    "plt.title('Top 20 Feature Importances (Pixel Positions)')\n",
    "plt.xlabel('Importance Score')\n",
    "plt.ylabel('Feature Index (Pixel Position)')\n",
    "plt.show()\n",
    "\n",
    "print(f\"\\nFINAL RESULTS\")\n",
    "print(f\"XGBoost Test Accuracy: {test_accuracy:.2%}\")\n",
    "print(f\"Model trained on {len(all_train)} images\")\n",
    "print(f\"Validated on {len(all_val)} images\")\n",
    "print(f\"Tested on {len(all_test)} images\")"
   ]
  }
 ],
 "metadata": {
  "colab": {
   "provenance": []
  },
  "kaggle": {
   "accelerator": "none",
   "dataSources": [
    {
     "datasetId": 17810,
     "sourceId": 23812,
     "sourceType": "datasetVersion"
    }
   ],
   "dockerImageVersionId": 31040,
   "isGpuEnabled": false,
   "isInternetEnabled": true,
   "language": "python",
   "sourceType": "notebook"
  },
  "kernelspec": {
   "display_name": "Python 3",
   "language": "python",
   "name": "python3"
  },
  "language_info": {
   "codemirror_mode": {
    "name": "ipython",
    "version": 3
   },
   "file_extension": ".py",
   "mimetype": "text/x-python",
   "name": "python",
   "nbconvert_exporter": "python",
   "pygments_lexer": "ipython3",
   "version": "3.11.11"
  }
 },
 "nbformat": 4,
 "nbformat_minor": 4
}
