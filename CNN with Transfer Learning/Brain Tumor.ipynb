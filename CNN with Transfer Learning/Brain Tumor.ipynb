{
  "cells": [
    {
      "cell_type": "code",
      "execution_count": null,
      "metadata": {
        "colab": {
          "base_uri": "https://localhost:8080/"
        },
        "id": "LIWPTUvsuCbq",
        "outputId": "07206db4-95c8-4e73-e6f9-ff30694b5439"
      },
      "outputs": [
        {
          "name": "stdout",
          "output_type": "stream",
          "text": [
            "Requirement already satisfied: kaggle in /usr/local/lib/python3.11/dist-packages (1.7.4.5)\n",
            "Requirement already satisfied: bleach in /usr/local/lib/python3.11/dist-packages (from kaggle) (6.2.0)\n",
            "Requirement already satisfied: certifi>=14.05.14 in /usr/local/lib/python3.11/dist-packages (from kaggle) (2025.4.26)\n",
            "Requirement already satisfied: charset-normalizer in /usr/local/lib/python3.11/dist-packages (from kaggle) (3.4.2)\n",
            "Requirement already satisfied: idna in /usr/local/lib/python3.11/dist-packages (from kaggle) (3.10)\n",
            "Requirement already satisfied: protobuf in /usr/local/lib/python3.11/dist-packages (from kaggle) (5.29.5)\n",
            "Requirement already satisfied: python-dateutil>=2.5.3 in /usr/local/lib/python3.11/dist-packages (from kaggle) (2.9.0.post0)\n",
            "Requirement already satisfied: python-slugify in /usr/local/lib/python3.11/dist-packages (from kaggle) (8.0.4)\n",
            "Requirement already satisfied: requests in /usr/local/lib/python3.11/dist-packages (from kaggle) (2.32.3)\n",
            "Requirement already satisfied: setuptools>=21.0.0 in /usr/local/lib/python3.11/dist-packages (from kaggle) (75.2.0)\n",
            "Requirement already satisfied: six>=1.10 in /usr/local/lib/python3.11/dist-packages (from kaggle) (1.17.0)\n",
            "Requirement already satisfied: text-unidecode in /usr/local/lib/python3.11/dist-packages (from kaggle) (1.3)\n",
            "Requirement already satisfied: tqdm in /usr/local/lib/python3.11/dist-packages (from kaggle) (4.67.1)\n",
            "Requirement already satisfied: urllib3>=1.15.1 in /usr/local/lib/python3.11/dist-packages (from kaggle) (2.4.0)\n",
            "Requirement already satisfied: webencodings in /usr/local/lib/python3.11/dist-packages (from kaggle) (0.5.1)\n"
          ]
        }
      ],
      "source": [
        "!pip install kaggle"
      ]
    },
    {
      "cell_type": "code",
      "execution_count": null,
      "metadata": {
        "colab": {
          "base_uri": "https://localhost:8080/",
          "height": 73
        },
        "id": "XFPCqs97uGBp",
        "outputId": "25e0eb6e-6b00-4aae-c85c-e741378f1a09"
      },
      "outputs": [
        {
          "data": {
            "text/html": [
              "\n",
              "     <input type=\"file\" id=\"files-548a0e2e-295c-41d5-b3f1-17329b470e54\" name=\"files[]\" multiple disabled\n",
              "        style=\"border:none\" />\n",
              "     <output id=\"result-548a0e2e-295c-41d5-b3f1-17329b470e54\">\n",
              "      Upload widget is only available when the cell has been executed in the\n",
              "      current browser session. Please rerun this cell to enable.\n",
              "      </output>\n",
              "      <script>// Copyright 2017 Google LLC\n",
              "//\n",
              "// Licensed under the Apache License, Version 2.0 (the \"License\");\n",
              "// you may not use this file except in compliance with the License.\n",
              "// You may obtain a copy of the License at\n",
              "//\n",
              "//      http://www.apache.org/licenses/LICENSE-2.0\n",
              "//\n",
              "// Unless required by applicable law or agreed to in writing, software\n",
              "// distributed under the License is distributed on an \"AS IS\" BASIS,\n",
              "// WITHOUT WARRANTIES OR CONDITIONS OF ANY KIND, either express or implied.\n",
              "// See the License for the specific language governing permissions and\n",
              "// limitations under the License.\n",
              "\n",
              "/**\n",
              " * @fileoverview Helpers for google.colab Python module.\n",
              " */\n",
              "(function(scope) {\n",
              "function span(text, styleAttributes = {}) {\n",
              "  const element = document.createElement('span');\n",
              "  element.textContent = text;\n",
              "  for (const key of Object.keys(styleAttributes)) {\n",
              "    element.style[key] = styleAttributes[key];\n",
              "  }\n",
              "  return element;\n",
              "}\n",
              "\n",
              "// Max number of bytes which will be uploaded at a time.\n",
              "const MAX_PAYLOAD_SIZE = 100 * 1024;\n",
              "\n",
              "function _uploadFiles(inputId, outputId) {\n",
              "  const steps = uploadFilesStep(inputId, outputId);\n",
              "  const outputElement = document.getElementById(outputId);\n",
              "  // Cache steps on the outputElement to make it available for the next call\n",
              "  // to uploadFilesContinue from Python.\n",
              "  outputElement.steps = steps;\n",
              "\n",
              "  return _uploadFilesContinue(outputId);\n",
              "}\n",
              "\n",
              "// This is roughly an async generator (not supported in the browser yet),\n",
              "// where there are multiple asynchronous steps and the Python side is going\n",
              "// to poll for completion of each step.\n",
              "// This uses a Promise to block the python side on completion of each step,\n",
              "// then passes the result of the previous step as the input to the next step.\n",
              "function _uploadFilesContinue(outputId) {\n",
              "  const outputElement = document.getElementById(outputId);\n",
              "  const steps = outputElement.steps;\n",
              "\n",
              "  const next = steps.next(outputElement.lastPromiseValue);\n",
              "  return Promise.resolve(next.value.promise).then((value) => {\n",
              "    // Cache the last promise value to make it available to the next\n",
              "    // step of the generator.\n",
              "    outputElement.lastPromiseValue = value;\n",
              "    return next.value.response;\n",
              "  });\n",
              "}\n",
              "\n",
              "/**\n",
              " * Generator function which is called between each async step of the upload\n",
              " * process.\n",
              " * @param {string} inputId Element ID of the input file picker element.\n",
              " * @param {string} outputId Element ID of the output display.\n",
              " * @return {!Iterable<!Object>} Iterable of next steps.\n",
              " */\n",
              "function* uploadFilesStep(inputId, outputId) {\n",
              "  const inputElement = document.getElementById(inputId);\n",
              "  inputElement.disabled = false;\n",
              "\n",
              "  const outputElement = document.getElementById(outputId);\n",
              "  outputElement.innerHTML = '';\n",
              "\n",
              "  const pickedPromise = new Promise((resolve) => {\n",
              "    inputElement.addEventListener('change', (e) => {\n",
              "      resolve(e.target.files);\n",
              "    });\n",
              "  });\n",
              "\n",
              "  const cancel = document.createElement('button');\n",
              "  inputElement.parentElement.appendChild(cancel);\n",
              "  cancel.textContent = 'Cancel upload';\n",
              "  const cancelPromise = new Promise((resolve) => {\n",
              "    cancel.onclick = () => {\n",
              "      resolve(null);\n",
              "    };\n",
              "  });\n",
              "\n",
              "  // Wait for the user to pick the files.\n",
              "  const files = yield {\n",
              "    promise: Promise.race([pickedPromise, cancelPromise]),\n",
              "    response: {\n",
              "      action: 'starting',\n",
              "    }\n",
              "  };\n",
              "\n",
              "  cancel.remove();\n",
              "\n",
              "  // Disable the input element since further picks are not allowed.\n",
              "  inputElement.disabled = true;\n",
              "\n",
              "  if (!files) {\n",
              "    return {\n",
              "      response: {\n",
              "        action: 'complete',\n",
              "      }\n",
              "    };\n",
              "  }\n",
              "\n",
              "  for (const file of files) {\n",
              "    const li = document.createElement('li');\n",
              "    li.append(span(file.name, {fontWeight: 'bold'}));\n",
              "    li.append(span(\n",
              "        `(${file.type || 'n/a'}) - ${file.size} bytes, ` +\n",
              "        `last modified: ${\n",
              "            file.lastModifiedDate ? file.lastModifiedDate.toLocaleDateString() :\n",
              "                                    'n/a'} - `));\n",
              "    const percent = span('0% done');\n",
              "    li.appendChild(percent);\n",
              "\n",
              "    outputElement.appendChild(li);\n",
              "\n",
              "    const fileDataPromise = new Promise((resolve) => {\n",
              "      const reader = new FileReader();\n",
              "      reader.onload = (e) => {\n",
              "        resolve(e.target.result);\n",
              "      };\n",
              "      reader.readAsArrayBuffer(file);\n",
              "    });\n",
              "    // Wait for the data to be ready.\n",
              "    let fileData = yield {\n",
              "      promise: fileDataPromise,\n",
              "      response: {\n",
              "        action: 'continue',\n",
              "      }\n",
              "    };\n",
              "\n",
              "    // Use a chunked sending to avoid message size limits. See b/62115660.\n",
              "    let position = 0;\n",
              "    do {\n",
              "      const length = Math.min(fileData.byteLength - position, MAX_PAYLOAD_SIZE);\n",
              "      const chunk = new Uint8Array(fileData, position, length);\n",
              "      position += length;\n",
              "\n",
              "      const base64 = btoa(String.fromCharCode.apply(null, chunk));\n",
              "      yield {\n",
              "        response: {\n",
              "          action: 'append',\n",
              "          file: file.name,\n",
              "          data: base64,\n",
              "        },\n",
              "      };\n",
              "\n",
              "      let percentDone = fileData.byteLength === 0 ?\n",
              "          100 :\n",
              "          Math.round((position / fileData.byteLength) * 100);\n",
              "      percent.textContent = `${percentDone}% done`;\n",
              "\n",
              "    } while (position < fileData.byteLength);\n",
              "  }\n",
              "\n",
              "  // All done.\n",
              "  yield {\n",
              "    response: {\n",
              "      action: 'complete',\n",
              "    }\n",
              "  };\n",
              "}\n",
              "\n",
              "scope.google = scope.google || {};\n",
              "scope.google.colab = scope.google.colab || {};\n",
              "scope.google.colab._files = {\n",
              "  _uploadFiles,\n",
              "  _uploadFilesContinue,\n",
              "};\n",
              "})(self);\n",
              "</script> "
            ],
            "text/plain": [
              "<IPython.core.display.HTML object>"
            ]
          },
          "metadata": {},
          "output_type": "display_data"
        },
        {
          "name": "stdout",
          "output_type": "stream",
          "text": [
            "Saving kaggle (1).json to kaggle (1) (2).json\n"
          ]
        }
      ],
      "source": [
        "from google.colab import files\n",
        "uploaded = files.upload()"
      ]
    },
    {
      "cell_type": "code",
      "execution_count": null,
      "metadata": {
        "id": "obEKVhhfuR9X"
      },
      "outputs": [],
      "source": [
        "!mkdir -p ~/.kaggle\n",
        "!cp \"kaggle (1).json\" ~/.kaggle/kaggle.json\n",
        "!chmod 600 ~/.kaggle/kaggle.json"
      ]
    },
    {
      "cell_type": "code",
      "execution_count": null,
      "metadata": {
        "colab": {
          "base_uri": "https://localhost:8080/"
        },
        "id": "V_FKuLhwug4E",
        "outputId": "1550cd9d-ba9c-4092-8537-2b709402a2bf"
      },
      "outputs": [
        {
          "name": "stdout",
          "output_type": "stream",
          "text": [
            "Path to dataset files: /kaggle/input/brain-tumor-classification-mri\n"
          ]
        }
      ],
      "source": [
        "import kagglehub\n",
        "path = kagglehub.dataset_download(\"sartajbhuvaji/brain-tumor-classification-mri\")\n",
        "print(\"Path to dataset files:\", path)"
      ]
    },
    {
      "cell_type": "code",
      "execution_count": null,
      "metadata": {
        "colab": {
          "base_uri": "https://localhost:8080/"
        },
        "id": "MVG7YdLHzS7n",
        "outputId": "74070e42-53cb-4794-d710-9635c3d54480"
      },
      "outputs": [
        {
          "name": "stdout",
          "output_type": "stream",
          "text": [
            "Requirement already satisfied: kaggle in /usr/local/lib/python3.11/dist-packages (1.7.4.5)\n",
            "Requirement already satisfied: bleach in /usr/local/lib/python3.11/dist-packages (from kaggle) (6.2.0)\n",
            "Requirement already satisfied: certifi>=14.05.14 in /usr/local/lib/python3.11/dist-packages (from kaggle) (2025.4.26)\n",
            "Requirement already satisfied: charset-normalizer in /usr/local/lib/python3.11/dist-packages (from kaggle) (3.4.2)\n",
            "Requirement already satisfied: idna in /usr/local/lib/python3.11/dist-packages (from kaggle) (3.10)\n",
            "Requirement already satisfied: protobuf in /usr/local/lib/python3.11/dist-packages (from kaggle) (5.29.5)\n",
            "Requirement already satisfied: python-dateutil>=2.5.3 in /usr/local/lib/python3.11/dist-packages (from kaggle) (2.9.0.post0)\n",
            "Requirement already satisfied: python-slugify in /usr/local/lib/python3.11/dist-packages (from kaggle) (8.0.4)\n",
            "Requirement already satisfied: requests in /usr/local/lib/python3.11/dist-packages (from kaggle) (2.32.3)\n",
            "Requirement already satisfied: setuptools>=21.0.0 in /usr/local/lib/python3.11/dist-packages (from kaggle) (75.2.0)\n",
            "Requirement already satisfied: six>=1.10 in /usr/local/lib/python3.11/dist-packages (from kaggle) (1.17.0)\n",
            "Requirement already satisfied: text-unidecode in /usr/local/lib/python3.11/dist-packages (from kaggle) (1.3)\n",
            "Requirement already satisfied: tqdm in /usr/local/lib/python3.11/dist-packages (from kaggle) (4.67.1)\n",
            "Requirement already satisfied: urllib3>=1.15.1 in /usr/local/lib/python3.11/dist-packages (from kaggle) (2.4.0)\n",
            "Requirement already satisfied: webencodings in /usr/local/lib/python3.11/dist-packages (from kaggle) (0.5.1)\n",
            "Dataset URL: https://www.kaggle.com/datasets/sartajbhuvaji/brain-tumor-classification-mri\n",
            "License(s): MIT\n",
            "brain-tumor-classification-mri.zip: Skipping, found more recently modified local copy (use --force to force download)\n",
            "Downloaded zip files: ['brain-tumor-classification-mri.zip']\n"
          ]
        }
      ],
      "source": [
        "# Install and use direct kaggle API\n",
        "!pip install kaggle\n",
        "\n",
        "# Download the brain tumor dataset\n",
        "!kaggle datasets download -d sartajbhuvaji/brain-tumor-classification-mri\n",
        "\n",
        "# Check if zip file downloaded\n",
        "import glob\n",
        "zip_files = glob.glob('*.zip')\n",
        "print(\"Downloaded zip files:\", zip_files)"
      ]
    },
    {
      "cell_type": "code",
      "execution_count": null,
      "metadata": {
        "id": "w64u8gYFzZ-R"
      },
      "outputs": [],
      "source": [
        "import zipfile\n",
        "import os\n",
        "# Extract the dataset\n",
        "with zipfile.ZipFile('brain-tumor-classification-mri.zip', 'r') as zip_ref:\n",
        "    zip_ref.extractall('brain_tumor_dataset')"
      ]
    },
    {
      "cell_type": "code",
      "execution_count": null,
      "metadata": {
        "colab": {
          "base_uri": "https://localhost:8080/"
        },
        "id": "Qre7j3xDzeEe",
        "outputId": "35800057-1c4e-4b84-a56c-222442456cbe"
      },
      "outputs": [
        {
          "name": "stdout",
          "output_type": "stream",
          "text": [
            "Contents of extracted dataset: ['Training', 'Testing']\n"
          ]
        }
      ],
      "source": [
        "# Now update your original data exploration code\n",
        "import os\n",
        "\n",
        "# Set correct base directory\n",
        "base_dir = 'brain_tumor_dataset/'\n",
        "\n",
        "# Find the actual folder structure\n",
        "contents = os.listdir(base_dir)\n",
        "print(\"Contents of extracted dataset:\", contents)\n",
        "\n",
        "# Usually the structure will be like:\n",
        "# brain_tumor_dataset/Training/ and brain_tumor_dataset/Testing/\n",
        "train_dir = os.path.join(base_dir, 'Training')\n",
        "test_dir = os.path.join(base_dir, 'Testing')"
      ]
    },
    {
      "cell_type": "code",
      "execution_count": null,
      "metadata": {
        "colab": {
          "base_uri": "https://localhost:8080/"
        },
        "id": "cFfuwi43ziMy",
        "outputId": "26073b2d-ae6c-48a8-d310-d58b00c09e48"
      },
      "outputs": [
        {
          "name": "stdout",
          "output_type": "stream",
          "text": [
            "Available classes: ['meningioma_tumor', 'pituitary_tumor', 'glioma_tumor', 'no_tumor']\n",
            "meningioma_tumor: 822 train, 115 test\n",
            "pituitary_tumor: 827 train, 74 test\n",
            "glioma_tumor: 826 train, 100 test\n",
            "no_tumor: 395 train, 105 test\n",
            "\n",
            "Total training images: 2870\n",
            "Total testing images: 394\n",
            "Total images: 3264\n"
          ]
        }
      ],
      "source": [
        "# Define paths for all classes\n",
        "if os.path.exists(train_dir) and os.path.exists(test_dir):\n",
        "    # Get actual class names from directories\n",
        "    train_classes = os.listdir(train_dir)\n",
        "    test_classes = os.listdir(test_dir)\n",
        "\n",
        "    print(\"Available classes:\", train_classes)\n",
        "\n",
        "    # Create file lists for each class\n",
        "    train_files = {}\n",
        "    test_files = {}\n",
        "\n",
        "    for class_name in train_classes:\n",
        "        train_path = os.path.join(train_dir, class_name)\n",
        "        test_path = os.path.join(test_dir, class_name)\n",
        "\n",
        "        if os.path.exists(train_path):\n",
        "            train_files[class_name] = [os.path.join(train_path, f)\n",
        "                                     for f in os.listdir(train_path)\n",
        "                                     if f.lower().endswith(('.png', '.jpg', '.jpeg'))]\n",
        "\n",
        "        if os.path.exists(test_path):\n",
        "            test_files[class_name] = [os.path.join(test_path, f)\n",
        "                                    for f in os.listdir(test_path)\n",
        "                                    if f.lower().endswith(('.png', '.jpg', '.jpeg'))]\n",
        "\n",
        "        print(f\"{class_name}: {len(train_files.get(class_name, []))} train, {len(test_files.get(class_name, []))} test\")\n",
        "\n",
        "    # Calculate totals\n",
        "    total_train = sum(len(files) for files in train_files.values())\n",
        "    total_test = sum(len(files) for files in test_files.values())\n",
        "\n",
        "    print(f\"\\nTotal training images: {total_train}\")\n",
        "    print(f\"Total testing images: {total_test}\")\n",
        "    print(f\"Total images: {total_train + total_test}\")"
      ]
    },
    {
      "cell_type": "code",
      "execution_count": null,
      "metadata": {
        "id": "hod7_0q8umXS"
      },
      "outputs": [],
      "source": [
        "#import necessary libraries when needed\n",
        "import os\n",
        "import numpy as np\n",
        "import pandas as pd\n",
        "import pathlib\n",
        "import imageio"
      ]
    },
    {
      "cell_type": "code",
      "execution_count": null,
      "metadata": {
        "colab": {
          "base_uri": "https://localhost:8080/"
        },
        "id": "FQjty0QFzILY",
        "outputId": "4e2dd9e7-e9f4-413e-a8af-b89fc91f213d"
      },
      "outputs": [
        {
          "name": "stdout",
          "output_type": "stream",
          "text": [
            "Available classes: ['meningioma_tumor', 'pituitary_tumor', 'glioma_tumor', 'no_tumor']\n",
            "meningioma_tumor: 822 train, 115 test\n",
            "pituitary_tumor: 827 train, 74 test\n",
            "glioma_tumor: 826 train, 100 test\n",
            "no_tumor: 395 train, 105 test\n",
            "\n",
            "Total training images: 2870\n",
            "Total testing images: 394\n",
            "Total images: 3264\n"
          ]
        }
      ],
      "source": [
        "# Define paths for all classes\n",
        "if os.path.exists(train_dir) and os.path.exists(test_dir):\n",
        "    # Get actual class names from directories\n",
        "    train_classes = os.listdir(train_dir)\n",
        "    test_classes = os.listdir(test_dir)\n",
        "\n",
        "    print(\"Available classes:\", train_classes)\n",
        "\n",
        "    # Create file lists for each class\n",
        "    train_files = {}\n",
        "    test_files = {}\n",
        "\n",
        "    for class_name in train_classes:\n",
        "        train_path = os.path.join(train_dir, class_name)\n",
        "        test_path = os.path.join(test_dir, class_name)\n",
        "\n",
        "        if os.path.exists(train_path):\n",
        "            train_files[class_name] = [os.path.join(train_path, f)\n",
        "                                     for f in os.listdir(train_path)\n",
        "                                     if f.lower().endswith(('.png', '.jpg', '.jpeg'))]\n",
        "\n",
        "        if os.path.exists(test_path):\n",
        "            test_files[class_name] = [os.path.join(test_path, f)\n",
        "                                    for f in os.listdir(test_path)\n",
        "                                    if f.lower().endswith(('.png', '.jpg', '.jpeg'))]\n",
        "\n",
        "        print(f\"{class_name}: {len(train_files.get(class_name, []))} train, {len(test_files.get(class_name, []))} test\")\n",
        "\n",
        "    # Calculate totals\n",
        "    total_train = sum(len(files) for files in train_files.values())\n",
        "    total_test = sum(len(files) for files in test_files.values())\n",
        "\n",
        "    print(f\"\\nTotal training images: {total_train}\")\n",
        "    print(f\"Total testing images: {total_test}\")\n",
        "    print(f\"Total images: {total_train + total_test}\")"
      ]
    },
    {
      "cell_type": "code",
      "execution_count": null,
      "metadata": {
        "colab": {
          "base_uri": "https://localhost:8080/"
        },
        "id": "N-NRBOIovKxg",
        "outputId": "bc561cc0-4b80-4dff-ac4b-487b6c7bf45d"
      },
      "outputs": [
        {
          "name": "stdout",
          "output_type": "stream",
          "text": [
            "=== Brain Tumor Dataset Statistics ===\n",
            "Total training images: 2870\n",
            "Total testing images: 394\n",
            "Total images: 3264\n"
          ]
        }
      ],
      "source": [
        "# Exploring brain tumor dataset - CORRECTED VERSION FOR COLAB\n",
        "import os\n",
        "\n",
        "# Use the correct Colab path from your output\n",
        "base_dir = '/content/brain_tumor_dataset'\n",
        "train_dir = os.path.join(base_dir, 'Training')\n",
        "test_dir = os.path.join(base_dir, 'Testing')\n",
        "\n",
        "# Define paths for 4 brain tumor classes using ACTUAL folder names\n",
        "train_glioma_dir = os.path.join(train_dir, 'glioma_tumor')\n",
        "train_meningioma_dir = os.path.join(train_dir, 'meningioma_tumor')\n",
        "train_pituitary_dir = os.path.join(train_dir, 'pituitary_tumor')\n",
        "train_notumor_dir = os.path.join(train_dir, 'no_tumor')\n",
        "\n",
        "test_glioma_dir = os.path.join(test_dir, 'glioma_tumor')\n",
        "test_meningioma_dir = os.path.join(test_dir, 'meningioma_tumor')\n",
        "test_pituitary_dir = os.path.join(test_dir, 'pituitary_tumor')\n",
        "test_notumor_dir = os.path.join(test_dir, 'no_tumor')\n",
        "\n",
        "# Create file lists for each class\n",
        "train_glioma = [os.path.join(train_glioma_dir, f) for f in os.listdir(train_glioma_dir)]\n",
        "train_meningioma = [os.path.join(train_meningioma_dir, f) for f in os.listdir(train_meningioma_dir)]\n",
        "train_pituitary = [os.path.join(train_pituitary_dir, f) for f in os.listdir(train_pituitary_dir)]\n",
        "train_notumor = [os.path.join(train_notumor_dir, f) for f in os.listdir(train_notumor_dir)]\n",
        "\n",
        "test_glioma = [os.path.join(test_glioma_dir, f) for f in os.listdir(test_glioma_dir)]\n",
        "test_meningioma = [os.path.join(test_meningioma_dir, f) for f in os.listdir(test_meningioma_dir)]\n",
        "test_pituitary = [os.path.join(test_pituitary_dir, f) for f in os.listdir(test_pituitary_dir)]\n",
        "test_notumor = [os.path.join(test_notumor_dir, f) for f in os.listdir(test_notumor_dir)]\n",
        "\n",
        "# Print dataset statistics\n",
        "total_train = train_glioma + train_meningioma + train_pituitary + train_notumor\n",
        "total_test = test_glioma + test_meningioma + test_pituitary + test_notumor\n",
        "\n",
        "print(\"=== Brain Tumor Dataset Statistics ===\")\n",
        "print(\"Total training images:\", len(total_train))\n",
        "print(\"Total testing images:\", len(total_test))\n",
        "print(\"Total images:\", len(total_train + total_test))"
      ]
    },
    {
      "cell_type": "code",
      "execution_count": null,
      "metadata": {
        "id": "yysFvFUnvuQF"
      },
      "outputs": [],
      "source": [
        "import cv2\n",
        "import numpy as np\n",
        "\n",
        "def preprocess_brain_mri(image_paths, labels, img_size=224):\n",
        "    X = []\n",
        "    y = []\n",
        "    for img_path, label in zip(image_paths, labels):\n",
        "        img = cv2.imread(img_path, cv2.IMREAD_GRAYSCALE)\n",
        "        img = cv2.resize(img, (img_size, img_size))\n",
        "        img = np.stack((img,)*3, axis=-1)  # convert to 3 channels\n",
        "        img = img.astype(np.float32) / 255.0\n",
        "        X.append(img)\n",
        "        y.append(label)\n",
        "    return np.array(X), np.array(y)\n"
      ]
    },
    {
      "cell_type": "code",
      "execution_count": null,
      "metadata": {
        "id": "bsI2Yykj0AFJ"
      },
      "outputs": [],
      "source": [
        "from tensorflow.keras.applications import VGG16\n",
        "from tensorflow.keras.layers import Dense, GlobalAveragePooling2D, Dropout\n",
        "from tensorflow.keras.models import Model\n",
        "from tensorflow.keras.optimizers import Adam\n",
        "\n",
        "img_size = 224\n",
        "num_classes = 4  # no_tumor, pituitary, glioma, meningioma\n",
        "\n",
        "# Load VGG16 base model without top layers\n",
        "base_model = VGG16(weights='imagenet', include_top=False, input_shape=(img_size, img_size, 3))\n",
        "\n",
        "# Freeze base model layers initially\n",
        "for layer in base_model.layers:\n",
        "    layer.trainable = False\n",
        "\n",
        "# Add custom classification layers on top\n",
        "x = base_model.output\n",
        "x = GlobalAveragePooling2D()(x)\n",
        "x = Dense(128, activation='relu')(x)\n",
        "x = Dropout(0.5)(x)\n",
        "predictions = Dense(num_classes, activation='softmax')(x)\n",
        "\n",
        "model = Model(inputs=base_model.input, outputs=predictions)\n",
        "\n",
        "# Compile model\n",
        "model.compile(optimizer=Adam(learning_rate=1e-4),\n",
        "              loss='sparse_categorical_crossentropy',  # use sparse if labels are integers\n",
        "              metrics=['accuracy'])\n"
      ]
    },
    {
      "cell_type": "code",
      "execution_count": null,
      "metadata": {
        "colab": {
          "base_uri": "https://localhost:8080/"
        },
        "id": "E7G8LQXd0Sj2",
        "outputId": "68316078-76e8-432e-cfe9-c1eea254651e"
      },
      "outputs": [
        {
          "name": "stdout",
          "output_type": "stream",
          "text": [
            "Total images found: 2870\n",
            "Sample paths: ['/content/brain_tumor_dataset/Training/no_tumor/image (50).jpg', '/content/brain_tumor_dataset/Training/no_tumor/image(327).jpg', '/content/brain_tumor_dataset/Training/no_tumor/image(122).jpg']\n",
            "Sample labels: [0, 0, 0]\n"
          ]
        }
      ],
      "source": [
        "import os\n",
        "\n",
        "# Define class mapping\n",
        "classes = {'no_tumor': 0, 'pituitary_tumor': 1, 'glioma_tumor': 2, 'meningioma_tumor': 3}\n",
        "base_dir = '/content/brain_tumor_dataset/Training'  # adjust path as needed\n",
        "\n",
        "image_paths = []\n",
        "labels = []\n",
        "\n",
        "for cls, label in classes.items():\n",
        "    folder = os.path.join(base_dir, cls)\n",
        "    for filename in os.listdir(folder):\n",
        "        if filename.lower().endswith(('.png', '.jpg', '.jpeg', '.bmp', '.tif', '.tiff')):\n",
        "            image_paths.append(os.path.join(folder, filename))\n",
        "            labels.append(label)\n",
        "\n",
        "print(f\"Total images found: {len(image_paths)}\")\n",
        "print(f\"Sample paths: {image_paths[:3]}\")\n",
        "print(f\"Sample labels: {labels[:3]}\")\n"
      ]
    },
    {
      "cell_type": "code",
      "execution_count": null,
      "metadata": {
        "id": "n9n99map2MRM"
      },
      "outputs": [],
      "source": [
        "from sklearn.model_selection import train_test_split\n",
        "\n",
        "# Split into train, validation, and test sets\n",
        "X_temp, X_test, y_temp, y_test = train_test_split(image_paths, labels, test_size=0.15, random_state=42, stratify=labels)\n",
        "X_train, X_val, y_train, y_val = train_test_split(X_temp, y_temp, test_size=0.1765, random_state=42, stratify=y_temp)"
      ]
    },
    {
      "cell_type": "code",
      "execution_count": null,
      "metadata": {
        "id": "uyEcx1a23xcu"
      },
      "outputs": [],
      "source": [
        "def preprocess_images(image_paths, labels, img_size=224):\n",
        "    X = []\n",
        "    y = []\n",
        "    for img_path, label in zip(image_paths, labels):\n",
        "        img = cv2.imread(img_path, cv2.IMREAD_GRAYSCALE)\n",
        "        img = cv2.resize(img, (img_size, img_size))\n",
        "        img = np.stack((img,)*3, axis=-1)  # Grayscale to 3 channels\n",
        "        img = img.astype(np.float32) / 255.0\n",
        "        X.append(img)\n",
        "        y.append(label)\n",
        "    return np.array(X), np.array(y)\n",
        "\n",
        "X_train, y_train = preprocess_images(X_train, y_train)\n",
        "X_val, y_val = preprocess_images(X_val, y_val)\n",
        "X_test, y_test = preprocess_images(X_test, y_test)\n"
      ]
    },
    {
      "cell_type": "code",
      "execution_count": null,
      "metadata": {
        "id": "4CyDQGz333Al"
      },
      "outputs": [],
      "source": [
        "import tensorflow as tf\n",
        "from tensorflow.keras.preprocessing.image import ImageDataGenerator\n",
        "import random\n",
        "SEED = 10\n",
        "os.environ['PYTHONHASHSEED'] = str(SEED)\n",
        "random.seed(SEED)\n",
        "np.random.seed(SEED)\n",
        "tf.random.set_seed(SEED)\n",
        "\n",
        "train_datagen = ImageDataGenerator(rotation_range=15,\n",
        "                                   width_shift_range=0.1,\n",
        "                                   height_shift_range=0.1,\n",
        "                                   zoom_range=0.2,\n",
        "                                   horizontal_flip=True)\n",
        "\n",
        "val_datagen = ImageDataGenerator()\n",
        "\n",
        "train_generator = train_datagen.flow(X_train, y_train, batch_size=32)\n",
        "val_generator = val_datagen.flow(X_val, y_val, batch_size=32)\n"
      ]
    },
    {
      "cell_type": "code",
      "execution_count": null,
      "metadata": {
        "colab": {
          "base_uri": "https://localhost:8080/"
        },
        "id": "xhfX9vid4dhp",
        "outputId": "3602f3d8-f560-4aa3-fe1d-f3786ca2af04"
      },
      "outputs": [
        {
          "name": "stderr",
          "output_type": "stream",
          "text": [
            "/usr/local/lib/python3.11/dist-packages/keras/src/trainers/data_adapters/py_dataset_adapter.py:121: UserWarning: Your `PyDataset` class should call `super().__init__(**kwargs)` in its constructor. `**kwargs` can include `workers`, `use_multiprocessing`, `max_queue_size`. Do not pass these arguments to `fit()`, as they will be ignored.\n",
            "  self._warn_if_super_not_called()\n"
          ]
        },
        {
          "name": "stdout",
          "output_type": "stream",
          "text": [
            "Epoch 1/64\n",
            "\u001b[1m63/63\u001b[0m \u001b[32m━━━━━━━━━━━━━━━━━━━━\u001b[0m\u001b[37m\u001b[0m \u001b[1m37s\u001b[0m 541ms/step - accuracy: 0.2866 - loss: 1.5073 - val_accuracy: 0.4524 - val_loss: 1.3188\n",
            "Epoch 2/64\n",
            "\u001b[1m63/63\u001b[0m \u001b[32m━━━━━━━━━━━━━━━━━━━━\u001b[0m\u001b[37m\u001b[0m \u001b[1m36s\u001b[0m 484ms/step - accuracy: 0.3180 - loss: 1.3814 - val_accuracy: 0.5452 - val_loss: 1.2779\n",
            "Epoch 3/64\n",
            "\u001b[1m63/63\u001b[0m \u001b[32m━━━━━━━━━━━━━━━━━━━━\u001b[0m\u001b[37m\u001b[0m \u001b[1m42s\u001b[0m 491ms/step - accuracy: 0.3601 - loss: 1.3234 - val_accuracy: 0.5476 - val_loss: 1.2459\n",
            "Epoch 4/64\n",
            "\u001b[1m63/63\u001b[0m \u001b[32m━━━━━━━━━━━━━━━━━━━━\u001b[0m\u001b[37m\u001b[0m \u001b[1m30s\u001b[0m 483ms/step - accuracy: 0.3897 - loss: 1.2895 - val_accuracy: 0.6009 - val_loss: 1.2163\n",
            "Epoch 5/64\n",
            "\u001b[1m63/63\u001b[0m \u001b[32m━━━━━━━━━━━━━━━━━━━━\u001b[0m\u001b[37m\u001b[0m \u001b[1m32s\u001b[0m 507ms/step - accuracy: 0.4267 - loss: 1.2416 - val_accuracy: 0.6172 - val_loss: 1.1894\n",
            "Epoch 6/64\n",
            "\u001b[1m63/63\u001b[0m \u001b[32m━━━━━━━━━━━━━━━━━━━━\u001b[0m\u001b[37m\u001b[0m \u001b[1m30s\u001b[0m 481ms/step - accuracy: 0.4552 - loss: 1.2025 - val_accuracy: 0.6056 - val_loss: 1.1612\n",
            "Epoch 7/64\n",
            "\u001b[1m63/63\u001b[0m \u001b[32m━━━━━━━━━━━━━━━━━━━━\u001b[0m\u001b[37m\u001b[0m \u001b[1m31s\u001b[0m 499ms/step - accuracy: 0.5404 - loss: 1.1598 - val_accuracy: 0.6265 - val_loss: 1.1351\n",
            "Epoch 8/64\n",
            "\u001b[1m63/63\u001b[0m \u001b[32m━━━━━━━━━━━━━━━━━━━━\u001b[0m\u001b[37m\u001b[0m \u001b[1m30s\u001b[0m 482ms/step - accuracy: 0.5199 - loss: 1.1506 - val_accuracy: 0.6334 - val_loss: 1.1111\n",
            "Epoch 9/64\n",
            "\u001b[1m63/63\u001b[0m \u001b[32m━━━━━━━━━━━━━━━━━━━━\u001b[0m\u001b[37m\u001b[0m \u001b[1m30s\u001b[0m 483ms/step - accuracy: 0.5652 - loss: 1.1310 - val_accuracy: 0.6427 - val_loss: 1.0880\n",
            "Epoch 10/64\n",
            "\u001b[1m63/63\u001b[0m \u001b[32m━━━━━━━━━━━━━━━━━━━━\u001b[0m\u001b[37m\u001b[0m \u001b[1m30s\u001b[0m 477ms/step - accuracy: 0.5624 - loss: 1.1059 - val_accuracy: 0.6473 - val_loss: 1.0660\n",
            "Epoch 11/64\n",
            "\u001b[1m63/63\u001b[0m \u001b[32m━━━━━━━━━━━━━━━━━━━━\u001b[0m\u001b[37m\u001b[0m \u001b[1m32s\u001b[0m 506ms/step - accuracy: 0.5669 - loss: 1.0875 - val_accuracy: 0.6729 - val_loss: 1.0462\n",
            "Epoch 12/64\n",
            "\u001b[1m63/63\u001b[0m \u001b[32m━━━━━━━━━━━━━━━━━━━━\u001b[0m\u001b[37m\u001b[0m \u001b[1m31s\u001b[0m 485ms/step - accuracy: 0.5921 - loss: 1.0673 - val_accuracy: 0.6705 - val_loss: 1.0258\n",
            "Epoch 13/64\n",
            "\u001b[1m63/63\u001b[0m \u001b[32m━━━━━━━━━━━━━━━━━━━━\u001b[0m\u001b[37m\u001b[0m \u001b[1m31s\u001b[0m 486ms/step - accuracy: 0.5901 - loss: 1.0506 - val_accuracy: 0.6659 - val_loss: 1.0081\n",
            "Epoch 14/64\n",
            "\u001b[1m63/63\u001b[0m \u001b[32m━━━━━━━━━━━━━━━━━━━━\u001b[0m\u001b[37m\u001b[0m \u001b[1m31s\u001b[0m 498ms/step - accuracy: 0.6131 - loss: 1.0357 - val_accuracy: 0.6798 - val_loss: 0.9890\n",
            "Epoch 15/64\n",
            "\u001b[1m63/63\u001b[0m \u001b[32m━━━━━━━━━━━━━━━━━━━━\u001b[0m\u001b[37m\u001b[0m \u001b[1m30s\u001b[0m 481ms/step - accuracy: 0.6146 - loss: 1.0191 - val_accuracy: 0.6914 - val_loss: 0.9710\n",
            "Epoch 16/64\n",
            "\u001b[1m63/63\u001b[0m \u001b[32m━━━━━━━━━━━━━━━━━━━━\u001b[0m\u001b[37m\u001b[0m \u001b[1m30s\u001b[0m 482ms/step - accuracy: 0.6325 - loss: 0.9907 - val_accuracy: 0.6914 - val_loss: 0.9540\n",
            "Epoch 17/64\n",
            "\u001b[1m63/63\u001b[0m \u001b[32m━━━━━━━━━━━━━━━━━━━━\u001b[0m\u001b[37m\u001b[0m \u001b[1m30s\u001b[0m 477ms/step - accuracy: 0.6382 - loss: 0.9669 - val_accuracy: 0.6937 - val_loss: 0.9381\n",
            "Epoch 18/64\n",
            "\u001b[1m63/63\u001b[0m \u001b[32m━━━━━━━━━━━━━━━━━━━━\u001b[0m\u001b[37m\u001b[0m \u001b[1m31s\u001b[0m 486ms/step - accuracy: 0.6583 - loss: 0.9450 - val_accuracy: 0.6961 - val_loss: 0.9221\n",
            "Epoch 19/64\n",
            "\u001b[1m63/63\u001b[0m \u001b[32m━━━━━━━━━━━━━━━━━━━━\u001b[0m\u001b[37m\u001b[0m \u001b[1m42s\u001b[0m 505ms/step - accuracy: 0.6279 - loss: 0.9803 - val_accuracy: 0.7100 - val_loss: 0.9056\n",
            "Epoch 20/64\n",
            "\u001b[1m63/63\u001b[0m \u001b[32m━━━━━━━━━━━━━━━━━━━━\u001b[0m\u001b[37m\u001b[0m \u001b[1m30s\u001b[0m 481ms/step - accuracy: 0.6638 - loss: 0.9228 - val_accuracy: 0.6984 - val_loss: 0.8923\n",
            "Epoch 21/64\n",
            "\u001b[1m63/63\u001b[0m \u001b[32m━━━━━━━━━━━━━━━━━━━━\u001b[0m\u001b[37m\u001b[0m \u001b[1m30s\u001b[0m 479ms/step - accuracy: 0.6921 - loss: 0.9174 - val_accuracy: 0.6984 - val_loss: 0.8807\n",
            "Epoch 22/64\n",
            "\u001b[1m63/63\u001b[0m \u001b[32m━━━━━━━━━━━━━━━━━━━━\u001b[0m\u001b[37m\u001b[0m \u001b[1m30s\u001b[0m 465ms/step - accuracy: 0.6818 - loss: 0.8871 - val_accuracy: 0.7262 - val_loss: 0.8639\n",
            "Epoch 23/64\n",
            "\u001b[1m63/63\u001b[0m \u001b[32m━━━━━━━━━━━━━━━━━━━━\u001b[0m\u001b[37m\u001b[0m \u001b[1m30s\u001b[0m 473ms/step - accuracy: 0.6590 - loss: 0.9098 - val_accuracy: 0.6937 - val_loss: 0.8543\n",
            "Epoch 24/64\n",
            "\u001b[1m63/63\u001b[0m \u001b[32m━━━━━━━━━━━━━━━━━━━━\u001b[0m\u001b[37m\u001b[0m \u001b[1m31s\u001b[0m 484ms/step - accuracy: 0.6707 - loss: 0.8991 - val_accuracy: 0.7146 - val_loss: 0.8408\n",
            "Epoch 25/64\n",
            "\u001b[1m63/63\u001b[0m \u001b[32m━━━━━━━━━━━━━━━━━━━━\u001b[0m\u001b[37m\u001b[0m \u001b[1m30s\u001b[0m 471ms/step - accuracy: 0.6771 - loss: 0.8781 - val_accuracy: 0.7378 - val_loss: 0.8279\n",
            "Epoch 26/64\n",
            "\u001b[1m63/63\u001b[0m \u001b[32m━━━━━━━━━━━━━━━━━━━━\u001b[0m\u001b[37m\u001b[0m \u001b[1m30s\u001b[0m 482ms/step - accuracy: 0.6764 - loss: 0.8727 - val_accuracy: 0.7169 - val_loss: 0.8232\n",
            "Epoch 27/64\n",
            "\u001b[1m63/63\u001b[0m \u001b[32m━━━━━━━━━━━━━━━━━━━━\u001b[0m\u001b[37m\u001b[0m \u001b[1m42s\u001b[0m 499ms/step - accuracy: 0.6854 - loss: 0.8647 - val_accuracy: 0.7146 - val_loss: 0.8127\n",
            "Epoch 28/64\n",
            "\u001b[1m63/63\u001b[0m \u001b[32m━━━━━━━━━━━━━━━━━━━━\u001b[0m\u001b[37m\u001b[0m \u001b[1m30s\u001b[0m 476ms/step - accuracy: 0.6769 - loss: 0.8616 - val_accuracy: 0.7285 - val_loss: 0.8023\n",
            "Epoch 29/64\n",
            "\u001b[1m63/63\u001b[0m \u001b[32m━━━━━━━━━━━━━━━━━━━━\u001b[0m\u001b[37m\u001b[0m \u001b[1m30s\u001b[0m 481ms/step - accuracy: 0.6860 - loss: 0.8544 - val_accuracy: 0.7309 - val_loss: 0.7902\n",
            "Epoch 30/64\n",
            "\u001b[1m63/63\u001b[0m \u001b[32m━━━━━━━━━━━━━━━━━━━━\u001b[0m\u001b[37m\u001b[0m \u001b[1m30s\u001b[0m 477ms/step - accuracy: 0.7020 - loss: 0.8298 - val_accuracy: 0.7471 - val_loss: 0.7789\n",
            "Epoch 31/64\n",
            "\u001b[1m63/63\u001b[0m \u001b[32m━━━━━━━━━━━━━━━━━━━━\u001b[0m\u001b[37m\u001b[0m \u001b[1m30s\u001b[0m 481ms/step - accuracy: 0.6850 - loss: 0.8495 - val_accuracy: 0.7355 - val_loss: 0.7723\n",
            "Epoch 32/64\n",
            "\u001b[1m63/63\u001b[0m \u001b[32m━━━━━━━━━━━━━━━━━━━━\u001b[0m\u001b[37m\u001b[0m \u001b[1m30s\u001b[0m 474ms/step - accuracy: 0.6823 - loss: 0.8399 - val_accuracy: 0.7378 - val_loss: 0.7645\n",
            "Epoch 33/64\n",
            "\u001b[1m63/63\u001b[0m \u001b[32m━━━━━━━━━━━━━━━━━━━━\u001b[0m\u001b[37m\u001b[0m \u001b[1m29s\u001b[0m 466ms/step - accuracy: 0.7122 - loss: 0.8014 - val_accuracy: 0.7448 - val_loss: 0.7536\n",
            "Epoch 34/64\n",
            "\u001b[1m63/63\u001b[0m \u001b[32m━━━━━━━━━━━━━━━━━━━━\u001b[0m\u001b[37m\u001b[0m \u001b[1m30s\u001b[0m 471ms/step - accuracy: 0.6978 - loss: 0.7972 - val_accuracy: 0.7262 - val_loss: 0.7520\n",
            "Epoch 35/64\n",
            "\u001b[1m63/63\u001b[0m \u001b[32m━━━━━━━━━━━━━━━━━━━━\u001b[0m\u001b[37m\u001b[0m \u001b[1m30s\u001b[0m 471ms/step - accuracy: 0.7196 - loss: 0.7744 - val_accuracy: 0.7425 - val_loss: 0.7441\n",
            "Epoch 36/64\n",
            "\u001b[1m63/63\u001b[0m \u001b[32m━━━━━━━━━━━━━━━━━━━━\u001b[0m\u001b[37m\u001b[0m \u001b[1m31s\u001b[0m 490ms/step - accuracy: 0.7167 - loss: 0.7887 - val_accuracy: 0.7471 - val_loss: 0.7341\n",
            "Epoch 37/64\n",
            "\u001b[1m63/63\u001b[0m \u001b[32m━━━━━━━━━━━━━━━━━━━━\u001b[0m\u001b[37m\u001b[0m \u001b[1m40s\u001b[0m 475ms/step - accuracy: 0.7046 - loss: 0.7840 - val_accuracy: 0.7401 - val_loss: 0.7338\n",
            "Epoch 38/64\n",
            "\u001b[1m63/63\u001b[0m \u001b[32m━━━━━━━━━━━━━━━━━━━━\u001b[0m\u001b[37m\u001b[0m \u001b[1m29s\u001b[0m 467ms/step - accuracy: 0.7381 - loss: 0.7326 - val_accuracy: 0.7587 - val_loss: 0.7164\n",
            "Epoch 39/64\n",
            "\u001b[1m63/63\u001b[0m \u001b[32m━━━━━━━━━━━━━━━━━━━━\u001b[0m\u001b[37m\u001b[0m \u001b[1m29s\u001b[0m 466ms/step - accuracy: 0.7088 - loss: 0.7736 - val_accuracy: 0.7448 - val_loss: 0.7147\n",
            "Epoch 40/64\n",
            "\u001b[1m63/63\u001b[0m \u001b[32m━━━━━━━━━━━━━━━━━━━━\u001b[0m\u001b[37m\u001b[0m \u001b[1m31s\u001b[0m 482ms/step - accuracy: 0.7286 - loss: 0.7380 - val_accuracy: 0.7610 - val_loss: 0.7000\n",
            "Epoch 41/64\n",
            "\u001b[1m63/63\u001b[0m \u001b[32m━━━━━━━━━━━━━━━━━━━━\u001b[0m\u001b[37m\u001b[0m \u001b[1m30s\u001b[0m 482ms/step - accuracy: 0.7397 - loss: 0.7285 - val_accuracy: 0.7425 - val_loss: 0.7026\n",
            "Epoch 42/64\n",
            "\u001b[1m63/63\u001b[0m \u001b[32m━━━━━━━━━━━━━━━━━━━━\u001b[0m\u001b[37m\u001b[0m \u001b[1m31s\u001b[0m 491ms/step - accuracy: 0.7307 - loss: 0.7405 - val_accuracy: 0.7657 - val_loss: 0.6943\n",
            "Epoch 43/64\n",
            "\u001b[1m63/63\u001b[0m \u001b[32m━━━━━━━━━━━━━━━━━━━━\u001b[0m\u001b[37m\u001b[0m \u001b[1m30s\u001b[0m 482ms/step - accuracy: 0.7109 - loss: 0.7504 - val_accuracy: 0.7587 - val_loss: 0.6903\n",
            "Epoch 44/64\n",
            "\u001b[1m63/63\u001b[0m \u001b[32m━━━━━━━━━━━━━━━━━━━━\u001b[0m\u001b[37m\u001b[0m \u001b[1m31s\u001b[0m 498ms/step - accuracy: 0.7166 - loss: 0.7366 - val_accuracy: 0.7633 - val_loss: 0.6759\n",
            "Epoch 45/64\n",
            "\u001b[1m63/63\u001b[0m \u001b[32m━━━━━━━━━━━━━━━━━━━━\u001b[0m\u001b[37m\u001b[0m \u001b[1m42s\u001b[0m 507ms/step - accuracy: 0.7337 - loss: 0.7247 - val_accuracy: 0.7633 - val_loss: 0.6744\n",
            "Epoch 46/64\n",
            "\u001b[1m63/63\u001b[0m \u001b[32m━━━━━━━━━━━━━━━━━━━━\u001b[0m\u001b[37m\u001b[0m \u001b[1m31s\u001b[0m 485ms/step - accuracy: 0.7429 - loss: 0.7069 - val_accuracy: 0.7680 - val_loss: 0.6682\n",
            "Epoch 47/64\n",
            "\u001b[1m63/63\u001b[0m \u001b[32m━━━━━━━━━━━━━━━━━━━━\u001b[0m\u001b[37m\u001b[0m \u001b[1m31s\u001b[0m 493ms/step - accuracy: 0.7377 - loss: 0.7029 - val_accuracy: 0.7610 - val_loss: 0.6682\n",
            "Epoch 48/64\n",
            "\u001b[1m63/63\u001b[0m \u001b[32m━━━━━━━━━━━━━━━━━━━━\u001b[0m\u001b[37m\u001b[0m \u001b[1m31s\u001b[0m 489ms/step - accuracy: 0.7270 - loss: 0.7123 - val_accuracy: 0.7633 - val_loss: 0.6637\n",
            "Epoch 49/64\n",
            "\u001b[1m63/63\u001b[0m \u001b[32m━━━━━━━━━━━━━━━━━━━━\u001b[0m\u001b[37m\u001b[0m \u001b[1m31s\u001b[0m 487ms/step - accuracy: 0.7360 - loss: 0.7121 - val_accuracy: 0.7749 - val_loss: 0.6533\n",
            "Epoch 50/64\n",
            "\u001b[1m63/63\u001b[0m \u001b[32m━━━━━━━━━━━━━━━━━━━━\u001b[0m\u001b[37m\u001b[0m \u001b[1m31s\u001b[0m 492ms/step - accuracy: 0.7508 - loss: 0.6690 - val_accuracy: 0.7726 - val_loss: 0.6506\n",
            "Epoch 51/64\n",
            "\u001b[1m63/63\u001b[0m \u001b[32m━━━━━━━━━━━━━━━━━━━━\u001b[0m\u001b[37m\u001b[0m \u001b[1m31s\u001b[0m 489ms/step - accuracy: 0.7732 - loss: 0.6697 - val_accuracy: 0.7657 - val_loss: 0.6502\n",
            "Epoch 52/64\n",
            "\u001b[1m63/63\u001b[0m \u001b[32m━━━━━━━━━━━━━━━━━━━━\u001b[0m\u001b[37m\u001b[0m \u001b[1m42s\u001b[0m 512ms/step - accuracy: 0.7428 - loss: 0.6996 - val_accuracy: 0.7726 - val_loss: 0.6374\n",
            "Epoch 53/64\n",
            "\u001b[1m63/63\u001b[0m \u001b[32m━━━━━━━━━━━━━━━━━━━━\u001b[0m\u001b[37m\u001b[0m \u001b[1m30s\u001b[0m 479ms/step - accuracy: 0.7606 - loss: 0.6619 - val_accuracy: 0.7726 - val_loss: 0.6381\n",
            "Epoch 54/64\n",
            "\u001b[1m63/63\u001b[0m \u001b[32m━━━━━━━━━━━━━━━━━━━━\u001b[0m\u001b[37m\u001b[0m \u001b[1m31s\u001b[0m 485ms/step - accuracy: 0.7440 - loss: 0.7051 - val_accuracy: 0.7726 - val_loss: 0.6403\n",
            "Epoch 55/64\n",
            "\u001b[1m63/63\u001b[0m \u001b[32m━━━━━━━━━━━━━━━━━━━━\u001b[0m\u001b[37m\u001b[0m \u001b[1m30s\u001b[0m 470ms/step - accuracy: 0.7295 - loss: 0.7266 - val_accuracy: 0.7703 - val_loss: 0.6374\n",
            "Epoch 56/64\n",
            "\u001b[1m63/63\u001b[0m \u001b[32m━━━━━━━━━━━━━━━━━━━━\u001b[0m\u001b[37m\u001b[0m \u001b[1m30s\u001b[0m 481ms/step - accuracy: 0.7508 - loss: 0.6585 - val_accuracy: 0.7494 - val_loss: 0.6491\n",
            "Epoch 57/64\n",
            "\u001b[1m63/63\u001b[0m \u001b[32m━━━━━━━━━━━━━━━━━━━━\u001b[0m\u001b[37m\u001b[0m \u001b[1m31s\u001b[0m 479ms/step - accuracy: 0.7567 - loss: 0.6522 - val_accuracy: 0.7610 - val_loss: 0.6400\n",
            "Epoch 58/64\n",
            "\u001b[1m63/63\u001b[0m \u001b[32m━━━━━━━━━━━━━━━━━━━━\u001b[0m\u001b[37m\u001b[0m \u001b[1m30s\u001b[0m 470ms/step - accuracy: 0.7437 - loss: 0.6730 - val_accuracy: 0.7657 - val_loss: 0.6290\n",
            "Epoch 59/64\n",
            "\u001b[1m63/63\u001b[0m \u001b[32m━━━━━━━━━━━━━━━━━━━━\u001b[0m\u001b[37m\u001b[0m \u001b[1m30s\u001b[0m 468ms/step - accuracy: 0.7314 - loss: 0.6941 - val_accuracy: 0.7726 - val_loss: 0.6234\n",
            "Epoch 60/64\n",
            "\u001b[1m63/63\u001b[0m \u001b[32m━━━━━━━━━━━━━━━━━━━━\u001b[0m\u001b[37m\u001b[0m \u001b[1m31s\u001b[0m 499ms/step - accuracy: 0.7585 - loss: 0.6751 - val_accuracy: 0.7657 - val_loss: 0.6285\n",
            "Epoch 61/64\n",
            "\u001b[1m63/63\u001b[0m \u001b[32m━━━━━━━━━━━━━━━━━━━━\u001b[0m\u001b[37m\u001b[0m \u001b[1m31s\u001b[0m 485ms/step - accuracy: 0.7650 - loss: 0.6616 - val_accuracy: 0.7703 - val_loss: 0.6141\n",
            "Epoch 62/64\n",
            "\u001b[1m63/63\u001b[0m \u001b[32m━━━━━━━━━━━━━━━━━━━━\u001b[0m\u001b[37m\u001b[0m \u001b[1m42s\u001b[0m 498ms/step - accuracy: 0.7675 - loss: 0.6373 - val_accuracy: 0.7657 - val_loss: 0.6145\n",
            "Epoch 63/64\n",
            "\u001b[1m63/63\u001b[0m \u001b[32m━━━━━━━━━━━━━━━━━━━━\u001b[0m\u001b[37m\u001b[0m \u001b[1m30s\u001b[0m 482ms/step - accuracy: 0.7429 - loss: 0.6490 - val_accuracy: 0.7726 - val_loss: 0.6228\n",
            "Epoch 64/64\n",
            "\u001b[1m63/63\u001b[0m \u001b[32m━━━━━━━━━━━━━━━━━━━━\u001b[0m\u001b[37m\u001b[0m \u001b[1m31s\u001b[0m 486ms/step - accuracy: 0.7622 - loss: 0.6606 - val_accuracy: 0.7703 - val_loss: 0.6192\n"
          ]
        }
      ],
      "source": [
        "history = model.fit(train_generator,\n",
        "                    validation_data=val_generator,\n",
        "                    epochs=64)"
      ]
    },
    {
      "cell_type": "code",
      "execution_count": null,
      "metadata": {
        "colab": {
          "base_uri": "https://localhost:8080/"
        },
        "id": "PQr_cIdZ559r",
        "outputId": "2c0a10ab-6441-4f75-af45-b055434bfb75"
      },
      "outputs": [
        {
          "name": "stdout",
          "output_type": "stream",
          "text": [
            "\u001b[1m14/14\u001b[0m \u001b[32m━━━━━━━━━━━━━━━━━━━━\u001b[0m\u001b[37m\u001b[0m \u001b[1m3s\u001b[0m 207ms/step\n"
          ]
        }
      ],
      "source": [
        "import numpy as np\n",
        "\n",
        "# Get model predictions (assuming y_test is your true labels)\n",
        "y_pred_probs = model.predict(X_test)\n",
        "y_pred = np.argmax(y_pred_probs, axis=1)  # for softmax output (multi-class)"
      ]
    },
    {
      "cell_type": "code",
      "execution_count": null,
      "metadata": {
        "colab": {
          "base_uri": "https://localhost:8080/"
        },
        "id": "2KBzjDhe7k0V",
        "outputId": "ccd28239-b70d-4508-debd-cda8880cba54"
      },
      "outputs": [
        {
          "name": "stdout",
          "output_type": "stream",
          "text": [
            "============ CLASSIFICATION REPORT =============\n",
            "                 precision  recall specificity f1-score\n",
            "glioma_tumor         87.5%  83.05%      98.12%   85.22%\n",
            "meningioma_tumor     75.0%  99.19%      86.64%   85.42%\n",
            "no_tumor            89.91%  79.03%      96.42%   84.12%\n",
            "pituitary_tumor     74.51%  61.29%      91.53%   67.26%\n",
            "accuracy            80.28%  80.28%        nan%   80.28%\n",
            "macro avg           81.73%  80.64%        nan%    80.5%\n",
            "weighted avg        80.86%  80.28%        nan%   79.79%\n"
          ]
        }
      ],
      "source": [
        "from sklearn.metrics import classification_report, confusion_matrix, accuracy_score\n",
        "import numpy as np\n",
        "import pandas as pd\n",
        "\n",
        "# Assume y_test and y_pred are defined\n",
        "target_names = ['glioma_tumor', 'meningioma_tumor', 'no_tumor', 'pituitary_tumor']\n",
        "\n",
        "# Classification report as DataFrame for formatting\n",
        "report_dict = classification_report(y_test, y_pred, target_names=target_names, output_dict=True)\n",
        "report_df = pd.DataFrame(report_dict).T\n",
        "\n",
        "# Compute specificity for each class\n",
        "cm = confusion_matrix(y_test, y_pred)\n",
        "specificity = []\n",
        "for i in range(len(cm)):\n",
        "    tn = np.sum(np.delete(np.delete(cm, i, axis=0), i, axis=1))\n",
        "    fp = np.sum(np.delete(cm, i, axis=0)[:, i])\n",
        "    specificity.append(tn / (tn + fp) if (tn + fp) > 0 else 0)\n",
        "report_df['specificity'] = np.nan\n",
        "for idx, spec in enumerate(specificity):\n",
        "    report_df.loc[target_names[idx], 'specificity'] = spec\n",
        "\n",
        "# Format as percentage with 2 decimals\n",
        "for col in ['precision', 'recall', 'specificity', 'f1-score']:\n",
        "    report_df[col] = (report_df[col] * 100).round(2).astype(str) + '%'\n",
        "report_df['support'] = report_df['support'].astype(int)\n",
        "\n",
        "# Print formatted report\n",
        "print(\"============ CLASSIFICATION REPORT =============\")\n",
        "print(report_df[['precision', 'recall', 'specificity', 'f1-score']].to_string())\n"
      ]
    },
    {
      "cell_type": "code",
      "execution_count": null,
      "metadata": {
        "colab": {
          "base_uri": "https://localhost:8080/"
        },
        "id": "NKqIM3868uy1",
        "outputId": "6797a176-9821-4fb1-f6ae-71c4bcbbb89c"
      },
      "outputs": [
        {
          "name": "stdout",
          "output_type": "stream",
          "text": [
            "\n",
            "============ TRAINING METRIC =============\n",
            "Train Accuracy: 76.05%\n"
          ]
        }
      ],
      "source": [
        "# For training accuracy (use history.history['accuracy'][-1] for last epoch)\n",
        "train_acc = history.history['accuracy'][-1]\n",
        "print(\"\\n============ TRAINING METRIC =============\")\n",
        "print(f\"Train Accuracy: {train_acc*100:.2f}%\")"
      ]
    },
    {
      "cell_type": "code",
      "execution_count": null,
      "metadata": {
        "colab": {
          "base_uri": "https://localhost:8080/",
          "height": 488
        },
        "id": "DRrLSpJPIBz_",
        "outputId": "66372306-a834-4b8f-fd64-5bc823fbdb52"
      },
      "outputs": [
        {
          "data": {
            "image/png": "[encoded data removed]",
            "text/plain": [
              "<Figure size 1200x500 with 2 Axes>"
            ]
          },
          "metadata": {},
          "output_type": "display_data"
        }
      ],
      "source": [
        "# Plot training and validation curves\n",
        "import matplotlib.pyplot as plt\n",
        "acc = history.history['accuracy']\n",
        "val_acc = history.history['val_accuracy']\n",
        "loss = history.history['loss']\n",
        "val_loss = history.history['val_loss']\n",
        "\n",
        "epochs = range(1, len(acc) + 1)\n",
        "\n",
        "plt.figure(figsize=(12, 5))\n",
        "plt.subplot(1, 2, 1)\n",
        "plt.plot(epochs, acc, 'b', label='Training accuracy')\n",
        "plt.plot(epochs, val_acc, 'r', label='Validation accuracy')\n",
        "plt.title('Training and Validation Accuracy')\n",
        "plt.legend()\n",
        "plt.subplot(1, 2, 2)\n",
        "plt.plot(epochs, loss, 'b', label='Training loss')\n",
        "plt.plot(epochs, val_loss, 'r', label='Validation loss')\n",
        "plt.title('Training and Validation Loss')\n",
        "plt.legend()\n",
        "plt.show()"
      ]
    }
  ],
  "metadata": {
    "accelerator": "GPU",
    "colab": {
      "gpuType": "T4",
      "provenance": []
    },
    "kernelspec": {
      "display_name": "Python 3",
      "name": "python3"
    },
    "language_info": {
      "name": "python"
    }
  },
  "nbformat": 4,
  "nbformat_minor": 0
}
