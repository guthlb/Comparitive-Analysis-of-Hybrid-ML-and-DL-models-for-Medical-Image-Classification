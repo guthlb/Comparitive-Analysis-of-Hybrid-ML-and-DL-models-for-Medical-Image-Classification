{
 "cells": [
  {
   "cell_type": "code",
   "execution_count": 9,
   "metadata": {
    "_cell_guid": "b1076dfc-b9ad-4769-8c92-a6c4dae69d19",
    "_uuid": "8f2839f25d086af736a60e9eeb907d3b93b6e0e5",
    "execution": {
     "iopub.execute_input": "2025-06-06T08:40:40.185640Z",
     "iopub.status.busy": "2025-06-06T08:40:40.184831Z",
     "iopub.status.idle": "2025-06-06T08:40:40.190370Z",
     "shell.execute_reply": "2025-06-06T08:40:40.189530Z",
     "shell.execute_reply.started": "2025-06-06T08:40:40.185613Z"
    },
    "trusted": true
   },
   "outputs": [],
   "source": [
    "import os\n",
    "import numpy as np\n",
    "import cv2\n",
    "from sklearn.model_selection import train_test_split\n",
    "from sklearn.preprocessing import LabelEncoder\n",
    "from sklearn.decomposition import PCA\n",
    "from sklearn.metrics import accuracy_score, classification_report, confusion_matrix\n",
    "from xgboost import XGBClassifier\n",
    "import matplotlib.pyplot as plt\n",
    "import seaborn as sns\n",
    "from tqdm import tqdm\n"
   ]
  },
  {
   "cell_type": "code",
   "execution_count": 10,
   "metadata": {
    "execution": {
     "iopub.execute_input": "2025-06-06T08:40:40.200337Z",
     "iopub.status.busy": "2025-06-06T08:40:40.200060Z",
     "iopub.status.idle": "2025-06-06T08:40:40.257198Z",
     "shell.execute_reply": "2025-06-06T08:40:40.256539Z",
     "shell.execute_reply.started": "2025-06-06T08:40:40.200314Z"
    },
    "trusted": true
   },
   "outputs": [],
   "source": [
    "# 1. Gather all image paths and labels\n",
    "base_dir = '/kaggle/input/brain-tumor-classification-mri'\n",
    "train_dir = os.path.join(base_dir, 'Training')\n",
    "test_dir = os.path.join(base_dir, 'Testing')\n",
    "classes = ['glioma_tumor', 'meningioma_tumor', 'pituitary_tumor', 'no_tumor']\n",
    "\n",
    "# Collect all image paths and labels\n",
    "all_images = []\n",
    "all_labels = []\n",
    "for cls in classes:\n",
    "    # Training dir\n",
    "    cls_dir = os.path.join(train_dir, cls)\n",
    "    all_images += [os.path.join(cls_dir, fname) for fname in os.listdir(cls_dir) if fname.lower().endswith(('.png','.jpg','.jpeg'))]\n",
    "    all_labels += [cls] * len([fname for fname in os.listdir(cls_dir) if fname.lower().endswith(('.png','.jpg','.jpeg'))])\n",
    "    # Testing dir\n",
    "    cls_dir = os.path.join(test_dir, cls)\n",
    "    all_images += [os.path.join(cls_dir, fname) for fname in os.listdir(cls_dir) if fname.lower().endswith(('.png','.jpg','.jpeg'))]\n",
    "    all_labels += [cls] * len([fname for fname in os.listdir(cls_dir) if fname.lower().endswith(('.png','.jpg','.jpeg'))])\n",
    "\n",
    "all_images = np.array(all_images)\n",
    "all_labels = np.array(all_labels)"
   ]
  },
  {
   "cell_type": "code",
   "execution_count": 11,
   "metadata": {
    "execution": {
     "iopub.execute_input": "2025-06-06T08:40:40.259076Z",
     "iopub.status.busy": "2025-06-06T08:40:40.258785Z",
     "iopub.status.idle": "2025-06-06T08:40:40.272269Z",
     "shell.execute_reply": "2025-06-06T08:40:40.271568Z",
     "shell.execute_reply.started": "2025-06-06T08:40:40.259054Z"
    },
    "trusted": true
   },
   "outputs": [
    {
     "name": "stdout",
     "output_type": "stream",
     "text": [
      "Train: 1957, Val: 164, Test: 1143\n"
     ]
    }
   ],
   "source": [
    "# 60 train XG boost + PCA\n",
    "\n",
    "# 35% test\n",
    "X_temp, X_test, y_temp, y_test = train_test_split(\n",
    "    all_images, all_labels, test_size=0.35, random_state=42, stratify=all_labels)\n",
    "\n",
    "# 5% val (of total, so 0.05/0.65 ≈ 0.0769 of what's left)\n",
    "X_train, X_val, y_train, y_val = train_test_split(\n",
    "    X_temp, y_temp, test_size=0.0769, random_state=42, stratify=y_temp)\n",
    "\n",
    "print(f\"Train: {len(X_train)}, Val: {len(X_val)}, Test: {len(X_test)}\")"
   ]
  },
  {
   "cell_type": "code",
   "execution_count": 12,
   "metadata": {
    "execution": {
     "iopub.execute_input": "2025-06-06T08:40:40.273170Z",
     "iopub.status.busy": "2025-06-06T08:40:40.272950Z",
     "iopub.status.idle": "2025-06-06T08:40:52.914406Z",
     "shell.execute_reply": "2025-06-06T08:40:52.913749Z",
     "shell.execute_reply.started": "2025-06-06T08:40:40.273154Z"
    },
    "trusted": true
   },
   "outputs": [
    {
     "name": "stdout",
     "output_type": "stream",
     "text": [
      "Loading training images...\n"
     ]
    },
    {
     "name": "stderr",
     "output_type": "stream",
     "text": [
      "100%|██████████| 1957/1957 [00:07<00:00, 270.36it/s]\n"
     ]
    },
    {
     "name": "stdout",
     "output_type": "stream",
     "text": [
      "Loading validation images...\n"
     ]
    },
    {
     "name": "stderr",
     "output_type": "stream",
     "text": [
      "100%|██████████| 164/164 [00:00<00:00, 253.85it/s]\n"
     ]
    },
    {
     "name": "stdout",
     "output_type": "stream",
     "text": [
      "Loading test images...\n"
     ]
    },
    {
     "name": "stderr",
     "output_type": "stream",
     "text": [
      "100%|██████████| 1143/1143 [00:04<00:00, 272.69it/s]\n"
     ]
    }
   ],
   "source": [
    "# 3. Load and preprocess images\n",
    "def load_and_preprocess_images(image_paths, target_size=(150, 150)):\n",
    "    images = []\n",
    "    for img_path in tqdm(image_paths):\n",
    "        try:\n",
    "            img = cv2.imread(img_path)\n",
    "            img = cv2.resize(img, target_size)\n",
    "            img = cv2.cvtColor(img, cv2.COLOR_BGR2RGB)\n",
    "            images.append(img)\n",
    "        except Exception as e:\n",
    "            print(f\"Error loading {img_path}: {e}\")\n",
    "    return np.array(images)\n",
    "\n",
    "print(\"Loading training images...\")\n",
    "X_train_images = load_and_preprocess_images(X_train)\n",
    "print(\"Loading validation images...\")\n",
    "X_val_images = load_and_preprocess_images(X_val)\n",
    "print(\"Loading test images...\")\n",
    "X_test_images = load_and_preprocess_images(X_test)\n",
    "\n",
    "def flatten_and_normalize(images):\n",
    "    n_samples = images.shape[0]\n",
    "    h, w, c = images.shape[1], images.shape[2], images.shape[3]\n",
    "    X_flat = images.reshape(n_samples, h*w*c).astype('float32') / 255.0\n",
    "    return X_flat\n",
    "\n",
    "X_train_flat = flatten_and_normalize(X_train_images)\n",
    "X_val_flat = flatten_and_normalize(X_val_images)\n",
    "X_test_flat = flatten_and_normalize(X_test_images)\n"
   ]
  },
  {
   "cell_type": "code",
   "execution_count": 13,
   "metadata": {
    "execution": {
     "iopub.execute_input": "2025-06-06T08:40:52.915429Z",
     "iopub.status.busy": "2025-06-06T08:40:52.915199Z",
     "iopub.status.idle": "2025-06-06T08:41:01.502904Z",
     "shell.execute_reply": "2025-06-06T08:41:01.501934Z",
     "shell.execute_reply.started": "2025-06-06T08:40:52.915412Z"
    },
    "trusted": true
   },
   "outputs": [
    {
     "name": "stdout",
     "output_type": "stream",
     "text": [
      "Fitting PCA...\n",
      "PCA reduced to 200 components.\n"
     ]
    }
   ],
   "source": [
    "# 4. PCA\n",
    "n_components = 200  # You can tune this\n",
    "print(\"Fitting PCA...\")\n",
    "pca = PCA(n_components=n_components, random_state=42)\n",
    "X_train_pca = pca.fit_transform(X_train_flat)\n",
    "X_val_pca = pca.transform(X_val_flat)\n",
    "X_test_pca = pca.transform(X_test_flat)\n",
    "print(f\"PCA reduced to {n_components} components.\")"
   ]
  },
  {
   "cell_type": "code",
   "execution_count": 14,
   "metadata": {
    "execution": {
     "iopub.execute_input": "2025-06-06T08:41:01.505099Z",
     "iopub.status.busy": "2025-06-06T08:41:01.504834Z",
     "iopub.status.idle": "2025-06-06T08:41:01.511143Z",
     "shell.execute_reply": "2025-06-06T08:41:01.510308Z",
     "shell.execute_reply.started": "2025-06-06T08:41:01.505081Z"
    },
    "trusted": true
   },
   "outputs": [
    {
     "name": "stdout",
     "output_type": "stream",
     "text": [
      "Class mapping: {'glioma_tumor': 0, 'meningioma_tumor': 1, 'no_tumor': 2, 'pituitary_tumor': 3}\n"
     ]
    }
   ],
   "source": [
    "# 5. Encode labels\n",
    "label_encoder = LabelEncoder()\n",
    "y_train_enc = label_encoder.fit_transform(y_train)\n",
    "y_val_enc = label_encoder.transform(y_val)\n",
    "y_test_enc = label_encoder.transform(y_test)\n",
    "print(f\"Class mapping: {dict(zip(label_encoder.classes_, range(len(label_encoder.classes_))))}\")"
   ]
  },
  {
   "cell_type": "code",
   "execution_count": 15,
   "metadata": {
    "execution": {
     "iopub.execute_input": "2025-06-06T08:41:01.512911Z",
     "iopub.status.busy": "2025-06-06T08:41:01.512294Z",
     "iopub.status.idle": "2025-06-06T08:41:12.996872Z",
     "shell.execute_reply": "2025-06-06T08:41:12.996264Z",
     "shell.execute_reply.started": "2025-06-06T08:41:01.512889Z"
    },
    "trusted": true
   },
   "outputs": [
    {
     "name": "stdout",
     "output_type": "stream",
     "text": [
      "Training XGBoost with PCA features...\n",
      "[0]\tvalidation_0-mlogloss:1.30607\n"
     ]
    },
    {
     "name": "stderr",
     "output_type": "stream",
     "text": [
      "/usr/local/lib/python3.11/dist-packages/xgboost/sklearn.py:889: UserWarning: `early_stopping_rounds` in `fit` method is deprecated for better compatibility with scikit-learn, use `early_stopping_rounds` in constructor or`set_params` instead.\n",
      "  warnings.warn(\n"
     ]
    },
    {
     "name": "stdout",
     "output_type": "stream",
     "text": [
      "[1]\tvalidation_0-mlogloss:1.23485\n",
      "[2]\tvalidation_0-mlogloss:1.18017\n",
      "[3]\tvalidation_0-mlogloss:1.11850\n",
      "[4]\tvalidation_0-mlogloss:1.06448\n",
      "[5]\tvalidation_0-mlogloss:1.02055\n",
      "[6]\tvalidation_0-mlogloss:0.98152\n",
      "[7]\tvalidation_0-mlogloss:0.94412\n",
      "[8]\tvalidation_0-mlogloss:0.91572\n",
      "[9]\tvalidation_0-mlogloss:0.88558\n",
      "[10]\tvalidation_0-mlogloss:0.85918\n",
      "[11]\tvalidation_0-mlogloss:0.83071\n",
      "[12]\tvalidation_0-mlogloss:0.80500\n",
      "[13]\tvalidation_0-mlogloss:0.78378\n",
      "[14]\tvalidation_0-mlogloss:0.76538\n",
      "[15]\tvalidation_0-mlogloss:0.74484\n",
      "[16]\tvalidation_0-mlogloss:0.72782\n",
      "[17]\tvalidation_0-mlogloss:0.71114\n",
      "[18]\tvalidation_0-mlogloss:0.69831\n",
      "[19]\tvalidation_0-mlogloss:0.68031\n",
      "[20]\tvalidation_0-mlogloss:0.66423\n",
      "[21]\tvalidation_0-mlogloss:0.65104\n",
      "[22]\tvalidation_0-mlogloss:0.63480\n",
      "[23]\tvalidation_0-mlogloss:0.62704\n",
      "[24]\tvalidation_0-mlogloss:0.61524\n",
      "[25]\tvalidation_0-mlogloss:0.60409\n",
      "[26]\tvalidation_0-mlogloss:0.59289\n",
      "[27]\tvalidation_0-mlogloss:0.58386\n",
      "[28]\tvalidation_0-mlogloss:0.57506\n",
      "[29]\tvalidation_0-mlogloss:0.56545\n",
      "[30]\tvalidation_0-mlogloss:0.55697\n",
      "[31]\tvalidation_0-mlogloss:0.54991\n",
      "[32]\tvalidation_0-mlogloss:0.54343\n",
      "[33]\tvalidation_0-mlogloss:0.53788\n",
      "[34]\tvalidation_0-mlogloss:0.53141\n",
      "[35]\tvalidation_0-mlogloss:0.52653\n",
      "[36]\tvalidation_0-mlogloss:0.52210\n",
      "[37]\tvalidation_0-mlogloss:0.51622\n",
      "[38]\tvalidation_0-mlogloss:0.51025\n",
      "[39]\tvalidation_0-mlogloss:0.50536\n",
      "[40]\tvalidation_0-mlogloss:0.49970\n",
      "[41]\tvalidation_0-mlogloss:0.49557\n",
      "[42]\tvalidation_0-mlogloss:0.49120\n",
      "[43]\tvalidation_0-mlogloss:0.48356\n",
      "[44]\tvalidation_0-mlogloss:0.47789\n",
      "[45]\tvalidation_0-mlogloss:0.47327\n",
      "[46]\tvalidation_0-mlogloss:0.47129\n",
      "[47]\tvalidation_0-mlogloss:0.46819\n",
      "[48]\tvalidation_0-mlogloss:0.46411\n",
      "[49]\tvalidation_0-mlogloss:0.45976\n",
      "[50]\tvalidation_0-mlogloss:0.45586\n",
      "[51]\tvalidation_0-mlogloss:0.45355\n",
      "[52]\tvalidation_0-mlogloss:0.44768\n",
      "[53]\tvalidation_0-mlogloss:0.44542\n",
      "[54]\tvalidation_0-mlogloss:0.44290\n",
      "[55]\tvalidation_0-mlogloss:0.43920\n",
      "[56]\tvalidation_0-mlogloss:0.43716\n",
      "[57]\tvalidation_0-mlogloss:0.43390\n",
      "[58]\tvalidation_0-mlogloss:0.43283\n",
      "[59]\tvalidation_0-mlogloss:0.43010\n",
      "[60]\tvalidation_0-mlogloss:0.42713\n",
      "[61]\tvalidation_0-mlogloss:0.42580\n",
      "[62]\tvalidation_0-mlogloss:0.42327\n",
      "[63]\tvalidation_0-mlogloss:0.42272\n",
      "[64]\tvalidation_0-mlogloss:0.42025\n",
      "[65]\tvalidation_0-mlogloss:0.41827\n",
      "[66]\tvalidation_0-mlogloss:0.41611\n",
      "[67]\tvalidation_0-mlogloss:0.41532\n",
      "[68]\tvalidation_0-mlogloss:0.41251\n",
      "[69]\tvalidation_0-mlogloss:0.41109\n",
      "[70]\tvalidation_0-mlogloss:0.40985\n",
      "[71]\tvalidation_0-mlogloss:0.40911\n",
      "[72]\tvalidation_0-mlogloss:0.40770\n",
      "[73]\tvalidation_0-mlogloss:0.40612\n",
      "[74]\tvalidation_0-mlogloss:0.40566\n",
      "[75]\tvalidation_0-mlogloss:0.40521\n",
      "[76]\tvalidation_0-mlogloss:0.40475\n",
      "[77]\tvalidation_0-mlogloss:0.40449\n",
      "[78]\tvalidation_0-mlogloss:0.40269\n",
      "[79]\tvalidation_0-mlogloss:0.40149\n",
      "[80]\tvalidation_0-mlogloss:0.40015\n",
      "[81]\tvalidation_0-mlogloss:0.39869\n",
      "[82]\tvalidation_0-mlogloss:0.39770\n",
      "[83]\tvalidation_0-mlogloss:0.39659\n",
      "[84]\tvalidation_0-mlogloss:0.39453\n",
      "[85]\tvalidation_0-mlogloss:0.39470\n",
      "[86]\tvalidation_0-mlogloss:0.39312\n",
      "[87]\tvalidation_0-mlogloss:0.39263\n",
      "[88]\tvalidation_0-mlogloss:0.39251\n",
      "[89]\tvalidation_0-mlogloss:0.39230\n",
      "[90]\tvalidation_0-mlogloss:0.39277\n",
      "[91]\tvalidation_0-mlogloss:0.39227\n",
      "[92]\tvalidation_0-mlogloss:0.39126\n",
      "[93]\tvalidation_0-mlogloss:0.39087\n",
      "[94]\tvalidation_0-mlogloss:0.39072\n",
      "[95]\tvalidation_0-mlogloss:0.39073\n",
      "[96]\tvalidation_0-mlogloss:0.38923\n",
      "[97]\tvalidation_0-mlogloss:0.38885\n",
      "[98]\tvalidation_0-mlogloss:0.38786\n",
      "[99]\tvalidation_0-mlogloss:0.38852\n",
      "[100]\tvalidation_0-mlogloss:0.38746\n",
      "[101]\tvalidation_0-mlogloss:0.38583\n",
      "[102]\tvalidation_0-mlogloss:0.38552\n",
      "[103]\tvalidation_0-mlogloss:0.38534\n",
      "[104]\tvalidation_0-mlogloss:0.38425\n",
      "[105]\tvalidation_0-mlogloss:0.38265\n",
      "[106]\tvalidation_0-mlogloss:0.38303\n",
      "[107]\tvalidation_0-mlogloss:0.38265\n",
      "[108]\tvalidation_0-mlogloss:0.38294\n",
      "[109]\tvalidation_0-mlogloss:0.38247\n",
      "[110]\tvalidation_0-mlogloss:0.38298\n",
      "[111]\tvalidation_0-mlogloss:0.38206\n",
      "[112]\tvalidation_0-mlogloss:0.38187\n",
      "[113]\tvalidation_0-mlogloss:0.38191\n",
      "[114]\tvalidation_0-mlogloss:0.38216\n",
      "[115]\tvalidation_0-mlogloss:0.38187\n",
      "[116]\tvalidation_0-mlogloss:0.38259\n",
      "[117]\tvalidation_0-mlogloss:0.38281\n",
      "[118]\tvalidation_0-mlogloss:0.38186\n",
      "[119]\tvalidation_0-mlogloss:0.38248\n",
      "[120]\tvalidation_0-mlogloss:0.38277\n",
      "[121]\tvalidation_0-mlogloss:0.38172\n",
      "[122]\tvalidation_0-mlogloss:0.37975\n",
      "[123]\tvalidation_0-mlogloss:0.37914\n",
      "[124]\tvalidation_0-mlogloss:0.37944\n",
      "[125]\tvalidation_0-mlogloss:0.38067\n",
      "[126]\tvalidation_0-mlogloss:0.38046\n",
      "[127]\tvalidation_0-mlogloss:0.38005\n",
      "[128]\tvalidation_0-mlogloss:0.37929\n",
      "[129]\tvalidation_0-mlogloss:0.37915\n",
      "[130]\tvalidation_0-mlogloss:0.37870\n",
      "[131]\tvalidation_0-mlogloss:0.37865\n",
      "[132]\tvalidation_0-mlogloss:0.37871\n",
      "[133]\tvalidation_0-mlogloss:0.37976\n",
      "[134]\tvalidation_0-mlogloss:0.37966\n",
      "[135]\tvalidation_0-mlogloss:0.37902\n",
      "[136]\tvalidation_0-mlogloss:0.37886\n",
      "[137]\tvalidation_0-mlogloss:0.37892\n",
      "[138]\tvalidation_0-mlogloss:0.37821\n",
      "[139]\tvalidation_0-mlogloss:0.37837\n",
      "[140]\tvalidation_0-mlogloss:0.37885\n",
      "[141]\tvalidation_0-mlogloss:0.37765\n",
      "[142]\tvalidation_0-mlogloss:0.37719\n",
      "[143]\tvalidation_0-mlogloss:0.37634\n",
      "[144]\tvalidation_0-mlogloss:0.37710\n",
      "[145]\tvalidation_0-mlogloss:0.37620\n",
      "[146]\tvalidation_0-mlogloss:0.37571\n",
      "[147]\tvalidation_0-mlogloss:0.37533\n",
      "[148]\tvalidation_0-mlogloss:0.37557\n",
      "[149]\tvalidation_0-mlogloss:0.37634\n",
      "[150]\tvalidation_0-mlogloss:0.37553\n",
      "[151]\tvalidation_0-mlogloss:0.37540\n",
      "[152]\tvalidation_0-mlogloss:0.37468\n",
      "[153]\tvalidation_0-mlogloss:0.37438\n",
      "[154]\tvalidation_0-mlogloss:0.37423\n",
      "[155]\tvalidation_0-mlogloss:0.37487\n",
      "[156]\tvalidation_0-mlogloss:0.37458\n",
      "[157]\tvalidation_0-mlogloss:0.37389\n",
      "[158]\tvalidation_0-mlogloss:0.37365\n",
      "[159]\tvalidation_0-mlogloss:0.37313\n",
      "[160]\tvalidation_0-mlogloss:0.37287\n",
      "[161]\tvalidation_0-mlogloss:0.37246\n",
      "[162]\tvalidation_0-mlogloss:0.37247\n",
      "[163]\tvalidation_0-mlogloss:0.37330\n",
      "[164]\tvalidation_0-mlogloss:0.37365\n",
      "[165]\tvalidation_0-mlogloss:0.37290\n",
      "[166]\tvalidation_0-mlogloss:0.37347\n",
      "[167]\tvalidation_0-mlogloss:0.37313\n",
      "[168]\tvalidation_0-mlogloss:0.37237\n",
      "[169]\tvalidation_0-mlogloss:0.37340\n",
      "[170]\tvalidation_0-mlogloss:0.37281\n",
      "[171]\tvalidation_0-mlogloss:0.37273\n",
      "[172]\tvalidation_0-mlogloss:0.37260\n",
      "[173]\tvalidation_0-mlogloss:0.37313\n",
      "[174]\tvalidation_0-mlogloss:0.37258\n",
      "[175]\tvalidation_0-mlogloss:0.37212\n",
      "[176]\tvalidation_0-mlogloss:0.37188\n",
      "[177]\tvalidation_0-mlogloss:0.37154\n",
      "[178]\tvalidation_0-mlogloss:0.37086\n",
      "[179]\tvalidation_0-mlogloss:0.37040\n",
      "[180]\tvalidation_0-mlogloss:0.36955\n",
      "[181]\tvalidation_0-mlogloss:0.36950\n",
      "[182]\tvalidation_0-mlogloss:0.37007\n",
      "[183]\tvalidation_0-mlogloss:0.37002\n",
      "[184]\tvalidation_0-mlogloss:0.37007\n",
      "[185]\tvalidation_0-mlogloss:0.36925\n",
      "[186]\tvalidation_0-mlogloss:0.37026\n",
      "[187]\tvalidation_0-mlogloss:0.36952\n",
      "[188]\tvalidation_0-mlogloss:0.36952\n",
      "[189]\tvalidation_0-mlogloss:0.36946\n",
      "[190]\tvalidation_0-mlogloss:0.36969\n",
      "[191]\tvalidation_0-mlogloss:0.36939\n",
      "[192]\tvalidation_0-mlogloss:0.36942\n",
      "[193]\tvalidation_0-mlogloss:0.36913\n",
      "[194]\tvalidation_0-mlogloss:0.36856\n",
      "[195]\tvalidation_0-mlogloss:0.36778\n",
      "[196]\tvalidation_0-mlogloss:0.36829\n",
      "[197]\tvalidation_0-mlogloss:0.36852\n",
      "[198]\tvalidation_0-mlogloss:0.36878\n",
      "[199]\tvalidation_0-mlogloss:0.36907\n"
     ]
    },
    {
     "data": {
      "text/html": [
       "<style>#sk-container-id-2 {color: black;background-color: white;}#sk-container-id-2 pre{padding: 0;}#sk-container-id-2 div.sk-toggleable {background-color: white;}#sk-container-id-2 label.sk-toggleable__label {cursor: pointer;display: block;width: 100%;margin-bottom: 0;padding: 0.3em;box-sizing: border-box;text-align: center;}#sk-container-id-2 label.sk-toggleable__label-arrow:before {content: \"▸\";float: left;margin-right: 0.25em;color: #696969;}#sk-container-id-2 label.sk-toggleable__label-arrow:hover:before {color: black;}#sk-container-id-2 div.sk-estimator:hover label.sk-toggleable__label-arrow:before {color: black;}#sk-container-id-2 div.sk-toggleable__content {max-height: 0;max-width: 0;overflow: hidden;text-align: left;background-color: #f0f8ff;}#sk-container-id-2 div.sk-toggleable__content pre {margin: 0.2em;color: black;border-radius: 0.25em;background-color: #f0f8ff;}#sk-container-id-2 input.sk-toggleable__control:checked~div.sk-toggleable__content {max-height: 200px;max-width: 100%;overflow: auto;}#sk-container-id-2 input.sk-toggleable__control:checked~label.sk-toggleable__label-arrow:before {content: \"▾\";}#sk-container-id-2 div.sk-estimator input.sk-toggleable__control:checked~label.sk-toggleable__label {background-color: #d4ebff;}#sk-container-id-2 div.sk-label input.sk-toggleable__control:checked~label.sk-toggleable__label {background-color: #d4ebff;}#sk-container-id-2 input.sk-hidden--visually {border: 0;clip: rect(1px 1px 1px 1px);clip: rect(1px, 1px, 1px, 1px);height: 1px;margin: -1px;overflow: hidden;padding: 0;position: absolute;width: 1px;}#sk-container-id-2 div.sk-estimator {font-family: monospace;background-color: #f0f8ff;border: 1px dotted black;border-radius: 0.25em;box-sizing: border-box;margin-bottom: 0.5em;}#sk-container-id-2 div.sk-estimator:hover {background-color: #d4ebff;}#sk-container-id-2 div.sk-parallel-item::after {content: \"\";width: 100%;border-bottom: 1px solid gray;flex-grow: 1;}#sk-container-id-2 div.sk-label:hover label.sk-toggleable__label {background-color: #d4ebff;}#sk-container-id-2 div.sk-serial::before {content: \"\";position: absolute;border-left: 1px solid gray;box-sizing: border-box;top: 0;bottom: 0;left: 50%;z-index: 0;}#sk-container-id-2 div.sk-serial {display: flex;flex-direction: column;align-items: center;background-color: white;padding-right: 0.2em;padding-left: 0.2em;position: relative;}#sk-container-id-2 div.sk-item {position: relative;z-index: 1;}#sk-container-id-2 div.sk-parallel {display: flex;align-items: stretch;justify-content: center;background-color: white;position: relative;}#sk-container-id-2 div.sk-item::before, #sk-container-id-2 div.sk-parallel-item::before {content: \"\";position: absolute;border-left: 1px solid gray;box-sizing: border-box;top: 0;bottom: 0;left: 50%;z-index: -1;}#sk-container-id-2 div.sk-parallel-item {display: flex;flex-direction: column;z-index: 1;position: relative;background-color: white;}#sk-container-id-2 div.sk-parallel-item:first-child::after {align-self: flex-end;width: 50%;}#sk-container-id-2 div.sk-parallel-item:last-child::after {align-self: flex-start;width: 50%;}#sk-container-id-2 div.sk-parallel-item:only-child::after {width: 0;}#sk-container-id-2 div.sk-dashed-wrapped {border: 1px dashed gray;margin: 0 0.4em 0.5em 0.4em;box-sizing: border-box;padding-bottom: 0.4em;background-color: white;}#sk-container-id-2 div.sk-label label {font-family: monospace;font-weight: bold;display: inline-block;line-height: 1.2em;}#sk-container-id-2 div.sk-label-container {text-align: center;}#sk-container-id-2 div.sk-container {/* jupyter's `normalize.less` sets `[hidden] { display: none; }` but bootstrap.min.css set `[hidden] { display: none !important; }` so we also need the `!important` here to be able to override the default hidden behavior on the sphinx rendered scikit-learn.org. See: https://github.com/scikit-learn/scikit-learn/issues/21755 */display: inline-block !important;position: relative;}#sk-container-id-2 div.sk-text-repr-fallback {display: none;}</style><div id=\"sk-container-id-2\" class=\"sk-top-container\"><div class=\"sk-text-repr-fallback\"><pre>XGBClassifier(base_score=None, booster=None, callbacks=None,\n",
       "              colsample_bylevel=None, colsample_bynode=None,\n",
       "              colsample_bytree=0.8, device=None, early_stopping_rounds=None,\n",
       "              enable_categorical=False, eval_metric=&#x27;mlogloss&#x27;,\n",
       "              feature_types=None, gamma=None, grow_policy=None,\n",
       "              importance_type=None, interaction_constraints=None,\n",
       "              learning_rate=0.1, max_bin=None, max_cat_threshold=None,\n",
       "              max_cat_to_onehot=None, max_delta_step=None, max_depth=6,\n",
       "              max_leaves=None, min_child_weight=None, missing=nan,\n",
       "              monotone_constraints=None, multi_strategy=None, n_estimators=200,\n",
       "              n_jobs=None, num_class=4, num_parallel_tree=None, ...)</pre><b>In a Jupyter environment, please rerun this cell to show the HTML representation or trust the notebook. <br />On GitHub, the HTML representation is unable to render, please try loading this page with nbviewer.org.</b></div><div class=\"sk-container\" hidden><div class=\"sk-item\"><div class=\"sk-estimator sk-toggleable\"><input class=\"sk-toggleable__control sk-hidden--visually\" id=\"sk-estimator-id-2\" type=\"checkbox\" checked><label for=\"sk-estimator-id-2\" class=\"sk-toggleable__label sk-toggleable__label-arrow\">XGBClassifier</label><div class=\"sk-toggleable__content\"><pre>XGBClassifier(base_score=None, booster=None, callbacks=None,\n",
       "              colsample_bylevel=None, colsample_bynode=None,\n",
       "              colsample_bytree=0.8, device=None, early_stopping_rounds=None,\n",
       "              enable_categorical=False, eval_metric=&#x27;mlogloss&#x27;,\n",
       "              feature_types=None, gamma=None, grow_policy=None,\n",
       "              importance_type=None, interaction_constraints=None,\n",
       "              learning_rate=0.1, max_bin=None, max_cat_threshold=None,\n",
       "              max_cat_to_onehot=None, max_delta_step=None, max_depth=6,\n",
       "              max_leaves=None, min_child_weight=None, missing=nan,\n",
       "              monotone_constraints=None, multi_strategy=None, n_estimators=200,\n",
       "              n_jobs=None, num_class=4, num_parallel_tree=None, ...)</pre></div></div></div></div></div>"
      ],
      "text/plain": [
       "XGBClassifier(base_score=None, booster=None, callbacks=None,\n",
       "              colsample_bylevel=None, colsample_bynode=None,\n",
       "              colsample_bytree=0.8, device=None, early_stopping_rounds=None,\n",
       "              enable_categorical=False, eval_metric='mlogloss',\n",
       "              feature_types=None, gamma=None, grow_policy=None,\n",
       "              importance_type=None, interaction_constraints=None,\n",
       "              learning_rate=0.1, max_bin=None, max_cat_threshold=None,\n",
       "              max_cat_to_onehot=None, max_delta_step=None, max_depth=6,\n",
       "              max_leaves=None, min_child_weight=None, missing=nan,\n",
       "              monotone_constraints=None, multi_strategy=None, n_estimators=200,\n",
       "              n_jobs=None, num_class=4, num_parallel_tree=None, ...)"
      ]
     },
     "execution_count": 15,
     "metadata": {},
     "output_type": "execute_result"
    }
   ],
   "source": [
    "# 6. Train XGBoost\n",
    "xgb_model = XGBClassifier(\n",
    "    objective='multi:softprob',\n",
    "    num_class=len(label_encoder.classes_),\n",
    "    max_depth=6,\n",
    "    learning_rate=0.1,\n",
    "    n_estimators=200,\n",
    "    subsample=0.8,\n",
    "    colsample_bytree=0.8,\n",
    "    random_state=42,\n",
    "    eval_metric='mlogloss',\n",
    "    verbosity=1\n",
    ")\n",
    "\n",
    "print(\"Training XGBoost with PCA features...\")\n",
    "xgb_model.fit(\n",
    "    X_train_pca, y_train_enc,\n",
    "    eval_set=[(X_val_pca, y_val_enc)],\n",
    "    early_stopping_rounds=20,\n",
    "    verbose=True\n",
    ")"
   ]
  },
  {
   "cell_type": "code",
   "execution_count": 16,
   "metadata": {
    "execution": {
     "iopub.execute_input": "2025-06-06T08:41:12.997884Z",
     "iopub.status.busy": "2025-06-06T08:41:12.997616Z",
     "iopub.status.idle": "2025-06-06T08:41:13.274643Z",
     "shell.execute_reply": "2025-06-06T08:41:13.273777Z",
     "shell.execute_reply.started": "2025-06-06T08:41:12.997854Z"
    },
    "trusted": true
   },
   "outputs": [
    {
     "name": "stdout",
     "output_type": "stream",
     "text": [
      "Evaluating...\n",
      "\n",
      "XGBOOST RESULTS\n",
      "Training Accuracy: 1.0000 (100.00%)\n",
      "Validation Accuracy: 0.8598 (85.98%)\n",
      "Test Accuracy: 0.8206 (82.06%)\n",
      "\n",
      "Classification Report (Test):\n",
      "                  precision    recall  f1-score   support\n",
      "\n",
      "    glioma_tumor       0.79      0.79      0.79       324\n",
      "meningioma_tumor       0.76      0.77      0.76       328\n",
      "        no_tumor       0.88      0.70      0.78       175\n",
      " pituitary_tumor       0.88      0.97      0.92       316\n",
      "\n",
      "        accuracy                           0.82      1143\n",
      "       macro avg       0.83      0.81      0.82      1143\n",
      "    weighted avg       0.82      0.82      0.82      1143\n",
      "\n"
     ]
    },
    {
     "data": {
      "image/png": "[encoded data removed]",
      "text/plain": [
       "<Figure size 800x600 with 2 Axes>"
      ]
     },
     "metadata": {},
     "output_type": "display_data"
    }
   ],
   "source": [
    "# 7. Evaluation\n",
    "print(\"Evaluating...\")\n",
    "y_pred_train = xgb_model.predict(X_train_pca)\n",
    "y_pred_val = xgb_model.predict(X_val_pca)\n",
    "y_pred_test = xgb_model.predict(X_test_pca)\n",
    "\n",
    "train_acc = accuracy_score(y_train_enc, y_pred_train)\n",
    "val_acc = accuracy_score(y_val_enc, y_pred_val)\n",
    "test_acc = accuracy_score(y_test_enc, y_pred_test)\n",
    "\n",
    "print(\"\\nXGBOOST RESULTS\")\n",
    "print(f\"Training Accuracy: {train_acc:.4f} ({train_acc:.2%})\")\n",
    "print(f\"Validation Accuracy: {val_acc:.4f} ({val_acc:.2%})\")\n",
    "print(f\"Test Accuracy: {test_acc:.4f} ({test_acc:.2%})\")\n",
    "\n",
    "print(\"\\nClassification Report (Test):\")\n",
    "print(classification_report(y_test_enc, y_pred_test, target_names=label_encoder.classes_))\n",
    "\n",
    "cm = confusion_matrix(y_test_enc, y_pred_test)\n",
    "plt.figure(figsize=(8, 6))\n",
    "sns.heatmap(cm, annot=True, fmt='d', cmap='Blues',\n",
    "            xticklabels=label_encoder.classes_,\n",
    "            yticklabels=label_encoder.classes_)\n",
    "plt.title('PCA+XGBoost Brain Tumor Classification - Confusion Matrix')\n",
    "plt.ylabel('True Label')\n",
    "plt.xlabel('Predicted Label')\n",
    "plt.show()"
   ]
  }
 ],
 "metadata": {
  "kaggle": {
   "accelerator": "nvidiaTeslaT4",
   "dataSources": [
    {
     "datasetId": 672377,
     "sourceId": 1183165,
     "sourceType": "datasetVersion"
    }
   ],
   "dockerImageVersionId": 31041,
   "isGpuEnabled": true,
   "isInternetEnabled": true,
   "language": "python",
   "sourceType": "notebook"
  },
  "kernelspec": {
   "display_name": "Python 3",
   "language": "python",
   "name": "python3"
  },
  "language_info": {
   "codemirror_mode": {
    "name": "ipython",
    "version": 3
   },
   "file_extension": ".py",
   "mimetype": "text/x-python",
   "name": "python",
   "nbconvert_exporter": "python",
   "pygments_lexer": "ipython3",
   "version": "3.11.11"
  }
 },
 "nbformat": 4,
 "nbformat_minor": 4
}
