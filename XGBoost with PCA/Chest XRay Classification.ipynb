{
 "cells": [
  {
   "cell_type": "code",
   "execution_count": 1,
   "id": "38166bda",
   "metadata": {
    "_cell_guid": "b1076dfc-b9ad-4769-8c92-a6c4dae69d19",
    "_uuid": "8f2839f25d086af736a60e9eeb907d3b93b6e0e5",
    "execution": {
     "iopub.execute_input": "2025-06-06T09:11:41.428541Z",
     "iopub.status.busy": "2025-06-06T09:11:41.428110Z",
     "iopub.status.idle": "2025-06-06T09:11:46.263299Z",
     "shell.execute_reply": "2025-06-06T09:11:46.262501Z"
    },
    "papermill": {
     "duration": 4.841714,
     "end_time": "2025-06-06T09:11:46.265455",
     "exception": false,
     "start_time": "2025-06-06T09:11:41.423741",
     "status": "completed"
    },
    "tags": []
   },
   "outputs": [],
   "source": [
    "import os\n",
    "import numpy as np\n",
    "import cv2\n",
    "from sklearn.model_selection import train_test_split\n",
    "from sklearn.preprocessing import LabelEncoder\n",
    "from sklearn.decomposition import PCA\n",
    "from sklearn.metrics import accuracy_score, classification_report, confusion_matrix\n",
    "from xgboost import XGBClassifier\n",
    "import matplotlib.pyplot as plt\n",
    "import seaborn as sns\n",
    "from tqdm import tqdm"
   ]
  },
  {
   "cell_type": "code",
   "execution_count": 2,
   "id": "e27a1a90",
   "metadata": {
    "execution": {
     "iopub.execute_input": "2025-06-06T09:11:46.272978Z",
     "iopub.status.busy": "2025-06-06T09:11:46.272153Z",
     "iopub.status.idle": "2025-06-06T09:11:46.910517Z",
     "shell.execute_reply": "2025-06-06T09:11:46.909718Z"
    },
    "papermill": {
     "duration": 0.643356,
     "end_time": "2025-06-06T09:11:46.912179",
     "exception": false,
     "start_time": "2025-06-06T09:11:46.268823",
     "status": "completed"
    },
    "tags": []
   },
   "outputs": [],
   "source": [
    "# 1. Gather all image paths and labels\n",
    "base_dir = '/kaggle/input/chest-xray-pneumonia/chest_xray/'\n",
    "\n",
    "train_pneumonia_dir = os.path.join(base_dir, 'train/PNEUMONIA')\n",
    "train_normal_dir = os.path.join(base_dir, 'train/NORMAL')\n",
    "test_pneumonia_dir = os.path.join(base_dir, 'test/PNEUMONIA')\n",
    "test_normal_dir = os.path.join(base_dir, 'test/NORMAL')\n",
    "val_pneumonia_dir = os.path.join(base_dir, 'val/PNEUMONIA')\n",
    "val_normal_dir = os.path.join(base_dir, 'val/NORMAL')\n",
    "\n",
    "all_images = []\n",
    "all_labels = []\n",
    "\n",
    "for img_file in os.listdir(train_pneumonia_dir):\n",
    "    all_images.append(os.path.join(train_pneumonia_dir, img_file))\n",
    "    all_labels.append('PNEUMONIA')\n",
    "for img_file in os.listdir(train_normal_dir):\n",
    "    all_images.append(os.path.join(train_normal_dir, img_file))\n",
    "    all_labels.append('NORMAL')\n",
    "for img_file in os.listdir(test_pneumonia_dir):\n",
    "    all_images.append(os.path.join(test_pneumonia_dir, img_file))\n",
    "    all_labels.append('PNEUMONIA')\n",
    "for img_file in os.listdir(test_normal_dir):\n",
    "    all_images.append(os.path.join(test_normal_dir, img_file))\n",
    "    all_labels.append('NORMAL')\n",
    "for img_file in os.listdir(val_pneumonia_dir):\n",
    "    all_images.append(os.path.join(val_pneumonia_dir, img_file))\n",
    "    all_labels.append('PNEUMONIA')\n",
    "for img_file in os.listdir(val_normal_dir):\n",
    "    all_images.append(os.path.join(val_normal_dir, img_file))\n",
    "    all_labels.append('NORMAL')\n",
    "\n",
    "all_images = np.array(all_images)\n",
    "all_labels = np.array(all_labels)\n"
   ]
  },
  {
   "cell_type": "code",
   "execution_count": 3,
   "id": "d976e739",
   "metadata": {
    "execution": {
     "iopub.execute_input": "2025-06-06T09:11:46.918855Z",
     "iopub.status.busy": "2025-06-06T09:11:46.918546Z",
     "iopub.status.idle": "2025-06-06T09:11:46.935586Z",
     "shell.execute_reply": "2025-06-06T09:11:46.934522Z"
    },
    "papermill": {
     "duration": 0.022167,
     "end_time": "2025-06-06T09:11:46.937166",
     "exception": false,
     "start_time": "2025-06-06T09:11:46.914999",
     "status": "completed"
    },
    "tags": []
   },
   "outputs": [
    {
     "name": "stdout",
     "output_type": "stream",
     "text": [
      "Train: 1171, Val: 293, Test: 4392\n"
     ]
    }
   ],
   "source": [
    "# 75% test\n",
    "X_temp, X_test, y_temp, y_test = train_test_split(\n",
    "    all_images, all_labels, test_size=0.75, random_state=42, stratify=all_labels)\n",
    "\n",
    "# 5% val (of total, so 0.05/0.25 = 0.20 of what's left)\n",
    "X_train, X_val, y_train, y_val = train_test_split(\n",
    "    X_temp, y_temp, test_size=0.20, random_state=42, stratify=y_temp)\n",
    "\n",
    "print(f\"Train: {len(X_train)}, Val: {len(X_val)}, Test: {len(X_test)}\")\n"
   ]
  },
  {
   "cell_type": "code",
   "execution_count": 4,
   "id": "a738a1b0",
   "metadata": {
    "execution": {
     "iopub.execute_input": "2025-06-06T09:11:46.943929Z",
     "iopub.status.busy": "2025-06-06T09:11:46.943281Z",
     "iopub.status.idle": "2025-06-06T09:14:27.285874Z",
     "shell.execute_reply": "2025-06-06T09:14:27.285116Z"
    },
    "papermill": {
     "duration": 160.347614,
     "end_time": "2025-06-06T09:14:27.287446",
     "exception": false,
     "start_time": "2025-06-06T09:11:46.939832",
     "status": "completed"
    },
    "tags": []
   },
   "outputs": [
    {
     "name": "stdout",
     "output_type": "stream",
     "text": [
      "Loading training images...\n"
     ]
    },
    {
     "name": "stderr",
     "output_type": "stream",
     "text": [
      "100%|██████████| 1171/1171 [00:33<00:00, 35.45it/s]\n"
     ]
    },
    {
     "name": "stdout",
     "output_type": "stream",
     "text": [
      "Loading validation images...\n"
     ]
    },
    {
     "name": "stderr",
     "output_type": "stream",
     "text": [
      "100%|██████████| 293/293 [00:08<00:00, 34.20it/s]\n"
     ]
    },
    {
     "name": "stdout",
     "output_type": "stream",
     "text": [
      "Loading test images...\n"
     ]
    },
    {
     "name": "stderr",
     "output_type": "stream",
     "text": [
      "100%|██████████| 4392/4392 [01:57<00:00, 37.37it/s]\n"
     ]
    }
   ],
   "source": [
    "# 3. Load and preprocess images\n",
    "def load_and_preprocess_images(image_paths, target_size=(150, 150)):\n",
    "    images = []\n",
    "    for img_path in tqdm(image_paths):\n",
    "        try:\n",
    "            img = cv2.imread(img_path)\n",
    "            img = cv2.resize(img, target_size)\n",
    "            img = cv2.cvtColor(img, cv2.COLOR_BGR2RGB)\n",
    "            images.append(img)\n",
    "        except Exception as e:\n",
    "            print(f\"Error loading {img_path}: {e}\")\n",
    "    return np.array(images)\n",
    "\n",
    "print(\"Loading training images...\")\n",
    "X_train_images = load_and_preprocess_images(X_train)\n",
    "print(\"Loading validation images...\")\n",
    "X_val_images = load_and_preprocess_images(X_val)\n",
    "print(\"Loading test images...\")\n",
    "X_test_images = load_and_preprocess_images(X_test)\n",
    "\n",
    "def flatten_and_normalize(images):\n",
    "    n_samples = images.shape[0]\n",
    "    h, w, c = images.shape[1], images.shape[2], images.shape[3]\n",
    "    X_flat = images.reshape(n_samples, h*w*c).astype('float32') / 255.0\n",
    "    return X_flat\n",
    "\n",
    "X_train_flat = flatten_and_normalize(X_train_images)\n",
    "X_val_flat = flatten_and_normalize(X_val_images)\n",
    "X_test_flat = flatten_and_normalize(X_test_images)"
   ]
  },
  {
   "cell_type": "code",
   "execution_count": 5,
   "id": "794b53d6",
   "metadata": {
    "execution": {
     "iopub.execute_input": "2025-06-06T09:14:27.475650Z",
     "iopub.status.busy": "2025-06-06T09:14:27.475085Z",
     "iopub.status.idle": "2025-06-06T09:14:35.057034Z",
     "shell.execute_reply": "2025-06-06T09:14:35.055851Z"
    },
    "papermill": {
     "duration": 7.710817,
     "end_time": "2025-06-06T09:14:35.058613",
     "exception": false,
     "start_time": "2025-06-06T09:14:27.347796",
     "status": "completed"
    },
    "tags": []
   },
   "outputs": [
    {
     "name": "stdout",
     "output_type": "stream",
     "text": [
      "Fitting PCA...\n",
      "PCA reduced to 200 components.\n"
     ]
    }
   ],
   "source": [
    "# 4. PCA\n",
    "n_components = 200  # Tune as needed\n",
    "print(\"Fitting PCA...\")\n",
    "pca = PCA(n_components=n_components, random_state=42)\n",
    "X_train_pca = pca.fit_transform(X_train_flat)\n",
    "X_val_pca = pca.transform(X_val_flat)\n",
    "X_test_pca = pca.transform(X_test_flat)\n",
    "print(f\"PCA reduced to {n_components} components.\")"
   ]
  },
  {
   "cell_type": "code",
   "execution_count": 6,
   "id": "3779f061",
   "metadata": {
    "execution": {
     "iopub.execute_input": "2025-06-06T09:14:35.176428Z",
     "iopub.status.busy": "2025-06-06T09:14:35.176055Z",
     "iopub.status.idle": "2025-06-06T09:14:35.184588Z",
     "shell.execute_reply": "2025-06-06T09:14:35.183742Z"
    },
    "papermill": {
     "duration": 0.069582,
     "end_time": "2025-06-06T09:14:35.185987",
     "exception": false,
     "start_time": "2025-06-06T09:14:35.116405",
     "status": "completed"
    },
    "tags": []
   },
   "outputs": [
    {
     "name": "stdout",
     "output_type": "stream",
     "text": [
      "Class mapping: {'NORMAL': 0, 'PNEUMONIA': 1}\n"
     ]
    }
   ],
   "source": [
    "# 5. Encode labels\n",
    "label_encoder = LabelEncoder()\n",
    "y_train_enc = label_encoder.fit_transform(y_train)\n",
    "y_val_enc = label_encoder.transform(y_val)\n",
    "y_test_enc = label_encoder.transform(y_test)\n",
    "print(f\"Class mapping: {dict(zip(label_encoder.classes_, range(len(label_encoder.classes_))))}\")\n"
   ]
  },
  {
   "cell_type": "code",
   "execution_count": 7,
   "id": "91c47c97",
   "metadata": {
    "execution": {
     "iopub.execute_input": "2025-06-06T09:14:35.304001Z",
     "iopub.status.busy": "2025-06-06T09:14:35.303688Z",
     "iopub.status.idle": "2025-06-06T09:14:35.308506Z",
     "shell.execute_reply": "2025-06-06T09:14:35.307591Z"
    },
    "papermill": {
     "duration": 0.066133,
     "end_time": "2025-06-06T09:14:35.309946",
     "exception": false,
     "start_time": "2025-06-06T09:14:35.243813",
     "status": "completed"
    },
    "tags": []
   },
   "outputs": [],
   "source": [
    "# 6. Train XGBoost\n",
    "xgb_model = XGBClassifier(\n",
    "    objective='binary:logistic',\n",
    "    max_depth=6,\n",
    "    learning_rate=0.1,\n",
    "    n_estimators=200,\n",
    "    subsample=0.8,\n",
    "    colsample_bytree=0.8,\n",
    "    random_state=42,\n",
    "    eval_metric='logloss',\n",
    "    verbosity=1\n",
    ")"
   ]
  },
  {
   "cell_type": "code",
   "execution_count": 8,
   "id": "2cefd527",
   "metadata": {
    "execution": {
     "iopub.execute_input": "2025-06-06T09:14:35.429570Z",
     "iopub.status.busy": "2025-06-06T09:14:35.429183Z",
     "iopub.status.idle": "2025-06-06T09:14:37.149341Z",
     "shell.execute_reply": "2025-06-06T09:14:37.148547Z"
    },
    "papermill": {
     "duration": 1.782745,
     "end_time": "2025-06-06T09:14:37.151270",
     "exception": false,
     "start_time": "2025-06-06T09:14:35.368525",
     "status": "completed"
    },
    "tags": []
   },
   "outputs": [
    {
     "name": "stdout",
     "output_type": "stream",
     "text": [
      "Training XGBoost with PCA features...\n",
      "[0]\tvalidation_0-logloss:0.56757\n",
      "[1]\tvalidation_0-logloss:0.52841\n",
      "[2]\tvalidation_0-logloss:0.49196\n",
      "[3]\tvalidation_0-logloss:0.46173\n"
     ]
    },
    {
     "name": "stderr",
     "output_type": "stream",
     "text": [
      "/usr/local/lib/python3.11/dist-packages/xgboost/sklearn.py:889: UserWarning: `early_stopping_rounds` in `fit` method is deprecated for better compatibility with scikit-learn, use `early_stopping_rounds` in constructor or`set_params` instead.\n",
      "  warnings.warn(\n"
     ]
    },
    {
     "name": "stdout",
     "output_type": "stream",
     "text": [
      "[4]\tvalidation_0-logloss:0.43853\n",
      "[5]\tvalidation_0-logloss:0.42018\n",
      "[6]\tvalidation_0-logloss:0.40263\n",
      "[7]\tvalidation_0-logloss:0.39501\n",
      "[8]\tvalidation_0-logloss:0.38291\n",
      "[9]\tvalidation_0-logloss:0.37451\n",
      "[10]\tvalidation_0-logloss:0.36631\n",
      "[11]\tvalidation_0-logloss:0.35704\n",
      "[12]\tvalidation_0-logloss:0.34574\n",
      "[13]\tvalidation_0-logloss:0.34142\n",
      "[14]\tvalidation_0-logloss:0.33692\n",
      "[15]\tvalidation_0-logloss:0.33662\n",
      "[16]\tvalidation_0-logloss:0.32981\n",
      "[17]\tvalidation_0-logloss:0.32291\n",
      "[18]\tvalidation_0-logloss:0.31684\n",
      "[19]\tvalidation_0-logloss:0.31292\n",
      "[20]\tvalidation_0-logloss:0.30651\n",
      "[21]\tvalidation_0-logloss:0.30662\n",
      "[22]\tvalidation_0-logloss:0.30658\n",
      "[23]\tvalidation_0-logloss:0.30417\n",
      "[24]\tvalidation_0-logloss:0.30372\n",
      "[25]\tvalidation_0-logloss:0.30283\n",
      "[26]\tvalidation_0-logloss:0.29798\n",
      "[27]\tvalidation_0-logloss:0.29361\n",
      "[28]\tvalidation_0-logloss:0.29353\n",
      "[29]\tvalidation_0-logloss:0.29047\n",
      "[30]\tvalidation_0-logloss:0.28692\n",
      "[31]\tvalidation_0-logloss:0.28370\n",
      "[32]\tvalidation_0-logloss:0.28109\n",
      "[33]\tvalidation_0-logloss:0.28331\n",
      "[34]\tvalidation_0-logloss:0.28229\n",
      "[35]\tvalidation_0-logloss:0.28030\n",
      "[36]\tvalidation_0-logloss:0.27795\n",
      "[37]\tvalidation_0-logloss:0.27703\n",
      "[38]\tvalidation_0-logloss:0.27848\n",
      "[39]\tvalidation_0-logloss:0.27924\n",
      "[40]\tvalidation_0-logloss:0.27849\n",
      "[41]\tvalidation_0-logloss:0.27630\n",
      "[42]\tvalidation_0-logloss:0.27637\n",
      "[43]\tvalidation_0-logloss:0.27564\n",
      "[44]\tvalidation_0-logloss:0.27393\n",
      "[45]\tvalidation_0-logloss:0.27318\n",
      "[46]\tvalidation_0-logloss:0.27375\n",
      "[47]\tvalidation_0-logloss:0.27314\n",
      "[48]\tvalidation_0-logloss:0.27230\n",
      "[49]\tvalidation_0-logloss:0.27064\n",
      "[50]\tvalidation_0-logloss:0.26958\n",
      "[51]\tvalidation_0-logloss:0.27022\n",
      "[52]\tvalidation_0-logloss:0.26889\n",
      "[53]\tvalidation_0-logloss:0.27034\n",
      "[54]\tvalidation_0-logloss:0.26975\n",
      "[55]\tvalidation_0-logloss:0.26971\n",
      "[56]\tvalidation_0-logloss:0.27055\n",
      "[57]\tvalidation_0-logloss:0.27087\n",
      "[58]\tvalidation_0-logloss:0.27104\n",
      "[59]\tvalidation_0-logloss:0.27103\n",
      "[60]\tvalidation_0-logloss:0.27051\n",
      "[61]\tvalidation_0-logloss:0.27046\n",
      "[62]\tvalidation_0-logloss:0.27162\n",
      "[63]\tvalidation_0-logloss:0.27148\n",
      "[64]\tvalidation_0-logloss:0.27083\n",
      "[65]\tvalidation_0-logloss:0.27063\n",
      "[66]\tvalidation_0-logloss:0.27081\n",
      "[67]\tvalidation_0-logloss:0.27170\n",
      "[68]\tvalidation_0-logloss:0.27175\n",
      "[69]\tvalidation_0-logloss:0.27291\n",
      "[70]\tvalidation_0-logloss:0.27299\n",
      "[71]\tvalidation_0-logloss:0.27243\n",
      "Evaluating...\n",
      "\n",
      "XGBOOST RESULTS\n",
      "Training Accuracy: 1.0000 (100.00%)\n",
      "Validation Accuracy: 0.9044 (90.44%)\n",
      "Test Accuracy: 0.9057 (90.57%)\n",
      "\n",
      "Classification Report (Test):\n",
      "              precision    recall  f1-score   support\n",
      "\n",
      "      NORMAL       0.89      0.75      0.81      1187\n",
      "   PNEUMONIA       0.91      0.96      0.94      3205\n",
      "\n",
      "    accuracy                           0.91      4392\n",
      "   macro avg       0.90      0.86      0.87      4392\n",
      "weighted avg       0.90      0.91      0.90      4392\n",
      "\n"
     ]
    },
    {
     "data": {
      "image/png": "[encoded data removed]",
      "text/plain": [
       "<Figure size 600x500 with 2 Axes>"
      ]
     },
     "metadata": {},
     "output_type": "display_data"
    }
   ],
   "source": [
    "print(\"Training XGBoost with PCA features...\")\n",
    "xgb_model.fit(\n",
    "    X_train_pca, y_train_enc,\n",
    "    eval_set=[(X_val_pca, y_val_enc)],\n",
    "    early_stopping_rounds=20,\n",
    "    verbose=True\n",
    ")\n",
    "\n",
    "\n",
    "# 7. Evaluation\n",
    "print(\"Evaluating...\")\n",
    "y_pred_train = xgb_model.predict(X_train_pca)\n",
    "y_pred_val = xgb_model.predict(X_val_pca)\n",
    "y_pred_test = xgb_model.predict(X_test_pca)\n",
    "\n",
    "train_acc = accuracy_score(y_train_enc, y_pred_train)\n",
    "val_acc = accuracy_score(y_val_enc, y_pred_val)\n",
    "test_acc = accuracy_score(y_test_enc, y_pred_test)\n",
    "\n",
    "print(\"\\nXGBOOST RESULTS\")\n",
    "print(f\"Training Accuracy: {train_acc:.4f} ({train_acc:.2%})\")\n",
    "print(f\"Validation Accuracy: {val_acc:.4f} ({val_acc:.2%})\")\n",
    "print(f\"Test Accuracy: {test_acc:.4f} ({test_acc:.2%})\")\n",
    "\n",
    "print(\"\\nClassification Report (Test):\")\n",
    "print(classification_report(y_test_enc, y_pred_test, target_names=label_encoder.classes_))\n",
    "\n",
    "cm = confusion_matrix(y_test_enc, y_pred_test)\n",
    "plt.figure(figsize=(6, 5))\n",
    "sns.heatmap(cm, annot=True, fmt='d', cmap='Blues',\n",
    "            xticklabels=label_encoder.classes_,\n",
    "            yticklabels=label_encoder.classes_)\n",
    "plt.title('PCA+XGBoost Chest X-Ray Classification - Confusion Matrix')\n",
    "plt.ylabel('True Label')\n",
    "plt.xlabel('Predicted Label')\n",
    "plt.show()"
   ]
  },
  {
   "cell_type": "code",
   "execution_count": null,
   "id": "c524f010",
   "metadata": {
    "papermill": {
     "duration": 0.061041,
     "end_time": "2025-06-06T09:14:37.276571",
     "exception": false,
     "start_time": "2025-06-06T09:14:37.215530",
     "status": "completed"
    },
    "tags": []
   },
   "outputs": [],
   "source": []
  },
  {
   "cell_type": "code",
   "execution_count": null,
   "id": "ed853f9e",
   "metadata": {
    "papermill": {
     "duration": 0.061164,
     "end_time": "2025-06-06T09:14:37.399080",
     "exception": false,
     "start_time": "2025-06-06T09:14:37.337916",
     "status": "completed"
    },
    "tags": []
   },
   "outputs": [],
   "source": []
  }
 ],
 "metadata": {
  "kaggle": {
   "accelerator": "none",
   "dataSources": [
    {
     "datasetId": 17810,
     "sourceId": 23812,
     "sourceType": "datasetVersion"
    }
   ],
   "dockerImageVersionId": 31040,
   "isGpuEnabled": false,
   "isInternetEnabled": true,
   "language": "python",
   "sourceType": "notebook"
  },
  "kernelspec": {
   "display_name": "Python 3",
   "language": "python",
   "name": "python3"
  },
  "language_info": {
   "codemirror_mode": {
    "name": "ipython",
    "version": 3
   },
   "file_extension": ".py",
   "mimetype": "text/x-python",
   "name": "python",
   "nbconvert_exporter": "python",
   "pygments_lexer": "ipython3",
   "version": "3.11.11"
  },
  "papermill": {
   "default_parameters": {},
   "duration": 181.733944,
   "end_time": "2025-06-06T09:14:38.281400",
   "environment_variables": {},
   "exception": null,
   "input_path": "__notebook__.ipynb",
   "output_path": "__notebook__.ipynb",
   "parameters": {},
   "start_time": "2025-06-06T09:11:36.547456",
   "version": "2.6.0"
  }
 },
 "nbformat": 4,
 "nbformat_minor": 5
}
