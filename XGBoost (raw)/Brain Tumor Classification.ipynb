{
  "nbformat": 4,
  "nbformat_minor": 0,
  "metadata": {
    "colab": {
      "provenance": []
    },
    "kernelspec": {
      "name": "python3",
      "display_name": "Python 3"
    },
    "language_info": {
      "name": "python"
    }
  },
  "cells": [
    {
      "cell_type": "code",
      "execution_count": 1,
      "metadata": {
        "id": "XfKfArX0YAxR"
      },
      "outputs": [],
      "source": [
        "import os\n",
        "import numpy as np\n",
        "import pandas as pd\n",
        "from PIL import Image\n",
        "import cv2\n",
        "from sklearn.model_selection import train_test_split\n",
        "from sklearn.preprocessing import LabelEncoder\n",
        "from sklearn.metrics import accuracy_score, classification_report, confusion_matrix\n",
        "import xgboost as xgb\n",
        "from xgboost import XGBClassifier\n",
        "import matplotlib.pyplot as plt\n",
        "import seaborn as sns\n",
        "\n"
      ]
    },
    {
      "cell_type": "code",
      "source": [
        "from google.colab import files\n",
        "uploaded = files.upload()"
      ],
      "metadata": {
        "colab": {
          "base_uri": "https://localhost:8080/",
          "height": 73
        },
        "id": "XlcofvJYasCh",
        "outputId": "2b78d9f4-76da-4d5d-e7ff-6f236934559d"
      },
      "execution_count": 2,
      "outputs": [
        {
          "output_type": "display_data",
          "data": {
            "text/plain": [
              "<IPython.core.display.HTML object>"
            ],
            "text/html": [
              "\n",
              "     <input type=\"file\" id=\"files-81e07553-26e2-4500-9a9a-68821ce46adf\" name=\"files[]\" multiple disabled\n",
              "        style=\"border:none\" />\n",
              "     <output id=\"result-81e07553-26e2-4500-9a9a-68821ce46adf\">\n",
              "      Upload widget is only available when the cell has been executed in the\n",
              "      current browser session. Please rerun this cell to enable.\n",
              "      </output>\n",
              "      <script>// Copyright 2017 Google LLC\n",
              "//\n",
              "// Licensed under the Apache License, Version 2.0 (the \"License\");\n",
              "// you may not use this file except in compliance with the License.\n",
              "// You may obtain a copy of the License at\n",
              "//\n",
              "//      http://www.apache.org/licenses/LICENSE-2.0\n",
              "//\n",
              "// Unless required by applicable law or agreed to in writing, software\n",
              "// distributed under the License is distributed on an \"AS IS\" BASIS,\n",
              "// WITHOUT WARRANTIES OR CONDITIONS OF ANY KIND, either express or implied.\n",
              "// See the License for the specific language governing permissions and\n",
              "// limitations under the License.\n",
              "\n",
              "/**\n",
              " * @fileoverview Helpers for google.colab Python module.\n",
              " */\n",
              "(function(scope) {\n",
              "function span(text, styleAttributes = {}) {\n",
              "  const element = document.createElement('span');\n",
              "  element.textContent = text;\n",
              "  for (const key of Object.keys(styleAttributes)) {\n",
              "    element.style[key] = styleAttributes[key];\n",
              "  }\n",
              "  return element;\n",
              "}\n",
              "\n",
              "// Max number of bytes which will be uploaded at a time.\n",
              "const MAX_PAYLOAD_SIZE = 100 * 1024;\n",
              "\n",
              "function _uploadFiles(inputId, outputId) {\n",
              "  const steps = uploadFilesStep(inputId, outputId);\n",
              "  const outputElement = document.getElementById(outputId);\n",
              "  // Cache steps on the outputElement to make it available for the next call\n",
              "  // to uploadFilesContinue from Python.\n",
              "  outputElement.steps = steps;\n",
              "\n",
              "  return _uploadFilesContinue(outputId);\n",
              "}\n",
              "\n",
              "// This is roughly an async generator (not supported in the browser yet),\n",
              "// where there are multiple asynchronous steps and the Python side is going\n",
              "// to poll for completion of each step.\n",
              "// This uses a Promise to block the python side on completion of each step,\n",
              "// then passes the result of the previous step as the input to the next step.\n",
              "function _uploadFilesContinue(outputId) {\n",
              "  const outputElement = document.getElementById(outputId);\n",
              "  const steps = outputElement.steps;\n",
              "\n",
              "  const next = steps.next(outputElement.lastPromiseValue);\n",
              "  return Promise.resolve(next.value.promise).then((value) => {\n",
              "    // Cache the last promise value to make it available to the next\n",
              "    // step of the generator.\n",
              "    outputElement.lastPromiseValue = value;\n",
              "    return next.value.response;\n",
              "  });\n",
              "}\n",
              "\n",
              "/**\n",
              " * Generator function which is called between each async step of the upload\n",
              " * process.\n",
              " * @param {string} inputId Element ID of the input file picker element.\n",
              " * @param {string} outputId Element ID of the output display.\n",
              " * @return {!Iterable<!Object>} Iterable of next steps.\n",
              " */\n",
              "function* uploadFilesStep(inputId, outputId) {\n",
              "  const inputElement = document.getElementById(inputId);\n",
              "  inputElement.disabled = false;\n",
              "\n",
              "  const outputElement = document.getElementById(outputId);\n",
              "  outputElement.innerHTML = '';\n",
              "\n",
              "  const pickedPromise = new Promise((resolve) => {\n",
              "    inputElement.addEventListener('change', (e) => {\n",
              "      resolve(e.target.files);\n",
              "    });\n",
              "  });\n",
              "\n",
              "  const cancel = document.createElement('button');\n",
              "  inputElement.parentElement.appendChild(cancel);\n",
              "  cancel.textContent = 'Cancel upload';\n",
              "  const cancelPromise = new Promise((resolve) => {\n",
              "    cancel.onclick = () => {\n",
              "      resolve(null);\n",
              "    };\n",
              "  });\n",
              "\n",
              "  // Wait for the user to pick the files.\n",
              "  const files = yield {\n",
              "    promise: Promise.race([pickedPromise, cancelPromise]),\n",
              "    response: {\n",
              "      action: 'starting',\n",
              "    }\n",
              "  };\n",
              "\n",
              "  cancel.remove();\n",
              "\n",
              "  // Disable the input element since further picks are not allowed.\n",
              "  inputElement.disabled = true;\n",
              "\n",
              "  if (!files) {\n",
              "    return {\n",
              "      response: {\n",
              "        action: 'complete',\n",
              "      }\n",
              "    };\n",
              "  }\n",
              "\n",
              "  for (const file of files) {\n",
              "    const li = document.createElement('li');\n",
              "    li.append(span(file.name, {fontWeight: 'bold'}));\n",
              "    li.append(span(\n",
              "        `(${file.type || 'n/a'}) - ${file.size} bytes, ` +\n",
              "        `last modified: ${\n",
              "            file.lastModifiedDate ? file.lastModifiedDate.toLocaleDateString() :\n",
              "                                    'n/a'} - `));\n",
              "    const percent = span('0% done');\n",
              "    li.appendChild(percent);\n",
              "\n",
              "    outputElement.appendChild(li);\n",
              "\n",
              "    const fileDataPromise = new Promise((resolve) => {\n",
              "      const reader = new FileReader();\n",
              "      reader.onload = (e) => {\n",
              "        resolve(e.target.result);\n",
              "      };\n",
              "      reader.readAsArrayBuffer(file);\n",
              "    });\n",
              "    // Wait for the data to be ready.\n",
              "    let fileData = yield {\n",
              "      promise: fileDataPromise,\n",
              "      response: {\n",
              "        action: 'continue',\n",
              "      }\n",
              "    };\n",
              "\n",
              "    // Use a chunked sending to avoid message size limits. See b/62115660.\n",
              "    let position = 0;\n",
              "    do {\n",
              "      const length = Math.min(fileData.byteLength - position, MAX_PAYLOAD_SIZE);\n",
              "      const chunk = new Uint8Array(fileData, position, length);\n",
              "      position += length;\n",
              "\n",
              "      const base64 = btoa(String.fromCharCode.apply(null, chunk));\n",
              "      yield {\n",
              "        response: {\n",
              "          action: 'append',\n",
              "          file: file.name,\n",
              "          data: base64,\n",
              "        },\n",
              "      };\n",
              "\n",
              "      let percentDone = fileData.byteLength === 0 ?\n",
              "          100 :\n",
              "          Math.round((position / fileData.byteLength) * 100);\n",
              "      percent.textContent = `${percentDone}% done`;\n",
              "\n",
              "    } while (position < fileData.byteLength);\n",
              "  }\n",
              "\n",
              "  // All done.\n",
              "  yield {\n",
              "    response: {\n",
              "      action: 'complete',\n",
              "    }\n",
              "  };\n",
              "}\n",
              "\n",
              "scope.google = scope.google || {};\n",
              "scope.google.colab = scope.google.colab || {};\n",
              "scope.google.colab._files = {\n",
              "  _uploadFiles,\n",
              "  _uploadFilesContinue,\n",
              "};\n",
              "})(self);\n",
              "</script> "
            ]
          },
          "metadata": {}
        },
        {
          "output_type": "stream",
          "name": "stdout",
          "text": [
            "Saving kaggle.json to kaggle (2).json\n"
          ]
        }
      ]
    },
    {
      "cell_type": "code",
      "source": [
        "!mkdir -p ~/.kaggle\n",
        "!cp kaggle.json ~/.kaggle/\n",
        "!chmod 600 ~/.kaggle/kaggle.json\n"
      ],
      "metadata": {
        "id": "lEZJZ-PbasEw"
      },
      "execution_count": 3,
      "outputs": []
    },
    {
      "cell_type": "code",
      "source": [
        "import kagglehub\n",
        "\n",
        "# Download the latest version of the dataset\n",
        "path = kagglehub.dataset_download(\"sartajbhuvaji/brain-tumor-classification-mri\")\n",
        "\n",
        "print(\"Path to dataset files:\", path)\n",
        "\n"
      ],
      "metadata": {
        "colab": {
          "base_uri": "https://localhost:8080/"
        },
        "id": "4_SvYpHIasGw",
        "outputId": "fd782588-2efe-4475-92a9-ca8e743be2ac"
      },
      "execution_count": 4,
      "outputs": [
        {
          "output_type": "stream",
          "name": "stdout",
          "text": [
            "Path to dataset files: /kaggle/input/brain-tumor-classification-mri\n"
          ]
        }
      ]
    },
    {
      "cell_type": "code",
      "source": [
        "# Base directory for brain tumor dataset\n",
        "base_dir = '/kaggle/input/brain-tumor-classification-mri'  # Verify this path!\n",
        "train_dir = os.path.join(base_dir, 'Training')\n",
        "test_dir = os.path.join(base_dir, 'Testing')\n",
        "\n",
        "# Define tumor classes\n",
        "classes = ['glioma_tumor', 'meningioma_tumor', 'pituitary_tumor', 'no_tumor']\n",
        "\n",
        "# Initialize containers\n",
        "train_imgs = {cls: [] for cls in classes}\n",
        "test_imgs = {cls: [] for cls in classes}\n",
        "val_imgs = {cls: [] for cls in classes}\n",
        "\n",
        "# Load training images\n",
        "for cls in classes:\n",
        "    cls_dir = os.path.join(train_dir, cls)\n",
        "    train_imgs[cls] = [os.path.join(cls_dir, f) for f in os.listdir(cls_dir)\n",
        "                      if f.lower().endswith(('.png', '.jpg', '.jpeg'))]\n",
        "\n",
        "# Load test images\n",
        "for cls in classes:\n",
        "    cls_dir = os.path.join(test_dir, cls)\n",
        "    test_imgs[cls] = [os.path.join(cls_dir, f) for f in os.listdir(cls_dir)\n",
        "                     if f.lower().endswith(('.png', '.jpg', '.jpeg'))]\n",
        "\n",
        "# Create validation split (15% of training data)\n",
        "from sklearn.model_selection import train_test_split\n",
        "\n",
        "train_split = {cls: [] for cls in classes}\n",
        "val_split = {cls: [] for cls in classes}\n",
        "\n",
        "for cls in classes:\n",
        "    train_split[cls], val_split[cls] = train_test_split(\n",
        "        train_imgs[cls],\n",
        "        test_size=0.15,\n",
        "        random_state=42,\n",
        "        shuffle=True\n",
        "    )\n",
        "\n",
        "# Flatten into lists\n",
        "all_train = []\n",
        "all_test = []\n",
        "all_val = []\n",
        "\n",
        "for cls in classes:\n",
        "    all_train.extend(train_split[cls])\n",
        "    all_test.extend(test_imgs[cls])\n",
        "    all_val.extend(val_split[cls])\n",
        "\n",
        "# Print statistics\n",
        "print(\"Total images:\", len(all_train) + len(all_test) + len(all_val))\n",
        "print(\"Total training images:\", len(all_train))\n",
        "print(\"Total validation images:\", len(all_val))\n",
        "print(\"Total testing images:\", len(all_test))\n",
        "\n"
      ],
      "metadata": {
        "colab": {
          "base_uri": "https://localhost:8080/"
        },
        "id": "P9VEdkCJasNk",
        "outputId": "87489ddc-137a-40c2-e1dd-16a333536d18"
      },
      "execution_count": 5,
      "outputs": [
        {
          "output_type": "stream",
          "name": "stdout",
          "text": [
            "Total images: 3264\n",
            "Total training images: 2437\n",
            "Total validation images: 433\n",
            "Total testing images: 394\n"
          ]
        }
      ]
    },
    {
      "cell_type": "code",
      "source": [
        "import os\n",
        "import random\n",
        "\n",
        "# Use the correct base directory and class names\n",
        "base_dir = '/kaggle/input/brain-tumor-classification-mri'\n",
        "classes = ['glioma_tumor', 'meningioma_tumor', 'pituitary_tumor', 'no_tumor']\n",
        "\n",
        "# Collect all image paths for each class from Training and Testing folders\n",
        "class_images = {cls: [] for cls in classes}\n",
        "\n",
        "for cls in classes:\n",
        "    train_dir = os.path.join(base_dir, 'Training', cls)\n",
        "    test_dir = os.path.join(base_dir, 'Testing', cls)\n",
        "    if os.path.exists(train_dir):\n",
        "        class_images[cls].extend([os.path.join(train_dir, f) for f in os.listdir(train_dir) if f.lower().endswith(('.png', '.jpg', '.jpeg'))])\n",
        "    if os.path.exists(test_dir):\n",
        "        class_images[cls].extend([os.path.join(test_dir, f) for f in os.listdir(test_dir) if f.lower().endswith(('.png', '.jpg', '.jpeg'))])\n",
        "\n",
        "# Use dedicated random generator for reproducibility\n",
        "rng = random.Random(10)\n",
        "\n",
        "# Split 80% train, 5% val, 15% test for each class\n",
        "train_split = {cls: [] for cls in classes}\n",
        "val_split = {cls: [] for cls in classes}\n",
        "test_split = {cls: [] for cls in classes}\n",
        "\n",
        "for cls in classes:\n",
        "    imgs = class_images[cls]\n",
        "    rng.shuffle(imgs)\n",
        "    total = len(imgs)\n",
        "    train_size = int(0.8 * total)\n",
        "    val_size = int(0.05 * total)\n",
        "    test_size = total - train_size - val_size\n",
        "    train_split[cls] = imgs[:train_size]\n",
        "    val_split[cls] = imgs[train_size:train_size+val_size]\n",
        "    test_split[cls] = imgs[train_size+val_size:]\n",
        "\n",
        "# Flatten into lists\n",
        "all_train = []\n",
        "all_val = []\n",
        "all_test = []\n",
        "for cls in classes:\n",
        "    all_train.extend(train_split[cls])\n",
        "    all_val.extend(val_split[cls])\n",
        "    all_test.extend(test_split[cls])\n",
        "\n",
        "# Shuffle the final lists with the same RNG for reproducibility\n",
        "rng.shuffle(all_train)\n",
        "rng.shuffle(all_val)\n",
        "rng.shuffle(all_test)\n",
        "\n",
        "# Print statistics\n",
        "print(\"Total images:\", len(all_train) + len(all_val) + len(all_test))\n",
        "print(\"Total training images:\", len(all_train))\n",
        "print(\"Total validation images:\", len(all_val))\n",
        "print(\"Total testing images:\", len(all_test))\n"
      ],
      "metadata": {
        "colab": {
          "base_uri": "https://localhost:8080/"
        },
        "id": "rNCvK5A4akfn",
        "outputId": "def7345d-b8b7-439f-c06a-6a67ff346b50"
      },
      "execution_count": 6,
      "outputs": [
        {
          "output_type": "stream",
          "name": "stdout",
          "text": [
            "Total images: 3264\n",
            "Total training images: 2609\n",
            "Total validation images: 162\n",
            "Total testing images: 493\n"
          ]
        }
      ]
    },
    {
      "cell_type": "code",
      "source": [
        "def load_and_preprocess_images(image_paths, target_size=(150, 150)):\n",
        "    \"\"\"\n",
        "    Load and preprocess images following melanoma study approach\n",
        "    \"\"\"\n",
        "    images = []\n",
        "    labels = []\n",
        "\n",
        "    print(f\"Loading {len(image_paths)} images...\")\n",
        "\n",
        "    for img_path in image_paths:\n",
        "        try:\n",
        "            # Extract label from path\n",
        "            label = img_path.split('/')[-2]  # Get folder name as label\n",
        "\n",
        "            # Load and resize image\n",
        "            img = cv2.imread(img_path)\n",
        "            img = cv2.resize(img, target_size)\n",
        "            img = cv2.cvtColor(img, cv2.COLOR_BGR2RGB)\n",
        "\n",
        "            images.append(img)\n",
        "            labels.append(label)\n",
        "\n",
        "        except Exception as e:\n",
        "            print(f\"Error loading {img_path}: {e}\")\n",
        "\n",
        "    return np.array(images), np.array(labels)"
      ],
      "metadata": {
        "id": "AsXVcuMPhVWi"
      },
      "execution_count": 7,
      "outputs": []
    },
    {
      "cell_type": "code",
      "source": [
        "def preprocess_for_xgboost(images):\n",
        "    \"\"\"\n",
        "    Preprocess images for XGBoost: Reshaping, Flattening, Casting, Normalization\n",
        "    \"\"\"\n",
        "    # Flatten images: 150x150x3 = 67,500 features\n",
        "    n_samples = images.shape[0]\n",
        "    height, width, channels = images.shape[1], images.shape[2], images.shape[3]\n",
        "\n",
        "    # Flatten and normalize\n",
        "    X_flattened = images.reshape(n_samples, height * width * channels)\n",
        "    X_normalized = X_flattened.astype('float32') / 255.0\n",
        "\n",
        "    print(f\"Preprocessed data shape: {X_normalized.shape}\")\n",
        "    print(f\"Features: {X_normalized.shape[1]} (pixel-RGB values)\")\n",
        "\n",
        "    return X_normalized"
      ],
      "metadata": {
        "id": "QW_pi4vHhZOc"
      },
      "execution_count": 8,
      "outputs": []
    },
    {
      "cell_type": "code",
      "source": [
        "# Step 1: Load and preprocess training data\n",
        "X_train_images, y_train_labels = load_and_preprocess_images(all_train)\n",
        "X_train = preprocess_for_xgboost(X_train_images)\n",
        "\n",
        "# Step 2: Load and preprocess validation data\n",
        "X_val_images, y_val_labels = load_and_preprocess_images(all_val)\n",
        "X_val = preprocess_for_xgboost(X_val_images)\n",
        "\n",
        "# Step 3: Load and preprocess test data\n",
        "X_test_images, y_test_labels = load_and_preprocess_images(all_test)\n",
        "X_test = preprocess_for_xgboost(X_test_images)"
      ],
      "metadata": {
        "colab": {
          "base_uri": "https://localhost:8080/"
        },
        "id": "TyICZnt3hclX",
        "outputId": "e394b2e6-6c40-4b6f-d57c-03777139a45d"
      },
      "execution_count": 9,
      "outputs": [
        {
          "output_type": "stream",
          "name": "stdout",
          "text": [
            "Loading 2609 images...\n",
            "Preprocessed data shape: (2609, 67500)\n",
            "Features: 67500 (pixel-RGB values)\n",
            "Loading 162 images...\n",
            "Preprocessed data shape: (162, 67500)\n",
            "Features: 67500 (pixel-RGB values)\n",
            "Loading 493 images...\n",
            "Preprocessed data shape: (493, 67500)\n",
            "Features: 67500 (pixel-RGB values)\n"
          ]
        }
      ]
    },
    {
      "cell_type": "code",
      "source": [
        "# Step 4: Encode labels\n",
        "label_encoder = LabelEncoder()\n",
        "y_train = label_encoder.fit_transform(y_train_labels)\n",
        "y_val = label_encoder.transform(y_val_labels)\n",
        "y_test = label_encoder.transform(y_test_labels)\n",
        "\n",
        "print(f\"\\nClass mapping: {dict(zip(label_encoder.classes_, range(len(label_encoder.classes_))))}\")"
      ],
      "metadata": {
        "colab": {
          "base_uri": "https://localhost:8080/"
        },
        "id": "yaoNav1YhgvX",
        "outputId": "836c2c2e-7821-4eed-adb5-391d66837f2a"
      },
      "execution_count": null,
      "outputs": [
        {
          "output_type": "stream",
          "name": "stdout",
          "text": [
            "\n",
            "Class mapping: {np.str_('glioma_tumor'): 0, np.str_('meningioma_tumor'): 1, np.str_('no_tumor'): 2, np.str_('pituitary_tumor'): 3}\n"
          ]
        }
      ]
    },
    {
      "cell_type": "code",
      "source": [
        "# Step 5: XGBoost Model Configuration\n",
        "\n",
        "xgb_params = {\n",
        "    'objective': 'multi:softprob',  # Multi-class classification\n",
        "    'num_class': len(label_encoder.classes_),\n",
        "    'max_depth': 6,\n",
        "    'learning_rate': 0.1,\n",
        "    'n_estimators': 200,\n",
        "    'subsample': 0.8,\n",
        "    'colsample_bytree': 0.8,\n",
        "    'random_state': 42,\n",
        "    'eval_metric': 'mlogloss',\n",
        "    'verbosity': 1,\n",
        "    'early_stopping_rounds': 20\n",
        "}"
      ],
      "metadata": {
        "id": "VOyO4LwDhnTE"
      },
      "execution_count": null,
      "outputs": []
    },
    {
      "cell_type": "code",
      "source": [
        "# Initialize XGBoost classifier\n",
        "xgb_model = XGBClassifier(**xgb_params)\n",
        "\n",
        "# Train the model\n",
        "xgb_model.fit(\n",
        "    X_train, y_train,\n",
        "    eval_set=[(X_val, y_val)],\n",
        "    verbose=True\n",
        ")"
      ],
      "metadata": {
        "id": "4jL7Xy0_hvc4"
      },
      "execution_count": null,
      "outputs": []
    },
    {
      "cell_type": "code",
      "source": [
        "# Step 6: Make Predictions\n",
        "y_pred_train = xgb_model.predict(X_train)\n",
        "y_pred_val = xgb_model.predict(X_val)\n",
        "y_pred_test = xgb_model.predict(X_test)"
      ],
      "metadata": {
        "id": "_pmpsDr4iJW3"
      },
      "execution_count": null,
      "outputs": []
    },
    {
      "cell_type": "code",
      "source": [
        "# Step 7: Calculate Performance Metrics\n",
        "train_accuracy = accuracy_score(y_train, y_pred_train)\n",
        "val_accuracy = accuracy_score(y_val, y_pred_val)\n",
        "test_accuracy = accuracy_score(y_test, y_pred_test)\n",
        "\n",
        "print(f\"\\nXGBOOST RESULTS\")\n",
        "print(f\"Training Accuracy: {train_accuracy:.4f} ({train_accuracy:.2%})\")\n",
        "print(f\"Validation Accuracy: {val_accuracy:.4f} ({val_accuracy:.2%})\")\n",
        "print(f\"Test Accuracy: {test_accuracy:.4f} ({test_accuracy:.2%})\")\n"
      ],
      "metadata": {
        "id": "c86fr715iNgL"
      },
      "execution_count": null,
      "outputs": []
    },
    {
      "cell_type": "code",
      "source": [
        "# Step 8: Detailed Classification Report\n",
        "print(f\"\\nCLASSIFICATION REPORT \")\n",
        "print(classification_report(y_test, y_pred_test,\n",
        "                          target_names=label_encoder.classes_))\n",
        "\n",
        "# Step 9: Confusion Matrix\n",
        "cm = confusion_matrix(y_test, y_pred_test)\n",
        "plt.figure(figsize=(8, 6))\n",
        "sns.heatmap(cm, annot=True, fmt='d', cmap='Blues',\n",
        "            xticklabels=label_encoder.classes_,\n",
        "            yticklabels=label_encoder.classes_)\n",
        "plt.title('XGBoost Brain Tumor Classification - Confusion Matrix')\n",
        "plt.ylabel('True Label')\n",
        "plt.xlabel('Predicted Label')\n",
        "plt.show()"
      ],
      "metadata": {
        "id": "s7l314AYiQM8"
      },
      "execution_count": null,
      "outputs": []
    },
    {
      "cell_type": "code",
      "source": [
        "# Step 10: Feature Importance (Top 20)\n",
        "plt.figure(figsize=(10, 8))\n",
        "feature_importance = xgb_model.feature_importances_\n",
        "top_features = np.argsort(feature_importance)[-20:]\n",
        "\n",
        "plt.barh(range(len(top_features)), feature_importance[top_features])\n",
        "plt.title('Top 20 Feature Importances (Pixel Positions)')\n",
        "plt.xlabel('Importance Score')\n",
        "plt.ylabel('Feature Index (Pixel Position)')\n",
        "plt.show()\n",
        "\n",
        "print(f\"\\nFINAL RESULTS\")\n",
        "print(f\"XGBoost Test Accuracy: {test_accuracy:.2%}\")\n",
        "print(f\"Model trained on {len(all_train)} images\")\n",
        "print(f\"Validated on {len(all_val)} images\")\n",
        "print(f\"Tested on {len(all_test)} images\")\n"
      ],
      "metadata": {
        "id": "9t4ZTKrtg-tG"
      },
      "execution_count": null,
      "outputs": []
    },
    {
      "cell_type": "code",
      "source": [],
      "metadata": {
        "id": "aTUXJwSCg-_C"
      },
      "execution_count": null,
      "outputs": []
    }
  ]
}